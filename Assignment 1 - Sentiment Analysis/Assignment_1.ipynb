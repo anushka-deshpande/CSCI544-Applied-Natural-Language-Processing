{
  "cells": [
    {
      "cell_type": "markdown",
      "source": [
        "# Amazon Reviews Classification"
      ],
      "metadata": {
        "id": "cqrevuopljmH"
      }
    },
    {
      "cell_type": "markdown",
      "source": [
        "Submitted By: \n",
        "\n",
        "Anushka Deshpande \n",
        "\n",
        "USC ID: 5914802345"
      ],
      "metadata": {
        "id": "ykSuIMhgXmn2"
      }
    },
    {
      "cell_type": "markdown",
      "source": [
        "Sentiment Analysis is extensively used to study customer behaviors using\n",
        "reviews and survey responses, online and social media, and healthcare\n",
        "materials for marketing and costumer service applications. \n",
        "\n",
        "Here we try to predict the class of reviews / star ratings (either 1, 2, or 3) based on text reviews. "
      ],
      "metadata": {
        "id": "fytvYQs5lu7b"
      }
    },
    {
      "cell_type": "markdown",
      "source": [
        "Please Note: The following sections take upto 7 minutes each to run on Google Colaboratory. \n",
        "\n",
        "*   Lemmatization step\n",
        "*   TF_IDF vectorization step\n",
        "\n"
      ],
      "metadata": {
        "id": "VXFsMXjRXLAY"
      }
    },
    {
      "cell_type": "markdown",
      "source": [
        "Start with installing and importing some necessary libraries. "
      ],
      "metadata": {
        "id": "I4SEX3XWnuXc"
      }
    },
    {
      "cell_type": "code",
      "source": [
        "!pip install contractions"
      ],
      "metadata": {
        "colab": {
          "base_uri": "https://localhost:8080/"
        },
        "id": "4KiRe-5FmOqB",
        "outputId": "9958823a-038d-4956-d291-260b24b52954"
      },
      "execution_count": 1,
      "outputs": [
        {
          "output_type": "stream",
          "name": "stdout",
          "text": [
            "Looking in indexes: https://pypi.org/simple, https://us-python.pkg.dev/colab-wheels/public/simple/\n",
            "Collecting contractions\n",
            "  Downloading contractions-0.1.73-py2.py3-none-any.whl (8.7 kB)\n",
            "Collecting textsearch>=0.0.21\n",
            "  Downloading textsearch-0.0.24-py2.py3-none-any.whl (7.6 kB)\n",
            "Collecting anyascii\n",
            "  Downloading anyascii-0.3.1-py3-none-any.whl (287 kB)\n",
            "\u001b[2K     \u001b[90m━━━━━━━━━━━━━━━━━━━━━━━━━━━━━━━━━━━━━━━\u001b[0m \u001b[32m287.5/287.5 KB\u001b[0m \u001b[31m4.1 MB/s\u001b[0m eta \u001b[36m0:00:00\u001b[0m\n",
            "\u001b[?25hCollecting pyahocorasick\n",
            "  Downloading pyahocorasick-2.0.0-cp38-cp38-manylinux_2_5_x86_64.manylinux1_x86_64.whl (104 kB)\n",
            "\u001b[2K     \u001b[90m━━━━━━━━━━━━━━━━━━━━━━━━━━━━━━━━━━━━━━\u001b[0m \u001b[32m104.5/104.5 KB\u001b[0m \u001b[31m12.1 MB/s\u001b[0m eta \u001b[36m0:00:00\u001b[0m\n",
            "\u001b[?25hInstalling collected packages: pyahocorasick, anyascii, textsearch, contractions\n",
            "Successfully installed anyascii-0.3.1 contractions-0.1.73 pyahocorasick-2.0.0 textsearch-0.0.24\n"
          ]
        }
      ]
    },
    {
      "cell_type": "code",
      "source": [
        "!pip install scikit-learn"
      ],
      "metadata": {
        "colab": {
          "base_uri": "https://localhost:8080/"
        },
        "id": "HVhiSZWYmQTe",
        "outputId": "a4307c15-649a-4ac6-c561-c9ed85b0e58b"
      },
      "execution_count": 2,
      "outputs": [
        {
          "output_type": "stream",
          "name": "stdout",
          "text": [
            "Looking in indexes: https://pypi.org/simple, https://us-python.pkg.dev/colab-wheels/public/simple/\n",
            "Requirement already satisfied: scikit-learn in /usr/local/lib/python3.8/dist-packages (1.0.2)\n",
            "Requirement already satisfied: scipy>=1.1.0 in /usr/local/lib/python3.8/dist-packages (from scikit-learn) (1.7.3)\n",
            "Requirement already satisfied: numpy>=1.14.6 in /usr/local/lib/python3.8/dist-packages (from scikit-learn) (1.21.6)\n",
            "Requirement already satisfied: joblib>=0.11 in /usr/local/lib/python3.8/dist-packages (from scikit-learn) (1.2.0)\n",
            "Requirement already satisfied: threadpoolctl>=2.0.0 in /usr/local/lib/python3.8/dist-packages (from scikit-learn) (3.1.0)\n"
          ]
        }
      ]
    },
    {
      "cell_type": "code",
      "execution_count": 3,
      "metadata": {
        "id": "vZ9NySCA6kgm"
      },
      "outputs": [],
      "source": [
        "import re\n",
        "import nltk\n",
        "import pandas as pd\n",
        "import numpy as np\n",
        "import contractions\n",
        "\n",
        "from sklearn.metrics import precision_score, recall_score, f1_score, accuracy_score, classification_report\n",
        "\n",
        "#pd.set_option('display.max_colwidth', None)"
      ]
    },
    {
      "cell_type": "code",
      "source": [
        "nltk.download('averaged_perceptron_tagger')\n",
        "nltk.download('omw-1.4')\n",
        "nltk.download('wordnet')"
      ],
      "metadata": {
        "colab": {
          "base_uri": "https://localhost:8080/"
        },
        "id": "fQdu2KCAnkOy",
        "outputId": "e95d3de8-badd-4905-e4fc-f782673e37ce"
      },
      "execution_count": 4,
      "outputs": [
        {
          "output_type": "stream",
          "name": "stderr",
          "text": [
            "[nltk_data] Downloading package averaged_perceptron_tagger to\n",
            "[nltk_data]     /root/nltk_data...\n",
            "[nltk_data]   Unzipping taggers/averaged_perceptron_tagger.zip.\n",
            "[nltk_data] Downloading package omw-1.4 to /root/nltk_data...\n",
            "[nltk_data] Downloading package wordnet to /root/nltk_data...\n"
          ]
        },
        {
          "output_type": "execute_result",
          "data": {
            "text/plain": [
              "True"
            ]
          },
          "metadata": {},
          "execution_count": 4
        }
      ]
    },
    {
      "cell_type": "markdown",
      "metadata": {
        "id": "7Liy4a7M6kgp"
      },
      "source": [
        "## Read Main Dataset"
      ]
    },
    {
      "cell_type": "code",
      "execution_count": 5,
      "metadata": {
        "colab": {
          "base_uri": "https://localhost:8080/",
          "height": 566
        },
        "id": "n3ByoSkl6kgq",
        "outputId": "b0129cf3-0d79-4d51-aefd-e45b13be7058"
      },
      "outputs": [
        {
          "output_type": "stream",
          "name": "stderr",
          "text": [
            "/usr/local/lib/python3.8/dist-packages/IPython/core/interactiveshell.py:3326: DtypeWarning: Columns (7) have mixed types.Specify dtype option on import or set low_memory=False.\n",
            "  exec(code_obj, self.user_global_ns, self.user_ns)\n"
          ]
        },
        {
          "output_type": "execute_result",
          "data": {
            "text/plain": [
              "  marketplace  customer_id       review_id  product_id  product_parent  \\\n",
              "0          US      1797882  R3I2DHQBR577SS  B001ANOOOE         2102612   \n",
              "1          US     18381298  R1QNE9NQFJC2Y4  B0016J22EQ       106393691   \n",
              "2          US     19242472  R3LIDG2Q4LJBAO  B00HU6UQAG       375449471   \n",
              "3          US     19551372  R3KSZHPAEVPEAL  B002HWS7RM       255651889   \n",
              "4          US     14802407   RAI2OIG50KZ43  B00SM99KWU       116158747   \n",
              "\n",
              "                                       product_title product_category  \\\n",
              "0  The Naked Bee Vitmin C Moisturizing Sunscreen ...           Beauty   \n",
              "1      Alba Botanica Sunless Tanning Lotion, 4 Ounce           Beauty   \n",
              "2          Elysee Infusion Skin Therapy Elixir, 2oz.           Beauty   \n",
              "3  Diane D722 Color, Perm And Conditioner Process...           Beauty   \n",
              "4  Biore UV Aqua Rich Watery Essence SPF50+/PA+++...           Beauty   \n",
              "\n",
              "  star_rating  helpful_votes  total_votes vine verified_purchase  \\\n",
              "0           5            0.0          0.0    N                 Y   \n",
              "1           5            0.0          0.0    N                 Y   \n",
              "2           5            0.0          0.0    N                 Y   \n",
              "3           5            0.0          0.0    N                 Y   \n",
              "4           5            0.0          0.0    N                 Y   \n",
              "\n",
              "                                     review_headline  \\\n",
              "0                                         Five Stars   \n",
              "1                          Thank you Alba Bontanica!   \n",
              "2                                         Five Stars   \n",
              "3                                         GOOD DEAL!   \n",
              "4  this soaks in quick and provides a nice base f...   \n",
              "\n",
              "                                         review_body review_date  \n",
              "0                   Love this, excellent sun block!!  2015-08-31  \n",
              "1  The great thing about this cream is that it do...  2015-08-31  \n",
              "2  Great Product, I'm 65 years old and this is al...  2015-08-31  \n",
              "3  I use them as shower caps & conditioning caps....  2015-08-31  \n",
              "4  This is my go-to daily sunblock. It leaves no ...  2015-08-31  "
            ],
            "text/html": [
              "\n",
              "  <div id=\"df-d37b9dfb-e7d4-4183-9b58-403a20f4bdb5\">\n",
              "    <div class=\"colab-df-container\">\n",
              "      <div>\n",
              "<style scoped>\n",
              "    .dataframe tbody tr th:only-of-type {\n",
              "        vertical-align: middle;\n",
              "    }\n",
              "\n",
              "    .dataframe tbody tr th {\n",
              "        vertical-align: top;\n",
              "    }\n",
              "\n",
              "    .dataframe thead th {\n",
              "        text-align: right;\n",
              "    }\n",
              "</style>\n",
              "<table border=\"1\" class=\"dataframe\">\n",
              "  <thead>\n",
              "    <tr style=\"text-align: right;\">\n",
              "      <th></th>\n",
              "      <th>marketplace</th>\n",
              "      <th>customer_id</th>\n",
              "      <th>review_id</th>\n",
              "      <th>product_id</th>\n",
              "      <th>product_parent</th>\n",
              "      <th>product_title</th>\n",
              "      <th>product_category</th>\n",
              "      <th>star_rating</th>\n",
              "      <th>helpful_votes</th>\n",
              "      <th>total_votes</th>\n",
              "      <th>vine</th>\n",
              "      <th>verified_purchase</th>\n",
              "      <th>review_headline</th>\n",
              "      <th>review_body</th>\n",
              "      <th>review_date</th>\n",
              "    </tr>\n",
              "  </thead>\n",
              "  <tbody>\n",
              "    <tr>\n",
              "      <th>0</th>\n",
              "      <td>US</td>\n",
              "      <td>1797882</td>\n",
              "      <td>R3I2DHQBR577SS</td>\n",
              "      <td>B001ANOOOE</td>\n",
              "      <td>2102612</td>\n",
              "      <td>The Naked Bee Vitmin C Moisturizing Sunscreen ...</td>\n",
              "      <td>Beauty</td>\n",
              "      <td>5</td>\n",
              "      <td>0.0</td>\n",
              "      <td>0.0</td>\n",
              "      <td>N</td>\n",
              "      <td>Y</td>\n",
              "      <td>Five Stars</td>\n",
              "      <td>Love this, excellent sun block!!</td>\n",
              "      <td>2015-08-31</td>\n",
              "    </tr>\n",
              "    <tr>\n",
              "      <th>1</th>\n",
              "      <td>US</td>\n",
              "      <td>18381298</td>\n",
              "      <td>R1QNE9NQFJC2Y4</td>\n",
              "      <td>B0016J22EQ</td>\n",
              "      <td>106393691</td>\n",
              "      <td>Alba Botanica Sunless Tanning Lotion, 4 Ounce</td>\n",
              "      <td>Beauty</td>\n",
              "      <td>5</td>\n",
              "      <td>0.0</td>\n",
              "      <td>0.0</td>\n",
              "      <td>N</td>\n",
              "      <td>Y</td>\n",
              "      <td>Thank you Alba Bontanica!</td>\n",
              "      <td>The great thing about this cream is that it do...</td>\n",
              "      <td>2015-08-31</td>\n",
              "    </tr>\n",
              "    <tr>\n",
              "      <th>2</th>\n",
              "      <td>US</td>\n",
              "      <td>19242472</td>\n",
              "      <td>R3LIDG2Q4LJBAO</td>\n",
              "      <td>B00HU6UQAG</td>\n",
              "      <td>375449471</td>\n",
              "      <td>Elysee Infusion Skin Therapy Elixir, 2oz.</td>\n",
              "      <td>Beauty</td>\n",
              "      <td>5</td>\n",
              "      <td>0.0</td>\n",
              "      <td>0.0</td>\n",
              "      <td>N</td>\n",
              "      <td>Y</td>\n",
              "      <td>Five Stars</td>\n",
              "      <td>Great Product, I'm 65 years old and this is al...</td>\n",
              "      <td>2015-08-31</td>\n",
              "    </tr>\n",
              "    <tr>\n",
              "      <th>3</th>\n",
              "      <td>US</td>\n",
              "      <td>19551372</td>\n",
              "      <td>R3KSZHPAEVPEAL</td>\n",
              "      <td>B002HWS7RM</td>\n",
              "      <td>255651889</td>\n",
              "      <td>Diane D722 Color, Perm And Conditioner Process...</td>\n",
              "      <td>Beauty</td>\n",
              "      <td>5</td>\n",
              "      <td>0.0</td>\n",
              "      <td>0.0</td>\n",
              "      <td>N</td>\n",
              "      <td>Y</td>\n",
              "      <td>GOOD DEAL!</td>\n",
              "      <td>I use them as shower caps &amp; conditioning caps....</td>\n",
              "      <td>2015-08-31</td>\n",
              "    </tr>\n",
              "    <tr>\n",
              "      <th>4</th>\n",
              "      <td>US</td>\n",
              "      <td>14802407</td>\n",
              "      <td>RAI2OIG50KZ43</td>\n",
              "      <td>B00SM99KWU</td>\n",
              "      <td>116158747</td>\n",
              "      <td>Biore UV Aqua Rich Watery Essence SPF50+/PA+++...</td>\n",
              "      <td>Beauty</td>\n",
              "      <td>5</td>\n",
              "      <td>0.0</td>\n",
              "      <td>0.0</td>\n",
              "      <td>N</td>\n",
              "      <td>Y</td>\n",
              "      <td>this soaks in quick and provides a nice base f...</td>\n",
              "      <td>This is my go-to daily sunblock. It leaves no ...</td>\n",
              "      <td>2015-08-31</td>\n",
              "    </tr>\n",
              "  </tbody>\n",
              "</table>\n",
              "</div>\n",
              "      <button class=\"colab-df-convert\" onclick=\"convertToInteractive('df-d37b9dfb-e7d4-4183-9b58-403a20f4bdb5')\"\n",
              "              title=\"Convert this dataframe to an interactive table.\"\n",
              "              style=\"display:none;\">\n",
              "        \n",
              "  <svg xmlns=\"http://www.w3.org/2000/svg\" height=\"24px\"viewBox=\"0 0 24 24\"\n",
              "       width=\"24px\">\n",
              "    <path d=\"M0 0h24v24H0V0z\" fill=\"none\"/>\n",
              "    <path d=\"M18.56 5.44l.94 2.06.94-2.06 2.06-.94-2.06-.94-.94-2.06-.94 2.06-2.06.94zm-11 1L8.5 8.5l.94-2.06 2.06-.94-2.06-.94L8.5 2.5l-.94 2.06-2.06.94zm10 10l.94 2.06.94-2.06 2.06-.94-2.06-.94-.94-2.06-.94 2.06-2.06.94z\"/><path d=\"M17.41 7.96l-1.37-1.37c-.4-.4-.92-.59-1.43-.59-.52 0-1.04.2-1.43.59L10.3 9.45l-7.72 7.72c-.78.78-.78 2.05 0 2.83L4 21.41c.39.39.9.59 1.41.59.51 0 1.02-.2 1.41-.59l7.78-7.78 2.81-2.81c.8-.78.8-2.07 0-2.86zM5.41 20L4 18.59l7.72-7.72 1.47 1.35L5.41 20z\"/>\n",
              "  </svg>\n",
              "      </button>\n",
              "      \n",
              "  <style>\n",
              "    .colab-df-container {\n",
              "      display:flex;\n",
              "      flex-wrap:wrap;\n",
              "      gap: 12px;\n",
              "    }\n",
              "\n",
              "    .colab-df-convert {\n",
              "      background-color: #E8F0FE;\n",
              "      border: none;\n",
              "      border-radius: 50%;\n",
              "      cursor: pointer;\n",
              "      display: none;\n",
              "      fill: #1967D2;\n",
              "      height: 32px;\n",
              "      padding: 0 0 0 0;\n",
              "      width: 32px;\n",
              "    }\n",
              "\n",
              "    .colab-df-convert:hover {\n",
              "      background-color: #E2EBFA;\n",
              "      box-shadow: 0px 1px 2px rgba(60, 64, 67, 0.3), 0px 1px 3px 1px rgba(60, 64, 67, 0.15);\n",
              "      fill: #174EA6;\n",
              "    }\n",
              "\n",
              "    [theme=dark] .colab-df-convert {\n",
              "      background-color: #3B4455;\n",
              "      fill: #D2E3FC;\n",
              "    }\n",
              "\n",
              "    [theme=dark] .colab-df-convert:hover {\n",
              "      background-color: #434B5C;\n",
              "      box-shadow: 0px 1px 3px 1px rgba(0, 0, 0, 0.15);\n",
              "      filter: drop-shadow(0px 1px 2px rgba(0, 0, 0, 0.3));\n",
              "      fill: #FFFFFF;\n",
              "    }\n",
              "  </style>\n",
              "\n",
              "      <script>\n",
              "        const buttonEl =\n",
              "          document.querySelector('#df-d37b9dfb-e7d4-4183-9b58-403a20f4bdb5 button.colab-df-convert');\n",
              "        buttonEl.style.display =\n",
              "          google.colab.kernel.accessAllowed ? 'block' : 'none';\n",
              "\n",
              "        async function convertToInteractive(key) {\n",
              "          const element = document.querySelector('#df-d37b9dfb-e7d4-4183-9b58-403a20f4bdb5');\n",
              "          const dataTable =\n",
              "            await google.colab.kernel.invokeFunction('convertToInteractive',\n",
              "                                                     [key], {});\n",
              "          if (!dataTable) return;\n",
              "\n",
              "          const docLinkHtml = 'Like what you see? Visit the ' +\n",
              "            '<a target=\"_blank\" href=https://colab.research.google.com/notebooks/data_table.ipynb>data table notebook</a>'\n",
              "            + ' to learn more about interactive tables.';\n",
              "          element.innerHTML = '';\n",
              "          dataTable['output_type'] = 'display_data';\n",
              "          await google.colab.output.renderOutput(dataTable, element);\n",
              "          const docLink = document.createElement('div');\n",
              "          docLink.innerHTML = docLinkHtml;\n",
              "          element.appendChild(docLink);\n",
              "        }\n",
              "      </script>\n",
              "    </div>\n",
              "  </div>\n",
              "  "
            ]
          },
          "metadata": {},
          "execution_count": 5
        }
      ],
      "source": [
        "url = \"https://s3.amazonaws.com/amazon-reviews-pds/tsv/amazon_reviews_us_Beauty_v1_00.tsv.gz\"\n",
        "main_dataset = pd.read_csv(url, sep=\"\\t\", on_bad_lines='skip')\n",
        "main_dataset.head() # shows first 5 entries"
      ]
    },
    {
      "cell_type": "markdown",
      "source": [
        "## Basic Code"
      ],
      "metadata": {
        "id": "V_0fEepBpJer"
      }
    },
    {
      "cell_type": "markdown",
      "source": [
        "In this section, all the steps are carried out as mentioned in the assignment. The results obtained are printed at the end of this section. \n",
        "\n",
        "Following steps are carried out:\n",
        "\n",
        "*   Data Cleaning:\n",
        "    - convert all reviews into lowercase\n",
        "    - remove the HTML and URLs from the reviews\n",
        "    - remove non-alphabetical characters\n",
        "    - remove extra spaces\n",
        "    - perform contractions on the reviews, e.g., won’t → will not. Include as\n",
        "      many contractions in English that you can think of.\n",
        "*   Data Preprocessing:\n",
        "    - remove the stop words\n",
        "    - perform lemmatization\n",
        "*   Feature Extraction: using TF-IDF Vectorization \n",
        "*   Data Split: Data is split 80-20 into training and testing sets\n",
        "*   Model Building and Evaluation: The 4 models are built and the fitted to the dataset. The 4 models are:\n",
        "    - Single Layer Perceptron\n",
        "    - Support Vector Machine (SVM) classifier\n",
        "    - Logistic Regression \n",
        "    - Multinomial Naive Bayes Classifier\n",
        "*   Evaluation: Performed based on standard metrics and printed for the 3 distinct classes:\n",
        "    - Precision\n",
        "    - Recall\n",
        "    - F1 Score\n",
        "\n",
        "\n",
        "\n",
        "\n",
        "\n",
        "\n",
        "\n"
      ],
      "metadata": {
        "id": "NQXeeOQXpPha"
      }
    },
    {
      "cell_type": "markdown",
      "metadata": {
        "id": "nbdD_E--6kgr"
      },
      "source": [
        "### Keep Necessary Columns"
      ]
    },
    {
      "cell_type": "code",
      "source": [
        "new_df = main_dataset[['star_rating', 'review_body']]\n",
        "new_df.head()"
      ],
      "metadata": {
        "colab": {
          "base_uri": "https://localhost:8080/",
          "height": 206
        },
        "id": "dikg8mUOtcov",
        "outputId": "e5ae1817-d1a8-45c8-b324-a9f546aa05f5"
      },
      "execution_count": 6,
      "outputs": [
        {
          "output_type": "execute_result",
          "data": {
            "text/plain": [
              "  star_rating                                        review_body\n",
              "0           5                   Love this, excellent sun block!!\n",
              "1           5  The great thing about this cream is that it do...\n",
              "2           5  Great Product, I'm 65 years old and this is al...\n",
              "3           5  I use them as shower caps & conditioning caps....\n",
              "4           5  This is my go-to daily sunblock. It leaves no ..."
            ],
            "text/html": [
              "\n",
              "  <div id=\"df-c5e224d6-e241-49b0-893e-6966bc707fcc\">\n",
              "    <div class=\"colab-df-container\">\n",
              "      <div>\n",
              "<style scoped>\n",
              "    .dataframe tbody tr th:only-of-type {\n",
              "        vertical-align: middle;\n",
              "    }\n",
              "\n",
              "    .dataframe tbody tr th {\n",
              "        vertical-align: top;\n",
              "    }\n",
              "\n",
              "    .dataframe thead th {\n",
              "        text-align: right;\n",
              "    }\n",
              "</style>\n",
              "<table border=\"1\" class=\"dataframe\">\n",
              "  <thead>\n",
              "    <tr style=\"text-align: right;\">\n",
              "      <th></th>\n",
              "      <th>star_rating</th>\n",
              "      <th>review_body</th>\n",
              "    </tr>\n",
              "  </thead>\n",
              "  <tbody>\n",
              "    <tr>\n",
              "      <th>0</th>\n",
              "      <td>5</td>\n",
              "      <td>Love this, excellent sun block!!</td>\n",
              "    </tr>\n",
              "    <tr>\n",
              "      <th>1</th>\n",
              "      <td>5</td>\n",
              "      <td>The great thing about this cream is that it do...</td>\n",
              "    </tr>\n",
              "    <tr>\n",
              "      <th>2</th>\n",
              "      <td>5</td>\n",
              "      <td>Great Product, I'm 65 years old and this is al...</td>\n",
              "    </tr>\n",
              "    <tr>\n",
              "      <th>3</th>\n",
              "      <td>5</td>\n",
              "      <td>I use them as shower caps &amp; conditioning caps....</td>\n",
              "    </tr>\n",
              "    <tr>\n",
              "      <th>4</th>\n",
              "      <td>5</td>\n",
              "      <td>This is my go-to daily sunblock. It leaves no ...</td>\n",
              "    </tr>\n",
              "  </tbody>\n",
              "</table>\n",
              "</div>\n",
              "      <button class=\"colab-df-convert\" onclick=\"convertToInteractive('df-c5e224d6-e241-49b0-893e-6966bc707fcc')\"\n",
              "              title=\"Convert this dataframe to an interactive table.\"\n",
              "              style=\"display:none;\">\n",
              "        \n",
              "  <svg xmlns=\"http://www.w3.org/2000/svg\" height=\"24px\"viewBox=\"0 0 24 24\"\n",
              "       width=\"24px\">\n",
              "    <path d=\"M0 0h24v24H0V0z\" fill=\"none\"/>\n",
              "    <path d=\"M18.56 5.44l.94 2.06.94-2.06 2.06-.94-2.06-.94-.94-2.06-.94 2.06-2.06.94zm-11 1L8.5 8.5l.94-2.06 2.06-.94-2.06-.94L8.5 2.5l-.94 2.06-2.06.94zm10 10l.94 2.06.94-2.06 2.06-.94-2.06-.94-.94-2.06-.94 2.06-2.06.94z\"/><path d=\"M17.41 7.96l-1.37-1.37c-.4-.4-.92-.59-1.43-.59-.52 0-1.04.2-1.43.59L10.3 9.45l-7.72 7.72c-.78.78-.78 2.05 0 2.83L4 21.41c.39.39.9.59 1.41.59.51 0 1.02-.2 1.41-.59l7.78-7.78 2.81-2.81c.8-.78.8-2.07 0-2.86zM5.41 20L4 18.59l7.72-7.72 1.47 1.35L5.41 20z\"/>\n",
              "  </svg>\n",
              "      </button>\n",
              "      \n",
              "  <style>\n",
              "    .colab-df-container {\n",
              "      display:flex;\n",
              "      flex-wrap:wrap;\n",
              "      gap: 12px;\n",
              "    }\n",
              "\n",
              "    .colab-df-convert {\n",
              "      background-color: #E8F0FE;\n",
              "      border: none;\n",
              "      border-radius: 50%;\n",
              "      cursor: pointer;\n",
              "      display: none;\n",
              "      fill: #1967D2;\n",
              "      height: 32px;\n",
              "      padding: 0 0 0 0;\n",
              "      width: 32px;\n",
              "    }\n",
              "\n",
              "    .colab-df-convert:hover {\n",
              "      background-color: #E2EBFA;\n",
              "      box-shadow: 0px 1px 2px rgba(60, 64, 67, 0.3), 0px 1px 3px 1px rgba(60, 64, 67, 0.15);\n",
              "      fill: #174EA6;\n",
              "    }\n",
              "\n",
              "    [theme=dark] .colab-df-convert {\n",
              "      background-color: #3B4455;\n",
              "      fill: #D2E3FC;\n",
              "    }\n",
              "\n",
              "    [theme=dark] .colab-df-convert:hover {\n",
              "      background-color: #434B5C;\n",
              "      box-shadow: 0px 1px 3px 1px rgba(0, 0, 0, 0.15);\n",
              "      filter: drop-shadow(0px 1px 2px rgba(0, 0, 0, 0.3));\n",
              "      fill: #FFFFFF;\n",
              "    }\n",
              "  </style>\n",
              "\n",
              "      <script>\n",
              "        const buttonEl =\n",
              "          document.querySelector('#df-c5e224d6-e241-49b0-893e-6966bc707fcc button.colab-df-convert');\n",
              "        buttonEl.style.display =\n",
              "          google.colab.kernel.accessAllowed ? 'block' : 'none';\n",
              "\n",
              "        async function convertToInteractive(key) {\n",
              "          const element = document.querySelector('#df-c5e224d6-e241-49b0-893e-6966bc707fcc');\n",
              "          const dataTable =\n",
              "            await google.colab.kernel.invokeFunction('convertToInteractive',\n",
              "                                                     [key], {});\n",
              "          if (!dataTable) return;\n",
              "\n",
              "          const docLinkHtml = 'Like what you see? Visit the ' +\n",
              "            '<a target=\"_blank\" href=https://colab.research.google.com/notebooks/data_table.ipynb>data table notebook</a>'\n",
              "            + ' to learn more about interactive tables.';\n",
              "          element.innerHTML = '';\n",
              "          dataTable['output_type'] = 'display_data';\n",
              "          await google.colab.output.renderOutput(dataTable, element);\n",
              "          const docLink = document.createElement('div');\n",
              "          docLink.innerHTML = docLinkHtml;\n",
              "          element.appendChild(docLink);\n",
              "        }\n",
              "      </script>\n",
              "    </div>\n",
              "  </div>\n",
              "  "
            ]
          },
          "metadata": {},
          "execution_count": 6
        }
      ]
    },
    {
      "cell_type": "markdown",
      "source": [
        "Now we form 3 classes and keep 20k reviews in each class."
      ],
      "metadata": {
        "id": "OULqd70ht2Zg"
      }
    },
    {
      "cell_type": "code",
      "source": [
        "# Class 1: dataset containing 20k reviews which have rating 1 or 2 \n",
        "df_1 = new_df.query(\"star_rating == 1 | star_rating == 2\").sample(n=20000)\n",
        "df_1['star_rating'] = 1\n",
        "\n",
        "# Class 2: dataset containing 20k reviews which have rating 3\n",
        "df_2 = new_df.query(\"star_rating == 3\").sample(n=20000)\n",
        "df_2['star_rating'] = 2\n",
        "\n",
        "# Class 3: dataset containing 20k reviews which have rating 4 or 5\n",
        "df_3 = new_df.query(\"star_rating == 4 | star_rating == 5\").sample(n=20000)\n",
        "df_3['star_rating'] = 3\n",
        "\n",
        "#concatenate the 3 dataframes\n",
        "dfs = [df_1, df_2, df_3]\n",
        "final_df = pd.concat(dfs)\n",
        "\n",
        "#shuffle the order of entries in the dataframe\n",
        "from sklearn.utils import shuffle\n",
        "df = shuffle(final_df)\n",
        "\n",
        "#print the first 5 entries in the final dataframe\n",
        "df.head()"
      ],
      "metadata": {
        "colab": {
          "base_uri": "https://localhost:8080/",
          "height": 206
        },
        "id": "Ci3SvJixtdfX",
        "outputId": "f1ca5c1d-9342-4c40-b07c-a03163aaeb18"
      },
      "execution_count": 7,
      "outputs": [
        {
          "output_type": "execute_result",
          "data": {
            "text/plain": [
              "         star_rating                                        review_body\n",
              "3622600            2  Got double package on time, but unfortunately,...\n",
              "3951970            2  I received the Venus & Olay Razor in Sugarberr...\n",
              "3632459            3  I've been using this hand cream for the last 6...\n",
              "2349108            3  Good quality. Great price! The only thing bad ...\n",
              "4394793            3  I purchase the China Glaze because of the colo..."
            ],
            "text/html": [
              "\n",
              "  <div id=\"df-872975cf-ffaa-4c30-8318-9a8e32f76c79\">\n",
              "    <div class=\"colab-df-container\">\n",
              "      <div>\n",
              "<style scoped>\n",
              "    .dataframe tbody tr th:only-of-type {\n",
              "        vertical-align: middle;\n",
              "    }\n",
              "\n",
              "    .dataframe tbody tr th {\n",
              "        vertical-align: top;\n",
              "    }\n",
              "\n",
              "    .dataframe thead th {\n",
              "        text-align: right;\n",
              "    }\n",
              "</style>\n",
              "<table border=\"1\" class=\"dataframe\">\n",
              "  <thead>\n",
              "    <tr style=\"text-align: right;\">\n",
              "      <th></th>\n",
              "      <th>star_rating</th>\n",
              "      <th>review_body</th>\n",
              "    </tr>\n",
              "  </thead>\n",
              "  <tbody>\n",
              "    <tr>\n",
              "      <th>3622600</th>\n",
              "      <td>2</td>\n",
              "      <td>Got double package on time, but unfortunately,...</td>\n",
              "    </tr>\n",
              "    <tr>\n",
              "      <th>3951970</th>\n",
              "      <td>2</td>\n",
              "      <td>I received the Venus &amp; Olay Razor in Sugarberr...</td>\n",
              "    </tr>\n",
              "    <tr>\n",
              "      <th>3632459</th>\n",
              "      <td>3</td>\n",
              "      <td>I've been using this hand cream for the last 6...</td>\n",
              "    </tr>\n",
              "    <tr>\n",
              "      <th>2349108</th>\n",
              "      <td>3</td>\n",
              "      <td>Good quality. Great price! The only thing bad ...</td>\n",
              "    </tr>\n",
              "    <tr>\n",
              "      <th>4394793</th>\n",
              "      <td>3</td>\n",
              "      <td>I purchase the China Glaze because of the colo...</td>\n",
              "    </tr>\n",
              "  </tbody>\n",
              "</table>\n",
              "</div>\n",
              "      <button class=\"colab-df-convert\" onclick=\"convertToInteractive('df-872975cf-ffaa-4c30-8318-9a8e32f76c79')\"\n",
              "              title=\"Convert this dataframe to an interactive table.\"\n",
              "              style=\"display:none;\">\n",
              "        \n",
              "  <svg xmlns=\"http://www.w3.org/2000/svg\" height=\"24px\"viewBox=\"0 0 24 24\"\n",
              "       width=\"24px\">\n",
              "    <path d=\"M0 0h24v24H0V0z\" fill=\"none\"/>\n",
              "    <path d=\"M18.56 5.44l.94 2.06.94-2.06 2.06-.94-2.06-.94-.94-2.06-.94 2.06-2.06.94zm-11 1L8.5 8.5l.94-2.06 2.06-.94-2.06-.94L8.5 2.5l-.94 2.06-2.06.94zm10 10l.94 2.06.94-2.06 2.06-.94-2.06-.94-.94-2.06-.94 2.06-2.06.94z\"/><path d=\"M17.41 7.96l-1.37-1.37c-.4-.4-.92-.59-1.43-.59-.52 0-1.04.2-1.43.59L10.3 9.45l-7.72 7.72c-.78.78-.78 2.05 0 2.83L4 21.41c.39.39.9.59 1.41.59.51 0 1.02-.2 1.41-.59l7.78-7.78 2.81-2.81c.8-.78.8-2.07 0-2.86zM5.41 20L4 18.59l7.72-7.72 1.47 1.35L5.41 20z\"/>\n",
              "  </svg>\n",
              "      </button>\n",
              "      \n",
              "  <style>\n",
              "    .colab-df-container {\n",
              "      display:flex;\n",
              "      flex-wrap:wrap;\n",
              "      gap: 12px;\n",
              "    }\n",
              "\n",
              "    .colab-df-convert {\n",
              "      background-color: #E8F0FE;\n",
              "      border: none;\n",
              "      border-radius: 50%;\n",
              "      cursor: pointer;\n",
              "      display: none;\n",
              "      fill: #1967D2;\n",
              "      height: 32px;\n",
              "      padding: 0 0 0 0;\n",
              "      width: 32px;\n",
              "    }\n",
              "\n",
              "    .colab-df-convert:hover {\n",
              "      background-color: #E2EBFA;\n",
              "      box-shadow: 0px 1px 2px rgba(60, 64, 67, 0.3), 0px 1px 3px 1px rgba(60, 64, 67, 0.15);\n",
              "      fill: #174EA6;\n",
              "    }\n",
              "\n",
              "    [theme=dark] .colab-df-convert {\n",
              "      background-color: #3B4455;\n",
              "      fill: #D2E3FC;\n",
              "    }\n",
              "\n",
              "    [theme=dark] .colab-df-convert:hover {\n",
              "      background-color: #434B5C;\n",
              "      box-shadow: 0px 1px 3px 1px rgba(0, 0, 0, 0.15);\n",
              "      filter: drop-shadow(0px 1px 2px rgba(0, 0, 0, 0.3));\n",
              "      fill: #FFFFFF;\n",
              "    }\n",
              "  </style>\n",
              "\n",
              "      <script>\n",
              "        const buttonEl =\n",
              "          document.querySelector('#df-872975cf-ffaa-4c30-8318-9a8e32f76c79 button.colab-df-convert');\n",
              "        buttonEl.style.display =\n",
              "          google.colab.kernel.accessAllowed ? 'block' : 'none';\n",
              "\n",
              "        async function convertToInteractive(key) {\n",
              "          const element = document.querySelector('#df-872975cf-ffaa-4c30-8318-9a8e32f76c79');\n",
              "          const dataTable =\n",
              "            await google.colab.kernel.invokeFunction('convertToInteractive',\n",
              "                                                     [key], {});\n",
              "          if (!dataTable) return;\n",
              "\n",
              "          const docLinkHtml = 'Like what you see? Visit the ' +\n",
              "            '<a target=\"_blank\" href=https://colab.research.google.com/notebooks/data_table.ipynb>data table notebook</a>'\n",
              "            + ' to learn more about interactive tables.';\n",
              "          element.innerHTML = '';\n",
              "          dataTable['output_type'] = 'display_data';\n",
              "          await google.colab.output.renderOutput(dataTable, element);\n",
              "          const docLink = document.createElement('div');\n",
              "          docLink.innerHTML = docLinkHtml;\n",
              "          element.appendChild(docLink);\n",
              "        }\n",
              "      </script>\n",
              "    </div>\n",
              "  </div>\n",
              "  "
            ]
          },
          "metadata": {},
          "execution_count": 7
        }
      ]
    },
    {
      "cell_type": "markdown",
      "source": [
        "### Data Cleaning"
      ],
      "metadata": {
        "id": "kKor_B6Puyl6"
      }
    },
    {
      "cell_type": "markdown",
      "source": [
        "This section performs the following steps:\n",
        "- convert all reviews into lowercase\n",
        "- remove the HTML and URLs from the reviews\n",
        "- remove non-alphabetical characters\n",
        "- remove extra spaces\n",
        "- perform contractions on the reviews, e.g., won’t → will"
      ],
      "metadata": {
        "id": "u4hZvQv10aiS"
      }
    },
    {
      "cell_type": "code",
      "source": [
        "#store the average length of 'review_body' column in a variable\n",
        "lenBeforeCleaning = df['review_body'].str.len().mean()"
      ],
      "metadata": {
        "id": "hZOTgJQlvjid"
      },
      "execution_count": 8,
      "outputs": []
    },
    {
      "cell_type": "code",
      "source": [
        "#convert all entries in the 'star_rating' column to integer.\n",
        "df['star_rating'] = df['star_rating'].astype('int')\n",
        "\n",
        "#print the datatypes of all columns in the dataframe\n",
        "df.dtypes"
      ],
      "metadata": {
        "colab": {
          "base_uri": "https://localhost:8080/"
        },
        "id": "opGcZlYqu9dH",
        "outputId": "662fccce-837f-4b8b-f397-3b39ccdf619a"
      },
      "execution_count": 9,
      "outputs": [
        {
          "output_type": "execute_result",
          "data": {
            "text/plain": [
              "star_rating     int64\n",
              "review_body    object\n",
              "dtype: object"
            ]
          },
          "metadata": {},
          "execution_count": 9
        }
      ]
    },
    {
      "cell_type": "code",
      "source": [
        "#find null values in both the columns and fill them with an empty string\n",
        "\n",
        "for column in ['star_rating', 'review_body']:\n",
        "  print(column + \" - \"  + str(df[column].isnull().sum()))\n",
        "\n",
        "df = df.fillna(\"\")"
      ],
      "metadata": {
        "colab": {
          "base_uri": "https://localhost:8080/"
        },
        "id": "n59E3CTmvHs5",
        "outputId": "4457ac65-2d86-4d53-f061-12e3f2016b2b"
      },
      "execution_count": 10,
      "outputs": [
        {
          "output_type": "stream",
          "name": "stdout",
          "text": [
            "star_rating - 0\n",
            "review_body - 4\n"
          ]
        }
      ]
    },
    {
      "cell_type": "code",
      "source": [
        "#convert the text into lowercase\n",
        "df['review_body'] = df['review_body'].apply(str.lower)\n",
        "df.head()"
      ],
      "metadata": {
        "colab": {
          "base_uri": "https://localhost:8080/",
          "height": 206
        },
        "id": "SJjkrsI6wKvV",
        "outputId": "ccad7225-a6c2-404f-b403-b813e1f68adf"
      },
      "execution_count": 11,
      "outputs": [
        {
          "output_type": "execute_result",
          "data": {
            "text/plain": [
              "         star_rating                                        review_body\n",
              "3622600            2  got double package on time, but unfortunately,...\n",
              "3951970            2  i received the venus & olay razor in sugarberr...\n",
              "3632459            3  i've been using this hand cream for the last 6...\n",
              "2349108            3  good quality. great price! the only thing bad ...\n",
              "4394793            3  i purchase the china glaze because of the colo..."
            ],
            "text/html": [
              "\n",
              "  <div id=\"df-19f4cb74-7668-497e-9b20-a1946d1ae36c\">\n",
              "    <div class=\"colab-df-container\">\n",
              "      <div>\n",
              "<style scoped>\n",
              "    .dataframe tbody tr th:only-of-type {\n",
              "        vertical-align: middle;\n",
              "    }\n",
              "\n",
              "    .dataframe tbody tr th {\n",
              "        vertical-align: top;\n",
              "    }\n",
              "\n",
              "    .dataframe thead th {\n",
              "        text-align: right;\n",
              "    }\n",
              "</style>\n",
              "<table border=\"1\" class=\"dataframe\">\n",
              "  <thead>\n",
              "    <tr style=\"text-align: right;\">\n",
              "      <th></th>\n",
              "      <th>star_rating</th>\n",
              "      <th>review_body</th>\n",
              "    </tr>\n",
              "  </thead>\n",
              "  <tbody>\n",
              "    <tr>\n",
              "      <th>3622600</th>\n",
              "      <td>2</td>\n",
              "      <td>got double package on time, but unfortunately,...</td>\n",
              "    </tr>\n",
              "    <tr>\n",
              "      <th>3951970</th>\n",
              "      <td>2</td>\n",
              "      <td>i received the venus &amp; olay razor in sugarberr...</td>\n",
              "    </tr>\n",
              "    <tr>\n",
              "      <th>3632459</th>\n",
              "      <td>3</td>\n",
              "      <td>i've been using this hand cream for the last 6...</td>\n",
              "    </tr>\n",
              "    <tr>\n",
              "      <th>2349108</th>\n",
              "      <td>3</td>\n",
              "      <td>good quality. great price! the only thing bad ...</td>\n",
              "    </tr>\n",
              "    <tr>\n",
              "      <th>4394793</th>\n",
              "      <td>3</td>\n",
              "      <td>i purchase the china glaze because of the colo...</td>\n",
              "    </tr>\n",
              "  </tbody>\n",
              "</table>\n",
              "</div>\n",
              "      <button class=\"colab-df-convert\" onclick=\"convertToInteractive('df-19f4cb74-7668-497e-9b20-a1946d1ae36c')\"\n",
              "              title=\"Convert this dataframe to an interactive table.\"\n",
              "              style=\"display:none;\">\n",
              "        \n",
              "  <svg xmlns=\"http://www.w3.org/2000/svg\" height=\"24px\"viewBox=\"0 0 24 24\"\n",
              "       width=\"24px\">\n",
              "    <path d=\"M0 0h24v24H0V0z\" fill=\"none\"/>\n",
              "    <path d=\"M18.56 5.44l.94 2.06.94-2.06 2.06-.94-2.06-.94-.94-2.06-.94 2.06-2.06.94zm-11 1L8.5 8.5l.94-2.06 2.06-.94-2.06-.94L8.5 2.5l-.94 2.06-2.06.94zm10 10l.94 2.06.94-2.06 2.06-.94-2.06-.94-.94-2.06-.94 2.06-2.06.94z\"/><path d=\"M17.41 7.96l-1.37-1.37c-.4-.4-.92-.59-1.43-.59-.52 0-1.04.2-1.43.59L10.3 9.45l-7.72 7.72c-.78.78-.78 2.05 0 2.83L4 21.41c.39.39.9.59 1.41.59.51 0 1.02-.2 1.41-.59l7.78-7.78 2.81-2.81c.8-.78.8-2.07 0-2.86zM5.41 20L4 18.59l7.72-7.72 1.47 1.35L5.41 20z\"/>\n",
              "  </svg>\n",
              "      </button>\n",
              "      \n",
              "  <style>\n",
              "    .colab-df-container {\n",
              "      display:flex;\n",
              "      flex-wrap:wrap;\n",
              "      gap: 12px;\n",
              "    }\n",
              "\n",
              "    .colab-df-convert {\n",
              "      background-color: #E8F0FE;\n",
              "      border: none;\n",
              "      border-radius: 50%;\n",
              "      cursor: pointer;\n",
              "      display: none;\n",
              "      fill: #1967D2;\n",
              "      height: 32px;\n",
              "      padding: 0 0 0 0;\n",
              "      width: 32px;\n",
              "    }\n",
              "\n",
              "    .colab-df-convert:hover {\n",
              "      background-color: #E2EBFA;\n",
              "      box-shadow: 0px 1px 2px rgba(60, 64, 67, 0.3), 0px 1px 3px 1px rgba(60, 64, 67, 0.15);\n",
              "      fill: #174EA6;\n",
              "    }\n",
              "\n",
              "    [theme=dark] .colab-df-convert {\n",
              "      background-color: #3B4455;\n",
              "      fill: #D2E3FC;\n",
              "    }\n",
              "\n",
              "    [theme=dark] .colab-df-convert:hover {\n",
              "      background-color: #434B5C;\n",
              "      box-shadow: 0px 1px 3px 1px rgba(0, 0, 0, 0.15);\n",
              "      filter: drop-shadow(0px 1px 2px rgba(0, 0, 0, 0.3));\n",
              "      fill: #FFFFFF;\n",
              "    }\n",
              "  </style>\n",
              "\n",
              "      <script>\n",
              "        const buttonEl =\n",
              "          document.querySelector('#df-19f4cb74-7668-497e-9b20-a1946d1ae36c button.colab-df-convert');\n",
              "        buttonEl.style.display =\n",
              "          google.colab.kernel.accessAllowed ? 'block' : 'none';\n",
              "\n",
              "        async function convertToInteractive(key) {\n",
              "          const element = document.querySelector('#df-19f4cb74-7668-497e-9b20-a1946d1ae36c');\n",
              "          const dataTable =\n",
              "            await google.colab.kernel.invokeFunction('convertToInteractive',\n",
              "                                                     [key], {});\n",
              "          if (!dataTable) return;\n",
              "\n",
              "          const docLinkHtml = 'Like what you see? Visit the ' +\n",
              "            '<a target=\"_blank\" href=https://colab.research.google.com/notebooks/data_table.ipynb>data table notebook</a>'\n",
              "            + ' to learn more about interactive tables.';\n",
              "          element.innerHTML = '';\n",
              "          dataTable['output_type'] = 'display_data';\n",
              "          await google.colab.output.renderOutput(dataTable, element);\n",
              "          const docLink = document.createElement('div');\n",
              "          docLink.innerHTML = docLinkHtml;\n",
              "          element.appendChild(docLink);\n",
              "        }\n",
              "      </script>\n",
              "    </div>\n",
              "  </div>\n",
              "  "
            ]
          },
          "metadata": {},
          "execution_count": 11
        }
      ]
    },
    {
      "cell_type": "code",
      "source": [
        "#remove html and urls from reviews\n",
        "def urls(x):\n",
        "  x = re.sub('http\\S+|www.\\S+', '', x)\n",
        "  x = re.sub('<.*?>','',x)\n",
        "  return x\n",
        "\n",
        "df['review_body'] = [urls(x) for x in df['review_body']]\n",
        "df.head()"
      ],
      "metadata": {
        "colab": {
          "base_uri": "https://localhost:8080/",
          "height": 206
        },
        "id": "9QhB8_95wQuu",
        "outputId": "a7e60816-266f-4daf-a276-e7ec8916c87e"
      },
      "execution_count": 12,
      "outputs": [
        {
          "output_type": "execute_result",
          "data": {
            "text/plain": [
              "         star_rating                                        review_body\n",
              "3622600            2  got double package on time, but unfortunately,...\n",
              "3951970            2  i received the venus & olay razor in sugarberr...\n",
              "3632459            3  i've been using this hand cream for the last 6...\n",
              "2349108            3  good quality. great price! the only thing bad ...\n",
              "4394793            3  i purchase the china glaze because of the colo..."
            ],
            "text/html": [
              "\n",
              "  <div id=\"df-f95517fd-a1e1-47a7-84b1-4dc2270b898b\">\n",
              "    <div class=\"colab-df-container\">\n",
              "      <div>\n",
              "<style scoped>\n",
              "    .dataframe tbody tr th:only-of-type {\n",
              "        vertical-align: middle;\n",
              "    }\n",
              "\n",
              "    .dataframe tbody tr th {\n",
              "        vertical-align: top;\n",
              "    }\n",
              "\n",
              "    .dataframe thead th {\n",
              "        text-align: right;\n",
              "    }\n",
              "</style>\n",
              "<table border=\"1\" class=\"dataframe\">\n",
              "  <thead>\n",
              "    <tr style=\"text-align: right;\">\n",
              "      <th></th>\n",
              "      <th>star_rating</th>\n",
              "      <th>review_body</th>\n",
              "    </tr>\n",
              "  </thead>\n",
              "  <tbody>\n",
              "    <tr>\n",
              "      <th>3622600</th>\n",
              "      <td>2</td>\n",
              "      <td>got double package on time, but unfortunately,...</td>\n",
              "    </tr>\n",
              "    <tr>\n",
              "      <th>3951970</th>\n",
              "      <td>2</td>\n",
              "      <td>i received the venus &amp; olay razor in sugarberr...</td>\n",
              "    </tr>\n",
              "    <tr>\n",
              "      <th>3632459</th>\n",
              "      <td>3</td>\n",
              "      <td>i've been using this hand cream for the last 6...</td>\n",
              "    </tr>\n",
              "    <tr>\n",
              "      <th>2349108</th>\n",
              "      <td>3</td>\n",
              "      <td>good quality. great price! the only thing bad ...</td>\n",
              "    </tr>\n",
              "    <tr>\n",
              "      <th>4394793</th>\n",
              "      <td>3</td>\n",
              "      <td>i purchase the china glaze because of the colo...</td>\n",
              "    </tr>\n",
              "  </tbody>\n",
              "</table>\n",
              "</div>\n",
              "      <button class=\"colab-df-convert\" onclick=\"convertToInteractive('df-f95517fd-a1e1-47a7-84b1-4dc2270b898b')\"\n",
              "              title=\"Convert this dataframe to an interactive table.\"\n",
              "              style=\"display:none;\">\n",
              "        \n",
              "  <svg xmlns=\"http://www.w3.org/2000/svg\" height=\"24px\"viewBox=\"0 0 24 24\"\n",
              "       width=\"24px\">\n",
              "    <path d=\"M0 0h24v24H0V0z\" fill=\"none\"/>\n",
              "    <path d=\"M18.56 5.44l.94 2.06.94-2.06 2.06-.94-2.06-.94-.94-2.06-.94 2.06-2.06.94zm-11 1L8.5 8.5l.94-2.06 2.06-.94-2.06-.94L8.5 2.5l-.94 2.06-2.06.94zm10 10l.94 2.06.94-2.06 2.06-.94-2.06-.94-.94-2.06-.94 2.06-2.06.94z\"/><path d=\"M17.41 7.96l-1.37-1.37c-.4-.4-.92-.59-1.43-.59-.52 0-1.04.2-1.43.59L10.3 9.45l-7.72 7.72c-.78.78-.78 2.05 0 2.83L4 21.41c.39.39.9.59 1.41.59.51 0 1.02-.2 1.41-.59l7.78-7.78 2.81-2.81c.8-.78.8-2.07 0-2.86zM5.41 20L4 18.59l7.72-7.72 1.47 1.35L5.41 20z\"/>\n",
              "  </svg>\n",
              "      </button>\n",
              "      \n",
              "  <style>\n",
              "    .colab-df-container {\n",
              "      display:flex;\n",
              "      flex-wrap:wrap;\n",
              "      gap: 12px;\n",
              "    }\n",
              "\n",
              "    .colab-df-convert {\n",
              "      background-color: #E8F0FE;\n",
              "      border: none;\n",
              "      border-radius: 50%;\n",
              "      cursor: pointer;\n",
              "      display: none;\n",
              "      fill: #1967D2;\n",
              "      height: 32px;\n",
              "      padding: 0 0 0 0;\n",
              "      width: 32px;\n",
              "    }\n",
              "\n",
              "    .colab-df-convert:hover {\n",
              "      background-color: #E2EBFA;\n",
              "      box-shadow: 0px 1px 2px rgba(60, 64, 67, 0.3), 0px 1px 3px 1px rgba(60, 64, 67, 0.15);\n",
              "      fill: #174EA6;\n",
              "    }\n",
              "\n",
              "    [theme=dark] .colab-df-convert {\n",
              "      background-color: #3B4455;\n",
              "      fill: #D2E3FC;\n",
              "    }\n",
              "\n",
              "    [theme=dark] .colab-df-convert:hover {\n",
              "      background-color: #434B5C;\n",
              "      box-shadow: 0px 1px 3px 1px rgba(0, 0, 0, 0.15);\n",
              "      filter: drop-shadow(0px 1px 2px rgba(0, 0, 0, 0.3));\n",
              "      fill: #FFFFFF;\n",
              "    }\n",
              "  </style>\n",
              "\n",
              "      <script>\n",
              "        const buttonEl =\n",
              "          document.querySelector('#df-f95517fd-a1e1-47a7-84b1-4dc2270b898b button.colab-df-convert');\n",
              "        buttonEl.style.display =\n",
              "          google.colab.kernel.accessAllowed ? 'block' : 'none';\n",
              "\n",
              "        async function convertToInteractive(key) {\n",
              "          const element = document.querySelector('#df-f95517fd-a1e1-47a7-84b1-4dc2270b898b');\n",
              "          const dataTable =\n",
              "            await google.colab.kernel.invokeFunction('convertToInteractive',\n",
              "                                                     [key], {});\n",
              "          if (!dataTable) return;\n",
              "\n",
              "          const docLinkHtml = 'Like what you see? Visit the ' +\n",
              "            '<a target=\"_blank\" href=https://colab.research.google.com/notebooks/data_table.ipynb>data table notebook</a>'\n",
              "            + ' to learn more about interactive tables.';\n",
              "          element.innerHTML = '';\n",
              "          dataTable['output_type'] = 'display_data';\n",
              "          await google.colab.output.renderOutput(dataTable, element);\n",
              "          const docLink = document.createElement('div');\n",
              "          docLink.innerHTML = docLinkHtml;\n",
              "          element.appendChild(docLink);\n",
              "        }\n",
              "      </script>\n",
              "    </div>\n",
              "  </div>\n",
              "  "
            ]
          },
          "metadata": {},
          "execution_count": 12
        }
      ]
    },
    {
      "cell_type": "code",
      "source": [
        "#remove non-alphabetic characters from reviews\n",
        "def alpha(x):\n",
        "  return re.sub(r'[^a-zA-Z\\s]+', '', str(x))\n",
        "\n",
        "df['review_body'] = [alpha(x) for x in df['review_body']]\n",
        "df.head()"
      ],
      "metadata": {
        "colab": {
          "base_uri": "https://localhost:8080/",
          "height": 206
        },
        "id": "NJgxPhNYyM9u",
        "outputId": "f52d1635-a090-4670-f764-3350175c2f8d"
      },
      "execution_count": 13,
      "outputs": [
        {
          "output_type": "execute_result",
          "data": {
            "text/plain": [
              "         star_rating                                        review_body\n",
              "3622600            2  got double package on time but unfortunately w...\n",
              "3951970            2  i received the venus  olay razor in sugarberry...\n",
              "3632459            3  ive been using this hand cream for the last  m...\n",
              "2349108            3  good quality great price the only thing bad is...\n",
              "4394793            3  i purchase the china glaze because of the colo..."
            ],
            "text/html": [
              "\n",
              "  <div id=\"df-ce06e36c-7712-403b-befd-af4478e5239c\">\n",
              "    <div class=\"colab-df-container\">\n",
              "      <div>\n",
              "<style scoped>\n",
              "    .dataframe tbody tr th:only-of-type {\n",
              "        vertical-align: middle;\n",
              "    }\n",
              "\n",
              "    .dataframe tbody tr th {\n",
              "        vertical-align: top;\n",
              "    }\n",
              "\n",
              "    .dataframe thead th {\n",
              "        text-align: right;\n",
              "    }\n",
              "</style>\n",
              "<table border=\"1\" class=\"dataframe\">\n",
              "  <thead>\n",
              "    <tr style=\"text-align: right;\">\n",
              "      <th></th>\n",
              "      <th>star_rating</th>\n",
              "      <th>review_body</th>\n",
              "    </tr>\n",
              "  </thead>\n",
              "  <tbody>\n",
              "    <tr>\n",
              "      <th>3622600</th>\n",
              "      <td>2</td>\n",
              "      <td>got double package on time but unfortunately w...</td>\n",
              "    </tr>\n",
              "    <tr>\n",
              "      <th>3951970</th>\n",
              "      <td>2</td>\n",
              "      <td>i received the venus  olay razor in sugarberry...</td>\n",
              "    </tr>\n",
              "    <tr>\n",
              "      <th>3632459</th>\n",
              "      <td>3</td>\n",
              "      <td>ive been using this hand cream for the last  m...</td>\n",
              "    </tr>\n",
              "    <tr>\n",
              "      <th>2349108</th>\n",
              "      <td>3</td>\n",
              "      <td>good quality great price the only thing bad is...</td>\n",
              "    </tr>\n",
              "    <tr>\n",
              "      <th>4394793</th>\n",
              "      <td>3</td>\n",
              "      <td>i purchase the china glaze because of the colo...</td>\n",
              "    </tr>\n",
              "  </tbody>\n",
              "</table>\n",
              "</div>\n",
              "      <button class=\"colab-df-convert\" onclick=\"convertToInteractive('df-ce06e36c-7712-403b-befd-af4478e5239c')\"\n",
              "              title=\"Convert this dataframe to an interactive table.\"\n",
              "              style=\"display:none;\">\n",
              "        \n",
              "  <svg xmlns=\"http://www.w3.org/2000/svg\" height=\"24px\"viewBox=\"0 0 24 24\"\n",
              "       width=\"24px\">\n",
              "    <path d=\"M0 0h24v24H0V0z\" fill=\"none\"/>\n",
              "    <path d=\"M18.56 5.44l.94 2.06.94-2.06 2.06-.94-2.06-.94-.94-2.06-.94 2.06-2.06.94zm-11 1L8.5 8.5l.94-2.06 2.06-.94-2.06-.94L8.5 2.5l-.94 2.06-2.06.94zm10 10l.94 2.06.94-2.06 2.06-.94-2.06-.94-.94-2.06-.94 2.06-2.06.94z\"/><path d=\"M17.41 7.96l-1.37-1.37c-.4-.4-.92-.59-1.43-.59-.52 0-1.04.2-1.43.59L10.3 9.45l-7.72 7.72c-.78.78-.78 2.05 0 2.83L4 21.41c.39.39.9.59 1.41.59.51 0 1.02-.2 1.41-.59l7.78-7.78 2.81-2.81c.8-.78.8-2.07 0-2.86zM5.41 20L4 18.59l7.72-7.72 1.47 1.35L5.41 20z\"/>\n",
              "  </svg>\n",
              "      </button>\n",
              "      \n",
              "  <style>\n",
              "    .colab-df-container {\n",
              "      display:flex;\n",
              "      flex-wrap:wrap;\n",
              "      gap: 12px;\n",
              "    }\n",
              "\n",
              "    .colab-df-convert {\n",
              "      background-color: #E8F0FE;\n",
              "      border: none;\n",
              "      border-radius: 50%;\n",
              "      cursor: pointer;\n",
              "      display: none;\n",
              "      fill: #1967D2;\n",
              "      height: 32px;\n",
              "      padding: 0 0 0 0;\n",
              "      width: 32px;\n",
              "    }\n",
              "\n",
              "    .colab-df-convert:hover {\n",
              "      background-color: #E2EBFA;\n",
              "      box-shadow: 0px 1px 2px rgba(60, 64, 67, 0.3), 0px 1px 3px 1px rgba(60, 64, 67, 0.15);\n",
              "      fill: #174EA6;\n",
              "    }\n",
              "\n",
              "    [theme=dark] .colab-df-convert {\n",
              "      background-color: #3B4455;\n",
              "      fill: #D2E3FC;\n",
              "    }\n",
              "\n",
              "    [theme=dark] .colab-df-convert:hover {\n",
              "      background-color: #434B5C;\n",
              "      box-shadow: 0px 1px 3px 1px rgba(0, 0, 0, 0.15);\n",
              "      filter: drop-shadow(0px 1px 2px rgba(0, 0, 0, 0.3));\n",
              "      fill: #FFFFFF;\n",
              "    }\n",
              "  </style>\n",
              "\n",
              "      <script>\n",
              "        const buttonEl =\n",
              "          document.querySelector('#df-ce06e36c-7712-403b-befd-af4478e5239c button.colab-df-convert');\n",
              "        buttonEl.style.display =\n",
              "          google.colab.kernel.accessAllowed ? 'block' : 'none';\n",
              "\n",
              "        async function convertToInteractive(key) {\n",
              "          const element = document.querySelector('#df-ce06e36c-7712-403b-befd-af4478e5239c');\n",
              "          const dataTable =\n",
              "            await google.colab.kernel.invokeFunction('convertToInteractive',\n",
              "                                                     [key], {});\n",
              "          if (!dataTable) return;\n",
              "\n",
              "          const docLinkHtml = 'Like what you see? Visit the ' +\n",
              "            '<a target=\"_blank\" href=https://colab.research.google.com/notebooks/data_table.ipynb>data table notebook</a>'\n",
              "            + ' to learn more about interactive tables.';\n",
              "          element.innerHTML = '';\n",
              "          dataTable['output_type'] = 'display_data';\n",
              "          await google.colab.output.renderOutput(dataTable, element);\n",
              "          const docLink = document.createElement('div');\n",
              "          docLink.innerHTML = docLinkHtml;\n",
              "          element.appendChild(docLink);\n",
              "        }\n",
              "      </script>\n",
              "    </div>\n",
              "  </div>\n",
              "  "
            ]
          },
          "metadata": {},
          "execution_count": 13
        }
      ]
    },
    {
      "cell_type": "code",
      "source": [
        "#remove extra blank spaces from reviews\n",
        "def spaces(x):\n",
        "  result = \" \".join(x.split())\n",
        "  return result\n",
        "\n",
        "df['review_body'] = [spaces(x) for x in df['review_body']]\n",
        "df.head()"
      ],
      "metadata": {
        "colab": {
          "base_uri": "https://localhost:8080/",
          "height": 206
        },
        "id": "r1cCRosMy8t4",
        "outputId": "829022ea-5cb3-4c5c-f34f-abe8bc21d13d"
      },
      "execution_count": 14,
      "outputs": [
        {
          "output_type": "execute_result",
          "data": {
            "text/plain": [
              "         star_rating                                        review_body\n",
              "3622600            2  got double package on time but unfortunately w...\n",
              "3951970            2  i received the venus olay razor in sugarberry ...\n",
              "3632459            3  ive been using this hand cream for the last mo...\n",
              "2349108            3  good quality great price the only thing bad is...\n",
              "4394793            3  i purchase the china glaze because of the colo..."
            ],
            "text/html": [
              "\n",
              "  <div id=\"df-a9cedfad-c730-499b-9729-6efd6c7fc900\">\n",
              "    <div class=\"colab-df-container\">\n",
              "      <div>\n",
              "<style scoped>\n",
              "    .dataframe tbody tr th:only-of-type {\n",
              "        vertical-align: middle;\n",
              "    }\n",
              "\n",
              "    .dataframe tbody tr th {\n",
              "        vertical-align: top;\n",
              "    }\n",
              "\n",
              "    .dataframe thead th {\n",
              "        text-align: right;\n",
              "    }\n",
              "</style>\n",
              "<table border=\"1\" class=\"dataframe\">\n",
              "  <thead>\n",
              "    <tr style=\"text-align: right;\">\n",
              "      <th></th>\n",
              "      <th>star_rating</th>\n",
              "      <th>review_body</th>\n",
              "    </tr>\n",
              "  </thead>\n",
              "  <tbody>\n",
              "    <tr>\n",
              "      <th>3622600</th>\n",
              "      <td>2</td>\n",
              "      <td>got double package on time but unfortunately w...</td>\n",
              "    </tr>\n",
              "    <tr>\n",
              "      <th>3951970</th>\n",
              "      <td>2</td>\n",
              "      <td>i received the venus olay razor in sugarberry ...</td>\n",
              "    </tr>\n",
              "    <tr>\n",
              "      <th>3632459</th>\n",
              "      <td>3</td>\n",
              "      <td>ive been using this hand cream for the last mo...</td>\n",
              "    </tr>\n",
              "    <tr>\n",
              "      <th>2349108</th>\n",
              "      <td>3</td>\n",
              "      <td>good quality great price the only thing bad is...</td>\n",
              "    </tr>\n",
              "    <tr>\n",
              "      <th>4394793</th>\n",
              "      <td>3</td>\n",
              "      <td>i purchase the china glaze because of the colo...</td>\n",
              "    </tr>\n",
              "  </tbody>\n",
              "</table>\n",
              "</div>\n",
              "      <button class=\"colab-df-convert\" onclick=\"convertToInteractive('df-a9cedfad-c730-499b-9729-6efd6c7fc900')\"\n",
              "              title=\"Convert this dataframe to an interactive table.\"\n",
              "              style=\"display:none;\">\n",
              "        \n",
              "  <svg xmlns=\"http://www.w3.org/2000/svg\" height=\"24px\"viewBox=\"0 0 24 24\"\n",
              "       width=\"24px\">\n",
              "    <path d=\"M0 0h24v24H0V0z\" fill=\"none\"/>\n",
              "    <path d=\"M18.56 5.44l.94 2.06.94-2.06 2.06-.94-2.06-.94-.94-2.06-.94 2.06-2.06.94zm-11 1L8.5 8.5l.94-2.06 2.06-.94-2.06-.94L8.5 2.5l-.94 2.06-2.06.94zm10 10l.94 2.06.94-2.06 2.06-.94-2.06-.94-.94-2.06-.94 2.06-2.06.94z\"/><path d=\"M17.41 7.96l-1.37-1.37c-.4-.4-.92-.59-1.43-.59-.52 0-1.04.2-1.43.59L10.3 9.45l-7.72 7.72c-.78.78-.78 2.05 0 2.83L4 21.41c.39.39.9.59 1.41.59.51 0 1.02-.2 1.41-.59l7.78-7.78 2.81-2.81c.8-.78.8-2.07 0-2.86zM5.41 20L4 18.59l7.72-7.72 1.47 1.35L5.41 20z\"/>\n",
              "  </svg>\n",
              "      </button>\n",
              "      \n",
              "  <style>\n",
              "    .colab-df-container {\n",
              "      display:flex;\n",
              "      flex-wrap:wrap;\n",
              "      gap: 12px;\n",
              "    }\n",
              "\n",
              "    .colab-df-convert {\n",
              "      background-color: #E8F0FE;\n",
              "      border: none;\n",
              "      border-radius: 50%;\n",
              "      cursor: pointer;\n",
              "      display: none;\n",
              "      fill: #1967D2;\n",
              "      height: 32px;\n",
              "      padding: 0 0 0 0;\n",
              "      width: 32px;\n",
              "    }\n",
              "\n",
              "    .colab-df-convert:hover {\n",
              "      background-color: #E2EBFA;\n",
              "      box-shadow: 0px 1px 2px rgba(60, 64, 67, 0.3), 0px 1px 3px 1px rgba(60, 64, 67, 0.15);\n",
              "      fill: #174EA6;\n",
              "    }\n",
              "\n",
              "    [theme=dark] .colab-df-convert {\n",
              "      background-color: #3B4455;\n",
              "      fill: #D2E3FC;\n",
              "    }\n",
              "\n",
              "    [theme=dark] .colab-df-convert:hover {\n",
              "      background-color: #434B5C;\n",
              "      box-shadow: 0px 1px 3px 1px rgba(0, 0, 0, 0.15);\n",
              "      filter: drop-shadow(0px 1px 2px rgba(0, 0, 0, 0.3));\n",
              "      fill: #FFFFFF;\n",
              "    }\n",
              "  </style>\n",
              "\n",
              "      <script>\n",
              "        const buttonEl =\n",
              "          document.querySelector('#df-a9cedfad-c730-499b-9729-6efd6c7fc900 button.colab-df-convert');\n",
              "        buttonEl.style.display =\n",
              "          google.colab.kernel.accessAllowed ? 'block' : 'none';\n",
              "\n",
              "        async function convertToInteractive(key) {\n",
              "          const element = document.querySelector('#df-a9cedfad-c730-499b-9729-6efd6c7fc900');\n",
              "          const dataTable =\n",
              "            await google.colab.kernel.invokeFunction('convertToInteractive',\n",
              "                                                     [key], {});\n",
              "          if (!dataTable) return;\n",
              "\n",
              "          const docLinkHtml = 'Like what you see? Visit the ' +\n",
              "            '<a target=\"_blank\" href=https://colab.research.google.com/notebooks/data_table.ipynb>data table notebook</a>'\n",
              "            + ' to learn more about interactive tables.';\n",
              "          element.innerHTML = '';\n",
              "          dataTable['output_type'] = 'display_data';\n",
              "          await google.colab.output.renderOutput(dataTable, element);\n",
              "          const docLink = document.createElement('div');\n",
              "          docLink.innerHTML = docLinkHtml;\n",
              "          element.appendChild(docLink);\n",
              "        }\n",
              "      </script>\n",
              "    </div>\n",
              "  </div>\n",
              "  "
            ]
          },
          "metadata": {},
          "execution_count": 14
        }
      ]
    },
    {
      "cell_type": "code",
      "source": [
        "#remove contractions from reviews\n",
        "def con(x):\n",
        "  return contractions.fix(x)\n",
        "\n",
        "df['review_body'] = [con(x) for x in df['review_body']]\n",
        "df.head()"
      ],
      "metadata": {
        "colab": {
          "base_uri": "https://localhost:8080/",
          "height": 206
        },
        "id": "ymRjkB_2zKlY",
        "outputId": "4b0bcec8-0262-4bbf-dd73-0fa6db8178a3"
      },
      "execution_count": 15,
      "outputs": [
        {
          "output_type": "execute_result",
          "data": {
            "text/plain": [
              "         star_rating                                        review_body\n",
              "3622600            2  got double package on time but unfortunately w...\n",
              "3951970            2  i received the venus olay razor in sugarberry ...\n",
              "3632459            3  i have been using this hand cream for the last...\n",
              "2349108            3  good quality great price the only thing bad is...\n",
              "4394793            3  i purchase the china glaze because of the colo..."
            ],
            "text/html": [
              "\n",
              "  <div id=\"df-0d88b4f8-970c-4697-8657-b10926d0ca18\">\n",
              "    <div class=\"colab-df-container\">\n",
              "      <div>\n",
              "<style scoped>\n",
              "    .dataframe tbody tr th:only-of-type {\n",
              "        vertical-align: middle;\n",
              "    }\n",
              "\n",
              "    .dataframe tbody tr th {\n",
              "        vertical-align: top;\n",
              "    }\n",
              "\n",
              "    .dataframe thead th {\n",
              "        text-align: right;\n",
              "    }\n",
              "</style>\n",
              "<table border=\"1\" class=\"dataframe\">\n",
              "  <thead>\n",
              "    <tr style=\"text-align: right;\">\n",
              "      <th></th>\n",
              "      <th>star_rating</th>\n",
              "      <th>review_body</th>\n",
              "    </tr>\n",
              "  </thead>\n",
              "  <tbody>\n",
              "    <tr>\n",
              "      <th>3622600</th>\n",
              "      <td>2</td>\n",
              "      <td>got double package on time but unfortunately w...</td>\n",
              "    </tr>\n",
              "    <tr>\n",
              "      <th>3951970</th>\n",
              "      <td>2</td>\n",
              "      <td>i received the venus olay razor in sugarberry ...</td>\n",
              "    </tr>\n",
              "    <tr>\n",
              "      <th>3632459</th>\n",
              "      <td>3</td>\n",
              "      <td>i have been using this hand cream for the last...</td>\n",
              "    </tr>\n",
              "    <tr>\n",
              "      <th>2349108</th>\n",
              "      <td>3</td>\n",
              "      <td>good quality great price the only thing bad is...</td>\n",
              "    </tr>\n",
              "    <tr>\n",
              "      <th>4394793</th>\n",
              "      <td>3</td>\n",
              "      <td>i purchase the china glaze because of the colo...</td>\n",
              "    </tr>\n",
              "  </tbody>\n",
              "</table>\n",
              "</div>\n",
              "      <button class=\"colab-df-convert\" onclick=\"convertToInteractive('df-0d88b4f8-970c-4697-8657-b10926d0ca18')\"\n",
              "              title=\"Convert this dataframe to an interactive table.\"\n",
              "              style=\"display:none;\">\n",
              "        \n",
              "  <svg xmlns=\"http://www.w3.org/2000/svg\" height=\"24px\"viewBox=\"0 0 24 24\"\n",
              "       width=\"24px\">\n",
              "    <path d=\"M0 0h24v24H0V0z\" fill=\"none\"/>\n",
              "    <path d=\"M18.56 5.44l.94 2.06.94-2.06 2.06-.94-2.06-.94-.94-2.06-.94 2.06-2.06.94zm-11 1L8.5 8.5l.94-2.06 2.06-.94-2.06-.94L8.5 2.5l-.94 2.06-2.06.94zm10 10l.94 2.06.94-2.06 2.06-.94-2.06-.94-.94-2.06-.94 2.06-2.06.94z\"/><path d=\"M17.41 7.96l-1.37-1.37c-.4-.4-.92-.59-1.43-.59-.52 0-1.04.2-1.43.59L10.3 9.45l-7.72 7.72c-.78.78-.78 2.05 0 2.83L4 21.41c.39.39.9.59 1.41.59.51 0 1.02-.2 1.41-.59l7.78-7.78 2.81-2.81c.8-.78.8-2.07 0-2.86zM5.41 20L4 18.59l7.72-7.72 1.47 1.35L5.41 20z\"/>\n",
              "  </svg>\n",
              "      </button>\n",
              "      \n",
              "  <style>\n",
              "    .colab-df-container {\n",
              "      display:flex;\n",
              "      flex-wrap:wrap;\n",
              "      gap: 12px;\n",
              "    }\n",
              "\n",
              "    .colab-df-convert {\n",
              "      background-color: #E8F0FE;\n",
              "      border: none;\n",
              "      border-radius: 50%;\n",
              "      cursor: pointer;\n",
              "      display: none;\n",
              "      fill: #1967D2;\n",
              "      height: 32px;\n",
              "      padding: 0 0 0 0;\n",
              "      width: 32px;\n",
              "    }\n",
              "\n",
              "    .colab-df-convert:hover {\n",
              "      background-color: #E2EBFA;\n",
              "      box-shadow: 0px 1px 2px rgba(60, 64, 67, 0.3), 0px 1px 3px 1px rgba(60, 64, 67, 0.15);\n",
              "      fill: #174EA6;\n",
              "    }\n",
              "\n",
              "    [theme=dark] .colab-df-convert {\n",
              "      background-color: #3B4455;\n",
              "      fill: #D2E3FC;\n",
              "    }\n",
              "\n",
              "    [theme=dark] .colab-df-convert:hover {\n",
              "      background-color: #434B5C;\n",
              "      box-shadow: 0px 1px 3px 1px rgba(0, 0, 0, 0.15);\n",
              "      filter: drop-shadow(0px 1px 2px rgba(0, 0, 0, 0.3));\n",
              "      fill: #FFFFFF;\n",
              "    }\n",
              "  </style>\n",
              "\n",
              "      <script>\n",
              "        const buttonEl =\n",
              "          document.querySelector('#df-0d88b4f8-970c-4697-8657-b10926d0ca18 button.colab-df-convert');\n",
              "        buttonEl.style.display =\n",
              "          google.colab.kernel.accessAllowed ? 'block' : 'none';\n",
              "\n",
              "        async function convertToInteractive(key) {\n",
              "          const element = document.querySelector('#df-0d88b4f8-970c-4697-8657-b10926d0ca18');\n",
              "          const dataTable =\n",
              "            await google.colab.kernel.invokeFunction('convertToInteractive',\n",
              "                                                     [key], {});\n",
              "          if (!dataTable) return;\n",
              "\n",
              "          const docLinkHtml = 'Like what you see? Visit the ' +\n",
              "            '<a target=\"_blank\" href=https://colab.research.google.com/notebooks/data_table.ipynb>data table notebook</a>'\n",
              "            + ' to learn more about interactive tables.';\n",
              "          element.innerHTML = '';\n",
              "          dataTable['output_type'] = 'display_data';\n",
              "          await google.colab.output.renderOutput(dataTable, element);\n",
              "          const docLink = document.createElement('div');\n",
              "          docLink.innerHTML = docLinkHtml;\n",
              "          element.appendChild(docLink);\n",
              "        }\n",
              "      </script>\n",
              "    </div>\n",
              "  </div>\n",
              "  "
            ]
          },
          "metadata": {},
          "execution_count": 15
        }
      ]
    },
    {
      "cell_type": "code",
      "source": [
        "#calculate the average length of reviews after data cleaning\n",
        "lenAfterCleaning = df['review_body'].str.len().mean()\n",
        "\n",
        "print(str(lenBeforeCleaning) + \", \" + str(lenAfterCleaning))"
      ],
      "metadata": {
        "colab": {
          "base_uri": "https://localhost:8080/"
        },
        "id": "bMLfzXP1zaQs",
        "outputId": "b0983792-babb-46d2-fe7e-ff32d24ea746"
      },
      "execution_count": 16,
      "outputs": [
        {
          "output_type": "stream",
          "name": "stdout",
          "text": [
            "290.51300086672444, 278.1562\n"
          ]
        }
      ]
    },
    {
      "cell_type": "markdown",
      "source": [
        "### Data Pre-processing"
      ],
      "metadata": {
        "id": "oQH-Zsklz1Aw"
      }
    },
    {
      "cell_type": "markdown",
      "source": [
        "This section does the following steps:\n",
        "- Remove Stopwords\n",
        "- Perform lemmatization"
      ],
      "metadata": {
        "id": "wawbdVeU0VTx"
      }
    },
    {
      "cell_type": "code",
      "source": [
        "#calculate length before preprocessing\n",
        "lenBeforePreprocessing = df['review_body'].str.len().mean()"
      ],
      "metadata": {
        "id": "xDWdMVcaKAhM"
      },
      "execution_count": 17,
      "outputs": []
    },
    {
      "cell_type": "code",
      "source": [
        "#remove stopwords\n",
        "nltk.download('stopwords')\n",
        "from nltk.corpus import stopwords\n",
        "\n",
        "stop_words = set(stopwords.words('english'))\n",
        "\n",
        "def sw_removal(x):\n",
        "  filtered_sentence = [w for w in x.split() if not w.lower() in stop_words]\n",
        "  return \" \".join(filtered_sentence)\n",
        "\n",
        "df['review_body'] = [sw_removal(x) for x in df['review_body']]\n",
        "df.head()"
      ],
      "metadata": {
        "colab": {
          "base_uri": "https://localhost:8080/",
          "height": 242
        },
        "id": "EHlVssg1z0ka",
        "outputId": "4694cfcb-4a33-4ff1-b90c-aa5ff65cc672"
      },
      "execution_count": 18,
      "outputs": [
        {
          "output_type": "stream",
          "name": "stderr",
          "text": [
            "[nltk_data] Downloading package stopwords to /root/nltk_data...\n",
            "[nltk_data]   Unzipping corpora/stopwords.zip.\n"
          ]
        },
        {
          "output_type": "execute_result",
          "data": {
            "text/plain": [
              "         star_rating                                        review_body\n",
              "3622600            2  got double package time unfortunately simply p...\n",
              "3951970            2  received venus olay razor sugarberry free prov...\n",
              "3632459            3  using hand cream last months noticed considera...\n",
              "2349108            3  good quality great price thing bad smell brown...\n",
              "4394793            3  purchase china glaze color love nailsi would r..."
            ],
            "text/html": [
              "\n",
              "  <div id=\"df-bc334cdd-8655-471d-a243-e4f09733ee9a\">\n",
              "    <div class=\"colab-df-container\">\n",
              "      <div>\n",
              "<style scoped>\n",
              "    .dataframe tbody tr th:only-of-type {\n",
              "        vertical-align: middle;\n",
              "    }\n",
              "\n",
              "    .dataframe tbody tr th {\n",
              "        vertical-align: top;\n",
              "    }\n",
              "\n",
              "    .dataframe thead th {\n",
              "        text-align: right;\n",
              "    }\n",
              "</style>\n",
              "<table border=\"1\" class=\"dataframe\">\n",
              "  <thead>\n",
              "    <tr style=\"text-align: right;\">\n",
              "      <th></th>\n",
              "      <th>star_rating</th>\n",
              "      <th>review_body</th>\n",
              "    </tr>\n",
              "  </thead>\n",
              "  <tbody>\n",
              "    <tr>\n",
              "      <th>3622600</th>\n",
              "      <td>2</td>\n",
              "      <td>got double package time unfortunately simply p...</td>\n",
              "    </tr>\n",
              "    <tr>\n",
              "      <th>3951970</th>\n",
              "      <td>2</td>\n",
              "      <td>received venus olay razor sugarberry free prov...</td>\n",
              "    </tr>\n",
              "    <tr>\n",
              "      <th>3632459</th>\n",
              "      <td>3</td>\n",
              "      <td>using hand cream last months noticed considera...</td>\n",
              "    </tr>\n",
              "    <tr>\n",
              "      <th>2349108</th>\n",
              "      <td>3</td>\n",
              "      <td>good quality great price thing bad smell brown...</td>\n",
              "    </tr>\n",
              "    <tr>\n",
              "      <th>4394793</th>\n",
              "      <td>3</td>\n",
              "      <td>purchase china glaze color love nailsi would r...</td>\n",
              "    </tr>\n",
              "  </tbody>\n",
              "</table>\n",
              "</div>\n",
              "      <button class=\"colab-df-convert\" onclick=\"convertToInteractive('df-bc334cdd-8655-471d-a243-e4f09733ee9a')\"\n",
              "              title=\"Convert this dataframe to an interactive table.\"\n",
              "              style=\"display:none;\">\n",
              "        \n",
              "  <svg xmlns=\"http://www.w3.org/2000/svg\" height=\"24px\"viewBox=\"0 0 24 24\"\n",
              "       width=\"24px\">\n",
              "    <path d=\"M0 0h24v24H0V0z\" fill=\"none\"/>\n",
              "    <path d=\"M18.56 5.44l.94 2.06.94-2.06 2.06-.94-2.06-.94-.94-2.06-.94 2.06-2.06.94zm-11 1L8.5 8.5l.94-2.06 2.06-.94-2.06-.94L8.5 2.5l-.94 2.06-2.06.94zm10 10l.94 2.06.94-2.06 2.06-.94-2.06-.94-.94-2.06-.94 2.06-2.06.94z\"/><path d=\"M17.41 7.96l-1.37-1.37c-.4-.4-.92-.59-1.43-.59-.52 0-1.04.2-1.43.59L10.3 9.45l-7.72 7.72c-.78.78-.78 2.05 0 2.83L4 21.41c.39.39.9.59 1.41.59.51 0 1.02-.2 1.41-.59l7.78-7.78 2.81-2.81c.8-.78.8-2.07 0-2.86zM5.41 20L4 18.59l7.72-7.72 1.47 1.35L5.41 20z\"/>\n",
              "  </svg>\n",
              "      </button>\n",
              "      \n",
              "  <style>\n",
              "    .colab-df-container {\n",
              "      display:flex;\n",
              "      flex-wrap:wrap;\n",
              "      gap: 12px;\n",
              "    }\n",
              "\n",
              "    .colab-df-convert {\n",
              "      background-color: #E8F0FE;\n",
              "      border: none;\n",
              "      border-radius: 50%;\n",
              "      cursor: pointer;\n",
              "      display: none;\n",
              "      fill: #1967D2;\n",
              "      height: 32px;\n",
              "      padding: 0 0 0 0;\n",
              "      width: 32px;\n",
              "    }\n",
              "\n",
              "    .colab-df-convert:hover {\n",
              "      background-color: #E2EBFA;\n",
              "      box-shadow: 0px 1px 2px rgba(60, 64, 67, 0.3), 0px 1px 3px 1px rgba(60, 64, 67, 0.15);\n",
              "      fill: #174EA6;\n",
              "    }\n",
              "\n",
              "    [theme=dark] .colab-df-convert {\n",
              "      background-color: #3B4455;\n",
              "      fill: #D2E3FC;\n",
              "    }\n",
              "\n",
              "    [theme=dark] .colab-df-convert:hover {\n",
              "      background-color: #434B5C;\n",
              "      box-shadow: 0px 1px 3px 1px rgba(0, 0, 0, 0.15);\n",
              "      filter: drop-shadow(0px 1px 2px rgba(0, 0, 0, 0.3));\n",
              "      fill: #FFFFFF;\n",
              "    }\n",
              "  </style>\n",
              "\n",
              "      <script>\n",
              "        const buttonEl =\n",
              "          document.querySelector('#df-bc334cdd-8655-471d-a243-e4f09733ee9a button.colab-df-convert');\n",
              "        buttonEl.style.display =\n",
              "          google.colab.kernel.accessAllowed ? 'block' : 'none';\n",
              "\n",
              "        async function convertToInteractive(key) {\n",
              "          const element = document.querySelector('#df-bc334cdd-8655-471d-a243-e4f09733ee9a');\n",
              "          const dataTable =\n",
              "            await google.colab.kernel.invokeFunction('convertToInteractive',\n",
              "                                                     [key], {});\n",
              "          if (!dataTable) return;\n",
              "\n",
              "          const docLinkHtml = 'Like what you see? Visit the ' +\n",
              "            '<a target=\"_blank\" href=https://colab.research.google.com/notebooks/data_table.ipynb>data table notebook</a>'\n",
              "            + ' to learn more about interactive tables.';\n",
              "          element.innerHTML = '';\n",
              "          dataTable['output_type'] = 'display_data';\n",
              "          await google.colab.output.renderOutput(dataTable, element);\n",
              "          const docLink = document.createElement('div');\n",
              "          docLink.innerHTML = docLinkHtml;\n",
              "          element.appendChild(docLink);\n",
              "        }\n",
              "      </script>\n",
              "    </div>\n",
              "  </div>\n",
              "  "
            ]
          },
          "metadata": {},
          "execution_count": 18
        }
      ]
    },
    {
      "cell_type": "code",
      "source": [
        "#perform lemmatization\n",
        "from nltk.corpus import wordnet\n",
        "def get_wordnet_pos(word):\n",
        "    \"\"\"Map POS tag to first character lemmatize() accepts\"\"\"\n",
        "    tag = nltk.pos_tag([word])[0][1][0].upper()\n",
        "    tag_dict = {\"J\": wordnet.ADJ,\n",
        "                \"N\": wordnet.NOUN,\n",
        "                \"V\": wordnet.VERB,\n",
        "                \"R\": wordnet.ADV}\n",
        "\n",
        "    return tag_dict.get(tag, wordnet.NOUN)"
      ],
      "metadata": {
        "id": "iekeKsjo03cC"
      },
      "execution_count": 19,
      "outputs": []
    },
    {
      "cell_type": "code",
      "source": [
        "from nltk.stem import WordNetLemmatizer\n",
        "lemmatizer = WordNetLemmatizer()\n",
        "\n",
        "def lemm(x):\n",
        "  return \" \".join([lemmatizer.lemmatize(word, get_wordnet_pos(word)) for word in x.split()])\n",
        "\n",
        "df['review_body'] = [lemm(x) for x in df['review_body']]\n",
        "df.head()"
      ],
      "metadata": {
        "colab": {
          "base_uri": "https://localhost:8080/",
          "height": 206
        },
        "id": "Hxuk5mQx19PU",
        "outputId": "c6bfd5bf-8c30-4533-ffbb-41d9c2431c5a"
      },
      "execution_count": 20,
      "outputs": [
        {
          "output_type": "execute_result",
          "data": {
            "text/plain": [
              "         star_rating                                        review_body\n",
              "3622600            2  get double package time unfortunately simply p...\n",
              "3951970            2  receive venus olay razor sugarberry free provi...\n",
              "3632459            3  use hand cream last month notice considerable ...\n",
              "2349108            3  good quality great price thing bad smell brown...\n",
              "4394793            3  purchase china glaze color love nailsi would r..."
            ],
            "text/html": [
              "\n",
              "  <div id=\"df-23d81a75-326f-4e9b-ab4f-2dafea894c8b\">\n",
              "    <div class=\"colab-df-container\">\n",
              "      <div>\n",
              "<style scoped>\n",
              "    .dataframe tbody tr th:only-of-type {\n",
              "        vertical-align: middle;\n",
              "    }\n",
              "\n",
              "    .dataframe tbody tr th {\n",
              "        vertical-align: top;\n",
              "    }\n",
              "\n",
              "    .dataframe thead th {\n",
              "        text-align: right;\n",
              "    }\n",
              "</style>\n",
              "<table border=\"1\" class=\"dataframe\">\n",
              "  <thead>\n",
              "    <tr style=\"text-align: right;\">\n",
              "      <th></th>\n",
              "      <th>star_rating</th>\n",
              "      <th>review_body</th>\n",
              "    </tr>\n",
              "  </thead>\n",
              "  <tbody>\n",
              "    <tr>\n",
              "      <th>3622600</th>\n",
              "      <td>2</td>\n",
              "      <td>get double package time unfortunately simply p...</td>\n",
              "    </tr>\n",
              "    <tr>\n",
              "      <th>3951970</th>\n",
              "      <td>2</td>\n",
              "      <td>receive venus olay razor sugarberry free provi...</td>\n",
              "    </tr>\n",
              "    <tr>\n",
              "      <th>3632459</th>\n",
              "      <td>3</td>\n",
              "      <td>use hand cream last month notice considerable ...</td>\n",
              "    </tr>\n",
              "    <tr>\n",
              "      <th>2349108</th>\n",
              "      <td>3</td>\n",
              "      <td>good quality great price thing bad smell brown...</td>\n",
              "    </tr>\n",
              "    <tr>\n",
              "      <th>4394793</th>\n",
              "      <td>3</td>\n",
              "      <td>purchase china glaze color love nailsi would r...</td>\n",
              "    </tr>\n",
              "  </tbody>\n",
              "</table>\n",
              "</div>\n",
              "      <button class=\"colab-df-convert\" onclick=\"convertToInteractive('df-23d81a75-326f-4e9b-ab4f-2dafea894c8b')\"\n",
              "              title=\"Convert this dataframe to an interactive table.\"\n",
              "              style=\"display:none;\">\n",
              "        \n",
              "  <svg xmlns=\"http://www.w3.org/2000/svg\" height=\"24px\"viewBox=\"0 0 24 24\"\n",
              "       width=\"24px\">\n",
              "    <path d=\"M0 0h24v24H0V0z\" fill=\"none\"/>\n",
              "    <path d=\"M18.56 5.44l.94 2.06.94-2.06 2.06-.94-2.06-.94-.94-2.06-.94 2.06-2.06.94zm-11 1L8.5 8.5l.94-2.06 2.06-.94-2.06-.94L8.5 2.5l-.94 2.06-2.06.94zm10 10l.94 2.06.94-2.06 2.06-.94-2.06-.94-.94-2.06-.94 2.06-2.06.94z\"/><path d=\"M17.41 7.96l-1.37-1.37c-.4-.4-.92-.59-1.43-.59-.52 0-1.04.2-1.43.59L10.3 9.45l-7.72 7.72c-.78.78-.78 2.05 0 2.83L4 21.41c.39.39.9.59 1.41.59.51 0 1.02-.2 1.41-.59l7.78-7.78 2.81-2.81c.8-.78.8-2.07 0-2.86zM5.41 20L4 18.59l7.72-7.72 1.47 1.35L5.41 20z\"/>\n",
              "  </svg>\n",
              "      </button>\n",
              "      \n",
              "  <style>\n",
              "    .colab-df-container {\n",
              "      display:flex;\n",
              "      flex-wrap:wrap;\n",
              "      gap: 12px;\n",
              "    }\n",
              "\n",
              "    .colab-df-convert {\n",
              "      background-color: #E8F0FE;\n",
              "      border: none;\n",
              "      border-radius: 50%;\n",
              "      cursor: pointer;\n",
              "      display: none;\n",
              "      fill: #1967D2;\n",
              "      height: 32px;\n",
              "      padding: 0 0 0 0;\n",
              "      width: 32px;\n",
              "    }\n",
              "\n",
              "    .colab-df-convert:hover {\n",
              "      background-color: #E2EBFA;\n",
              "      box-shadow: 0px 1px 2px rgba(60, 64, 67, 0.3), 0px 1px 3px 1px rgba(60, 64, 67, 0.15);\n",
              "      fill: #174EA6;\n",
              "    }\n",
              "\n",
              "    [theme=dark] .colab-df-convert {\n",
              "      background-color: #3B4455;\n",
              "      fill: #D2E3FC;\n",
              "    }\n",
              "\n",
              "    [theme=dark] .colab-df-convert:hover {\n",
              "      background-color: #434B5C;\n",
              "      box-shadow: 0px 1px 3px 1px rgba(0, 0, 0, 0.15);\n",
              "      filter: drop-shadow(0px 1px 2px rgba(0, 0, 0, 0.3));\n",
              "      fill: #FFFFFF;\n",
              "    }\n",
              "  </style>\n",
              "\n",
              "      <script>\n",
              "        const buttonEl =\n",
              "          document.querySelector('#df-23d81a75-326f-4e9b-ab4f-2dafea894c8b button.colab-df-convert');\n",
              "        buttonEl.style.display =\n",
              "          google.colab.kernel.accessAllowed ? 'block' : 'none';\n",
              "\n",
              "        async function convertToInteractive(key) {\n",
              "          const element = document.querySelector('#df-23d81a75-326f-4e9b-ab4f-2dafea894c8b');\n",
              "          const dataTable =\n",
              "            await google.colab.kernel.invokeFunction('convertToInteractive',\n",
              "                                                     [key], {});\n",
              "          if (!dataTable) return;\n",
              "\n",
              "          const docLinkHtml = 'Like what you see? Visit the ' +\n",
              "            '<a target=\"_blank\" href=https://colab.research.google.com/notebooks/data_table.ipynb>data table notebook</a>'\n",
              "            + ' to learn more about interactive tables.';\n",
              "          element.innerHTML = '';\n",
              "          dataTable['output_type'] = 'display_data';\n",
              "          await google.colab.output.renderOutput(dataTable, element);\n",
              "          const docLink = document.createElement('div');\n",
              "          docLink.innerHTML = docLinkHtml;\n",
              "          element.appendChild(docLink);\n",
              "        }\n",
              "      </script>\n",
              "    </div>\n",
              "  </div>\n",
              "  "
            ]
          },
          "metadata": {},
          "execution_count": 20
        }
      ]
    },
    {
      "cell_type": "code",
      "source": [
        "#calculate the average length of reviews after data cleaning\n",
        "lenAfterPreprocessing = df['review_body'].str.len().mean()\n",
        "\n",
        "print(str(lenBeforePreprocessing) + \", \" + str(lenAfterPreprocessing))"
      ],
      "metadata": {
        "colab": {
          "base_uri": "https://localhost:8080/"
        },
        "id": "mkEh51QBKmWm",
        "outputId": "a3c2688a-3603-4160-d094-fa539df3df73"
      },
      "execution_count": 21,
      "outputs": [
        {
          "output_type": "stream",
          "name": "stdout",
          "text": [
            "278.1562, 163.39178333333334\n"
          ]
        }
      ]
    },
    {
      "cell_type": "markdown",
      "source": [
        "### TF-IDF Vectorization"
      ],
      "metadata": {
        "id": "YqPqt3Af3Bqn"
      }
    },
    {
      "cell_type": "code",
      "source": [
        "from sklearn.feature_extraction.text import TfidfVectorizer\n",
        "\n",
        "vectorizer = TfidfVectorizer(ngram_range=(1,2))\n",
        "tfidf_vectors = vectorizer.fit_transform(df['review_body'])\n",
        "\n",
        "tfidf_vectors"
      ],
      "metadata": {
        "colab": {
          "base_uri": "https://localhost:8080/"
        },
        "id": "ib1qMouU3A5t",
        "outputId": "45d6a8bc-baea-4f56-fe37-3abeb45c7044"
      },
      "execution_count": 22,
      "outputs": [
        {
          "output_type": "execute_result",
          "data": {
            "text/plain": [
              "<60000x695072 sparse matrix of type '<class 'numpy.float64'>'\n",
              "\twith 2746665 stored elements in Compressed Sparse Row format>"
            ]
          },
          "metadata": {},
          "execution_count": 22
        }
      ]
    },
    {
      "cell_type": "markdown",
      "source": [
        "### Train-Test Split"
      ],
      "metadata": {
        "id": "SnvlZ7Lo3r7S"
      }
    },
    {
      "cell_type": "markdown",
      "source": [
        "Split the dataset now into training and testing (80-20 split)."
      ],
      "metadata": {
        "id": "LmapGjky3uVW"
      }
    },
    {
      "cell_type": "code",
      "source": [
        "from sklearn.model_selection import train_test_split\n",
        "\n",
        "X_train, X_test, y_train, y_test = train_test_split(tfidf_vectors, df['star_rating'], test_size=0.2, random_state = 25)\n",
        "print(\"Train: \",X_train.shape,y_train.shape,\"Test: \",(X_test.shape,y_test.shape))"
      ],
      "metadata": {
        "colab": {
          "base_uri": "https://localhost:8080/"
        },
        "id": "QNYitblL3bxk",
        "outputId": "027c93e9-76a3-41eb-8d68-166f139e6c59"
      },
      "execution_count": 23,
      "outputs": [
        {
          "output_type": "stream",
          "name": "stdout",
          "text": [
            "Train:  (48000, 695072) (48000,) Test:  ((12000, 695072), (12000,))\n"
          ]
        }
      ]
    },
    {
      "cell_type": "markdown",
      "source": [
        "### Training and Evaluation"
      ],
      "metadata": {
        "id": "VbRofYTh3_8J"
      }
    },
    {
      "cell_type": "markdown",
      "source": [
        "#### Single Layer Perceptron"
      ],
      "metadata": {
        "id": "hh-3Lv5W4Gsz"
      }
    },
    {
      "cell_type": "markdown",
      "source": [
        "Apply the single layer perceptron model to train the data. Calculate the precision, recall and F1 score for each class.\n"
      ],
      "metadata": {
        "id": "1isUZvMI4JiZ"
      }
    },
    {
      "cell_type": "code",
      "source": [
        "from sklearn.linear_model import Perceptron\n",
        "\n",
        "perceptron = Perceptron(tol=1e-3, random_state=0)\n",
        "perceptron.fit(X_train, y_train)"
      ],
      "metadata": {
        "colab": {
          "base_uri": "https://localhost:8080/"
        },
        "id": "OVFQhkSQ39R_",
        "outputId": "44d0f972-b21e-4d94-d019-614916c04561"
      },
      "execution_count": 24,
      "outputs": [
        {
          "output_type": "execute_result",
          "data": {
            "text/plain": [
              "Perceptron()"
            ]
          },
          "metadata": {},
          "execution_count": 24
        }
      ]
    },
    {
      "cell_type": "code",
      "source": [
        "perceptron_predictions = perceptron.predict(X_test)\n",
        "\n",
        "print(\"Average precision: \", precision_score(y_test, perceptron_predictions, average = 'weighted'))\n",
        "print(\"Average recall: \", recall_score(y_test, perceptron_predictions, average = 'weighted'))\n",
        "print(\"Average f1 score: \", f1_score(y_test, perceptron_predictions, average = 'weighted'))"
      ],
      "metadata": {
        "colab": {
          "base_uri": "https://localhost:8080/"
        },
        "id": "UtA4-xj04M1Q",
        "outputId": "90823225-72cf-4d3a-ddb2-ed23bd6b6182"
      },
      "execution_count": 25,
      "outputs": [
        {
          "output_type": "stream",
          "name": "stdout",
          "text": [
            "Average precision:  0.6367053692234758\n",
            "Average recall:  0.6385\n",
            "Average f1 score:  0.6349957430265137\n"
          ]
        }
      ]
    },
    {
      "cell_type": "code",
      "source": [
        "print(\"Classification report: \\n\", classification_report(y_test, perceptron_predictions))"
      ],
      "metadata": {
        "colab": {
          "base_uri": "https://localhost:8080/"
        },
        "id": "B98TUSGr5ITC",
        "outputId": "17ff0e37-9ed1-4af1-d7f8-b5a54e00655c"
      },
      "execution_count": 26,
      "outputs": [
        {
          "output_type": "stream",
          "name": "stdout",
          "text": [
            "Classification report: \n",
            "               precision    recall  f1-score   support\n",
            "\n",
            "           1       0.61      0.71      0.66      3922\n",
            "           2       0.57      0.48      0.52      3990\n",
            "           3       0.73      0.72      0.72      4088\n",
            "\n",
            "    accuracy                           0.64     12000\n",
            "   macro avg       0.64      0.64      0.63     12000\n",
            "weighted avg       0.64      0.64      0.63     12000\n",
            "\n"
          ]
        }
      ]
    },
    {
      "cell_type": "markdown",
      "source": [
        "#### Support Vector Machine (SVM)"
      ],
      "metadata": {
        "id": "D6Z9DlUQ4_rk"
      }
    },
    {
      "cell_type": "markdown",
      "source": [
        "Apply the SVM model to train the data. Calculate the precision, recall and F1 score for each class.\n"
      ],
      "metadata": {
        "id": "RKmZ8oaF5c69"
      }
    },
    {
      "cell_type": "code",
      "source": [
        "from sklearn.svm import LinearSVC\n",
        "\n",
        "svm_model = LinearSVC(random_state=0)\n",
        "svm_model.fit(X_train, y_train)"
      ],
      "metadata": {
        "colab": {
          "base_uri": "https://localhost:8080/"
        },
        "id": "cC9v1a2s5qa4",
        "outputId": "5d98551c-39a7-48b8-820f-9e7c41b4c8da"
      },
      "execution_count": 27,
      "outputs": [
        {
          "output_type": "execute_result",
          "data": {
            "text/plain": [
              "LinearSVC(random_state=0)"
            ]
          },
          "metadata": {},
          "execution_count": 27
        }
      ]
    },
    {
      "cell_type": "code",
      "source": [
        "svm_predictions = svm_model.predict(X_test)\n",
        "\n",
        "print(\"Average precision: \", precision_score(y_test, svm_predictions, average = 'weighted'))\n",
        "print(\"Average recall: \", recall_score(y_test, svm_predictions, average = 'weighted'))\n",
        "print(\"Average f1 score: \", f1_score(y_test, svm_predictions, average = 'weighted'))"
      ],
      "metadata": {
        "colab": {
          "base_uri": "https://localhost:8080/"
        },
        "id": "dEr5Ek0s5_A2",
        "outputId": "5dba35c2-e453-462c-ec8a-069683f49401"
      },
      "execution_count": 28,
      "outputs": [
        {
          "output_type": "stream",
          "name": "stdout",
          "text": [
            "Average precision:  0.6803843386198024\n",
            "Average recall:  0.68225\n",
            "Average f1 score:  0.6810986000813194\n"
          ]
        }
      ]
    },
    {
      "cell_type": "code",
      "source": [
        "print(\"Classification report: \\n\", classification_report(y_test, svm_predictions))"
      ],
      "metadata": {
        "colab": {
          "base_uri": "https://localhost:8080/"
        },
        "id": "8kjN6hig6FJR",
        "outputId": "8c025e3b-4703-4847-f8f1-5d440e48786d"
      },
      "execution_count": 29,
      "outputs": [
        {
          "output_type": "stream",
          "name": "stdout",
          "text": [
            "Classification report: \n",
            "               precision    recall  f1-score   support\n",
            "\n",
            "           1       0.68      0.70      0.69      3922\n",
            "           2       0.60      0.57      0.59      3990\n",
            "           3       0.75      0.77      0.76      4088\n",
            "\n",
            "    accuracy                           0.68     12000\n",
            "   macro avg       0.68      0.68      0.68     12000\n",
            "weighted avg       0.68      0.68      0.68     12000\n",
            "\n"
          ]
        }
      ]
    },
    {
      "cell_type": "markdown",
      "source": [
        "#### Logistic Regression"
      ],
      "metadata": {
        "id": "EYigndzd6Uv-"
      }
    },
    {
      "cell_type": "markdown",
      "source": [
        "Apply the Logistic Regression model to train the data. Calculate the precision, recall and F1 score for each class.\n"
      ],
      "metadata": {
        "id": "miaReuM86ZNb"
      }
    },
    {
      "cell_type": "code",
      "source": [
        "from sklearn.linear_model import LogisticRegression\n",
        "\n",
        "logistic_model = LogisticRegression(max_iter=1000,solver='saga')\n",
        "\n",
        "logistic_model.fit(X_train,y_train)"
      ],
      "metadata": {
        "colab": {
          "base_uri": "https://localhost:8080/"
        },
        "id": "uZYCpX9R6cKi",
        "outputId": "6265a8ef-c43e-44d6-9827-48f77532b128"
      },
      "execution_count": 30,
      "outputs": [
        {
          "output_type": "execute_result",
          "data": {
            "text/plain": [
              "LogisticRegression(max_iter=1000, solver='saga')"
            ]
          },
          "metadata": {},
          "execution_count": 30
        }
      ]
    },
    {
      "cell_type": "code",
      "source": [
        "logistic_predictions = logistic_model.predict(X_test)\n",
        "\n",
        "print(\"Average precision: \", precision_score(y_test, logistic_predictions, average = 'weighted'))\n",
        "print(\"Average recall: \", recall_score(y_test,  logistic_predictions, average = 'weighted'))\n",
        "print(\"Average f1 score: \", f1_score(y_test,  logistic_predictions, average = 'weighted'))"
      ],
      "metadata": {
        "colab": {
          "base_uri": "https://localhost:8080/"
        },
        "id": "itq71WBc6zGx",
        "outputId": "775b34ea-0ae1-4cbf-b024-577dcdff4f90"
      },
      "execution_count": 31,
      "outputs": [
        {
          "output_type": "stream",
          "name": "stdout",
          "text": [
            "Average precision:  0.6915747678958981\n",
            "Average recall:  0.6910833333333334\n",
            "Average f1 score:  0.691246338688441\n"
          ]
        }
      ]
    },
    {
      "cell_type": "code",
      "source": [
        "print(\"Classification report: \\n\", classification_report(y_test, logistic_predictions))"
      ],
      "metadata": {
        "colab": {
          "base_uri": "https://localhost:8080/"
        },
        "id": "OO16zYao7AfI",
        "outputId": "aeac713d-5585-4afe-828a-5cdf0962e18c"
      },
      "execution_count": 32,
      "outputs": [
        {
          "output_type": "stream",
          "name": "stdout",
          "text": [
            "Classification report: \n",
            "               precision    recall  f1-score   support\n",
            "\n",
            "           1       0.69      0.71      0.70      3922\n",
            "           2       0.61      0.61      0.61      3990\n",
            "           3       0.77      0.75      0.76      4088\n",
            "\n",
            "    accuracy                           0.69     12000\n",
            "   macro avg       0.69      0.69      0.69     12000\n",
            "weighted avg       0.69      0.69      0.69     12000\n",
            "\n"
          ]
        }
      ]
    },
    {
      "cell_type": "markdown",
      "source": [
        "#### Multinomial Naive Bayes"
      ],
      "metadata": {
        "id": "gMY6TSFj7Fsc"
      }
    },
    {
      "cell_type": "markdown",
      "source": [
        "Apply the Logistic Regression model to train the data. Calculate the precision, recall and F1 score for each class."
      ],
      "metadata": {
        "id": "sCHYIxw27JGr"
      }
    },
    {
      "cell_type": "code",
      "source": [
        "from sklearn.naive_bayes import MultinomialNB\n",
        "\n",
        "nb_model = MultinomialNB()\n",
        "\n",
        "nb_model.fit(X_train, y_train)"
      ],
      "metadata": {
        "colab": {
          "base_uri": "https://localhost:8080/"
        },
        "id": "ppeB5g6T7MkH",
        "outputId": "12d8c1b7-c524-42ab-b5d0-31c30ef6c4da"
      },
      "execution_count": 33,
      "outputs": [
        {
          "output_type": "execute_result",
          "data": {
            "text/plain": [
              "MultinomialNB()"
            ]
          },
          "metadata": {},
          "execution_count": 33
        }
      ]
    },
    {
      "cell_type": "code",
      "source": [
        "nb_predictions = nb_model.predict(X_test)\n",
        "\n",
        "print(\"Average precision: \", precision_score(y_test, nb_predictions , average = 'weighted'))\n",
        "print(\"Average recall: \", recall_score(y_test,  nb_predictions , average = 'weighted'))\n",
        "print(\"Average f1 score: \", f1_score(y_test,  nb_predictions , average = 'weighted'))"
      ],
      "metadata": {
        "colab": {
          "base_uri": "https://localhost:8080/"
        },
        "id": "rWitZQYJ7RO4",
        "outputId": "c53c7ea3-2b08-48a8-a6bc-54f9e2ccdf36"
      },
      "execution_count": 34,
      "outputs": [
        {
          "output_type": "stream",
          "name": "stdout",
          "text": [
            "Average precision:  0.6830130656592149\n",
            "Average recall:  0.679\n",
            "Average f1 score:  0.6805321425192911\n"
          ]
        }
      ]
    },
    {
      "cell_type": "code",
      "source": [
        "print(\"Classification report: \\n\", classification_report(y_test, nb_predictions))"
      ],
      "metadata": {
        "colab": {
          "base_uri": "https://localhost:8080/"
        },
        "id": "gFg4p1Fv7dYk",
        "outputId": "b556d3e3-dddd-4a0f-b505-46cbc56737ec"
      },
      "execution_count": 35,
      "outputs": [
        {
          "output_type": "stream",
          "name": "stdout",
          "text": [
            "Classification report: \n",
            "               precision    recall  f1-score   support\n",
            "\n",
            "           1       0.69      0.68      0.69      3922\n",
            "           2       0.58      0.63      0.61      3990\n",
            "           3       0.77      0.73      0.75      4088\n",
            "\n",
            "    accuracy                           0.68     12000\n",
            "   macro avg       0.68      0.68      0.68     12000\n",
            "weighted avg       0.68      0.68      0.68     12000\n",
            "\n"
          ]
        }
      ]
    },
    {
      "cell_type": "markdown",
      "source": [
        "## Modified Code"
      ],
      "metadata": {
        "id": "npE4htRLtd-v"
      }
    },
    {
      "cell_type": "markdown",
      "source": [
        "To obtain higher values for the evaluation metrics, various methods were tried, out of which, the following proved to be the most effective. \n",
        "\n",
        "*   Include column 'review_headline': \n",
        "\n",
        "    > Including this column in combination with 'review_body' returned considerably higher accuracy (+4% at minimum).\n",
        "\n",
        "*   Partial removal of StopWords:\n",
        "\n",
        "    > The original stopwords in nltk contain negation words as well as words that share a positive or negative opinion of the reviewer. Hence, a curated list of stopwords was created (subset of nltk stopwords) which helped to remove the unnecessary words but retained words that expressed an opinion. \n",
        "\n"
      ],
      "metadata": {
        "id": "Xsgf0jpi8Zta"
      }
    },
    {
      "cell_type": "markdown",
      "source": [
        "### Keep Necessary Columns"
      ],
      "metadata": {
        "id": "k9jYfMbJMLGi"
      }
    },
    {
      "cell_type": "markdown",
      "source": [
        "This is where we add the 'review_headline' column to our dataframe"
      ],
      "metadata": {
        "id": "PIVDlf8MMSkJ"
      }
    },
    {
      "cell_type": "code",
      "source": [
        "m_new_df = main_dataset[['star_rating', 'review_body', 'review_headline']]\n",
        "m_new_df.head()"
      ],
      "metadata": {
        "colab": {
          "base_uri": "https://localhost:8080/",
          "height": 206
        },
        "id": "mK8aYpyS8Spy",
        "outputId": "237c0576-4a94-4d8d-ca33-4251f6cf8a95"
      },
      "execution_count": 36,
      "outputs": [
        {
          "output_type": "execute_result",
          "data": {
            "text/plain": [
              "  star_rating                                        review_body  \\\n",
              "0           5                   Love this, excellent sun block!!   \n",
              "1           5  The great thing about this cream is that it do...   \n",
              "2           5  Great Product, I'm 65 years old and this is al...   \n",
              "3           5  I use them as shower caps & conditioning caps....   \n",
              "4           5  This is my go-to daily sunblock. It leaves no ...   \n",
              "\n",
              "                                     review_headline  \n",
              "0                                         Five Stars  \n",
              "1                          Thank you Alba Bontanica!  \n",
              "2                                         Five Stars  \n",
              "3                                         GOOD DEAL!  \n",
              "4  this soaks in quick and provides a nice base f...  "
            ],
            "text/html": [
              "\n",
              "  <div id=\"df-ed826111-9dce-4ada-af97-8880419ed194\">\n",
              "    <div class=\"colab-df-container\">\n",
              "      <div>\n",
              "<style scoped>\n",
              "    .dataframe tbody tr th:only-of-type {\n",
              "        vertical-align: middle;\n",
              "    }\n",
              "\n",
              "    .dataframe tbody tr th {\n",
              "        vertical-align: top;\n",
              "    }\n",
              "\n",
              "    .dataframe thead th {\n",
              "        text-align: right;\n",
              "    }\n",
              "</style>\n",
              "<table border=\"1\" class=\"dataframe\">\n",
              "  <thead>\n",
              "    <tr style=\"text-align: right;\">\n",
              "      <th></th>\n",
              "      <th>star_rating</th>\n",
              "      <th>review_body</th>\n",
              "      <th>review_headline</th>\n",
              "    </tr>\n",
              "  </thead>\n",
              "  <tbody>\n",
              "    <tr>\n",
              "      <th>0</th>\n",
              "      <td>5</td>\n",
              "      <td>Love this, excellent sun block!!</td>\n",
              "      <td>Five Stars</td>\n",
              "    </tr>\n",
              "    <tr>\n",
              "      <th>1</th>\n",
              "      <td>5</td>\n",
              "      <td>The great thing about this cream is that it do...</td>\n",
              "      <td>Thank you Alba Bontanica!</td>\n",
              "    </tr>\n",
              "    <tr>\n",
              "      <th>2</th>\n",
              "      <td>5</td>\n",
              "      <td>Great Product, I'm 65 years old and this is al...</td>\n",
              "      <td>Five Stars</td>\n",
              "    </tr>\n",
              "    <tr>\n",
              "      <th>3</th>\n",
              "      <td>5</td>\n",
              "      <td>I use them as shower caps &amp; conditioning caps....</td>\n",
              "      <td>GOOD DEAL!</td>\n",
              "    </tr>\n",
              "    <tr>\n",
              "      <th>4</th>\n",
              "      <td>5</td>\n",
              "      <td>This is my go-to daily sunblock. It leaves no ...</td>\n",
              "      <td>this soaks in quick and provides a nice base f...</td>\n",
              "    </tr>\n",
              "  </tbody>\n",
              "</table>\n",
              "</div>\n",
              "      <button class=\"colab-df-convert\" onclick=\"convertToInteractive('df-ed826111-9dce-4ada-af97-8880419ed194')\"\n",
              "              title=\"Convert this dataframe to an interactive table.\"\n",
              "              style=\"display:none;\">\n",
              "        \n",
              "  <svg xmlns=\"http://www.w3.org/2000/svg\" height=\"24px\"viewBox=\"0 0 24 24\"\n",
              "       width=\"24px\">\n",
              "    <path d=\"M0 0h24v24H0V0z\" fill=\"none\"/>\n",
              "    <path d=\"M18.56 5.44l.94 2.06.94-2.06 2.06-.94-2.06-.94-.94-2.06-.94 2.06-2.06.94zm-11 1L8.5 8.5l.94-2.06 2.06-.94-2.06-.94L8.5 2.5l-.94 2.06-2.06.94zm10 10l.94 2.06.94-2.06 2.06-.94-2.06-.94-.94-2.06-.94 2.06-2.06.94z\"/><path d=\"M17.41 7.96l-1.37-1.37c-.4-.4-.92-.59-1.43-.59-.52 0-1.04.2-1.43.59L10.3 9.45l-7.72 7.72c-.78.78-.78 2.05 0 2.83L4 21.41c.39.39.9.59 1.41.59.51 0 1.02-.2 1.41-.59l7.78-7.78 2.81-2.81c.8-.78.8-2.07 0-2.86zM5.41 20L4 18.59l7.72-7.72 1.47 1.35L5.41 20z\"/>\n",
              "  </svg>\n",
              "      </button>\n",
              "      \n",
              "  <style>\n",
              "    .colab-df-container {\n",
              "      display:flex;\n",
              "      flex-wrap:wrap;\n",
              "      gap: 12px;\n",
              "    }\n",
              "\n",
              "    .colab-df-convert {\n",
              "      background-color: #E8F0FE;\n",
              "      border: none;\n",
              "      border-radius: 50%;\n",
              "      cursor: pointer;\n",
              "      display: none;\n",
              "      fill: #1967D2;\n",
              "      height: 32px;\n",
              "      padding: 0 0 0 0;\n",
              "      width: 32px;\n",
              "    }\n",
              "\n",
              "    .colab-df-convert:hover {\n",
              "      background-color: #E2EBFA;\n",
              "      box-shadow: 0px 1px 2px rgba(60, 64, 67, 0.3), 0px 1px 3px 1px rgba(60, 64, 67, 0.15);\n",
              "      fill: #174EA6;\n",
              "    }\n",
              "\n",
              "    [theme=dark] .colab-df-convert {\n",
              "      background-color: #3B4455;\n",
              "      fill: #D2E3FC;\n",
              "    }\n",
              "\n",
              "    [theme=dark] .colab-df-convert:hover {\n",
              "      background-color: #434B5C;\n",
              "      box-shadow: 0px 1px 3px 1px rgba(0, 0, 0, 0.15);\n",
              "      filter: drop-shadow(0px 1px 2px rgba(0, 0, 0, 0.3));\n",
              "      fill: #FFFFFF;\n",
              "    }\n",
              "  </style>\n",
              "\n",
              "      <script>\n",
              "        const buttonEl =\n",
              "          document.querySelector('#df-ed826111-9dce-4ada-af97-8880419ed194 button.colab-df-convert');\n",
              "        buttonEl.style.display =\n",
              "          google.colab.kernel.accessAllowed ? 'block' : 'none';\n",
              "\n",
              "        async function convertToInteractive(key) {\n",
              "          const element = document.querySelector('#df-ed826111-9dce-4ada-af97-8880419ed194');\n",
              "          const dataTable =\n",
              "            await google.colab.kernel.invokeFunction('convertToInteractive',\n",
              "                                                     [key], {});\n",
              "          if (!dataTable) return;\n",
              "\n",
              "          const docLinkHtml = 'Like what you see? Visit the ' +\n",
              "            '<a target=\"_blank\" href=https://colab.research.google.com/notebooks/data_table.ipynb>data table notebook</a>'\n",
              "            + ' to learn more about interactive tables.';\n",
              "          element.innerHTML = '';\n",
              "          dataTable['output_type'] = 'display_data';\n",
              "          await google.colab.output.renderOutput(dataTable, element);\n",
              "          const docLink = document.createElement('div');\n",
              "          docLink.innerHTML = docLinkHtml;\n",
              "          element.appendChild(docLink);\n",
              "        }\n",
              "      </script>\n",
              "    </div>\n",
              "  </div>\n",
              "  "
            ]
          },
          "metadata": {},
          "execution_count": 36
        }
      ]
    },
    {
      "cell_type": "markdown",
      "metadata": {
        "id": "Lrwqhbas6kgr"
      },
      "source": [
        "We form three classes and select 20000 reviews randomly from each class.\n",
        "\n"
      ]
    },
    {
      "cell_type": "code",
      "execution_count": 37,
      "metadata": {
        "colab": {
          "base_uri": "https://localhost:8080/",
          "height": 206
        },
        "id": "EsNbiM_ZAeyM",
        "outputId": "97404e51-7b56-4734-81aa-f1942f5c83bb"
      },
      "outputs": [
        {
          "output_type": "execute_result",
          "data": {
            "text/plain": [
              "         star_rating                                        review_body  \\\n",
              "469223             1  I do not feel that this product help set my ma...   \n",
              "224447             1  the darker blue is 'spoty' ;blotchy' for the f...   \n",
              "1258949            1   I don't like the vital bath gel its not the same   \n",
              "4467681            1  I bought this product despite the reviews beca...   \n",
              "2399955            2  So-so, they are good for one time use only if ...   \n",
              "\n",
              "                                           review_headline  \n",
              "469223   It wore the same as it did before using it and...  \n",
              "224447   the darker blue is 'spoty'; blotchy' for the f...  \n",
              "1258949                                          Two Stars  \n",
              "4467681                                  Not for dark hair  \n",
              "2399955  they are good for one time use only if you don...  "
            ],
            "text/html": [
              "\n",
              "  <div id=\"df-f34ce0c2-c61b-48dd-bee9-cc1f4c315b8a\">\n",
              "    <div class=\"colab-df-container\">\n",
              "      <div>\n",
              "<style scoped>\n",
              "    .dataframe tbody tr th:only-of-type {\n",
              "        vertical-align: middle;\n",
              "    }\n",
              "\n",
              "    .dataframe tbody tr th {\n",
              "        vertical-align: top;\n",
              "    }\n",
              "\n",
              "    .dataframe thead th {\n",
              "        text-align: right;\n",
              "    }\n",
              "</style>\n",
              "<table border=\"1\" class=\"dataframe\">\n",
              "  <thead>\n",
              "    <tr style=\"text-align: right;\">\n",
              "      <th></th>\n",
              "      <th>star_rating</th>\n",
              "      <th>review_body</th>\n",
              "      <th>review_headline</th>\n",
              "    </tr>\n",
              "  </thead>\n",
              "  <tbody>\n",
              "    <tr>\n",
              "      <th>469223</th>\n",
              "      <td>1</td>\n",
              "      <td>I do not feel that this product help set my ma...</td>\n",
              "      <td>It wore the same as it did before using it and...</td>\n",
              "    </tr>\n",
              "    <tr>\n",
              "      <th>224447</th>\n",
              "      <td>1</td>\n",
              "      <td>the darker blue is 'spoty' ;blotchy' for the f...</td>\n",
              "      <td>the darker blue is 'spoty'; blotchy' for the f...</td>\n",
              "    </tr>\n",
              "    <tr>\n",
              "      <th>1258949</th>\n",
              "      <td>1</td>\n",
              "      <td>I don't like the vital bath gel its not the same</td>\n",
              "      <td>Two Stars</td>\n",
              "    </tr>\n",
              "    <tr>\n",
              "      <th>4467681</th>\n",
              "      <td>1</td>\n",
              "      <td>I bought this product despite the reviews beca...</td>\n",
              "      <td>Not for dark hair</td>\n",
              "    </tr>\n",
              "    <tr>\n",
              "      <th>2399955</th>\n",
              "      <td>2</td>\n",
              "      <td>So-so, they are good for one time use only if ...</td>\n",
              "      <td>they are good for one time use only if you don...</td>\n",
              "    </tr>\n",
              "  </tbody>\n",
              "</table>\n",
              "</div>\n",
              "      <button class=\"colab-df-convert\" onclick=\"convertToInteractive('df-f34ce0c2-c61b-48dd-bee9-cc1f4c315b8a')\"\n",
              "              title=\"Convert this dataframe to an interactive table.\"\n",
              "              style=\"display:none;\">\n",
              "        \n",
              "  <svg xmlns=\"http://www.w3.org/2000/svg\" height=\"24px\"viewBox=\"0 0 24 24\"\n",
              "       width=\"24px\">\n",
              "    <path d=\"M0 0h24v24H0V0z\" fill=\"none\"/>\n",
              "    <path d=\"M18.56 5.44l.94 2.06.94-2.06 2.06-.94-2.06-.94-.94-2.06-.94 2.06-2.06.94zm-11 1L8.5 8.5l.94-2.06 2.06-.94-2.06-.94L8.5 2.5l-.94 2.06-2.06.94zm10 10l.94 2.06.94-2.06 2.06-.94-2.06-.94-.94-2.06-.94 2.06-2.06.94z\"/><path d=\"M17.41 7.96l-1.37-1.37c-.4-.4-.92-.59-1.43-.59-.52 0-1.04.2-1.43.59L10.3 9.45l-7.72 7.72c-.78.78-.78 2.05 0 2.83L4 21.41c.39.39.9.59 1.41.59.51 0 1.02-.2 1.41-.59l7.78-7.78 2.81-2.81c.8-.78.8-2.07 0-2.86zM5.41 20L4 18.59l7.72-7.72 1.47 1.35L5.41 20z\"/>\n",
              "  </svg>\n",
              "      </button>\n",
              "      \n",
              "  <style>\n",
              "    .colab-df-container {\n",
              "      display:flex;\n",
              "      flex-wrap:wrap;\n",
              "      gap: 12px;\n",
              "    }\n",
              "\n",
              "    .colab-df-convert {\n",
              "      background-color: #E8F0FE;\n",
              "      border: none;\n",
              "      border-radius: 50%;\n",
              "      cursor: pointer;\n",
              "      display: none;\n",
              "      fill: #1967D2;\n",
              "      height: 32px;\n",
              "      padding: 0 0 0 0;\n",
              "      width: 32px;\n",
              "    }\n",
              "\n",
              "    .colab-df-convert:hover {\n",
              "      background-color: #E2EBFA;\n",
              "      box-shadow: 0px 1px 2px rgba(60, 64, 67, 0.3), 0px 1px 3px 1px rgba(60, 64, 67, 0.15);\n",
              "      fill: #174EA6;\n",
              "    }\n",
              "\n",
              "    [theme=dark] .colab-df-convert {\n",
              "      background-color: #3B4455;\n",
              "      fill: #D2E3FC;\n",
              "    }\n",
              "\n",
              "    [theme=dark] .colab-df-convert:hover {\n",
              "      background-color: #434B5C;\n",
              "      box-shadow: 0px 1px 3px 1px rgba(0, 0, 0, 0.15);\n",
              "      filter: drop-shadow(0px 1px 2px rgba(0, 0, 0, 0.3));\n",
              "      fill: #FFFFFF;\n",
              "    }\n",
              "  </style>\n",
              "\n",
              "      <script>\n",
              "        const buttonEl =\n",
              "          document.querySelector('#df-f34ce0c2-c61b-48dd-bee9-cc1f4c315b8a button.colab-df-convert');\n",
              "        buttonEl.style.display =\n",
              "          google.colab.kernel.accessAllowed ? 'block' : 'none';\n",
              "\n",
              "        async function convertToInteractive(key) {\n",
              "          const element = document.querySelector('#df-f34ce0c2-c61b-48dd-bee9-cc1f4c315b8a');\n",
              "          const dataTable =\n",
              "            await google.colab.kernel.invokeFunction('convertToInteractive',\n",
              "                                                     [key], {});\n",
              "          if (!dataTable) return;\n",
              "\n",
              "          const docLinkHtml = 'Like what you see? Visit the ' +\n",
              "            '<a target=\"_blank\" href=https://colab.research.google.com/notebooks/data_table.ipynb>data table notebook</a>'\n",
              "            + ' to learn more about interactive tables.';\n",
              "          element.innerHTML = '';\n",
              "          dataTable['output_type'] = 'display_data';\n",
              "          await google.colab.output.renderOutput(dataTable, element);\n",
              "          const docLink = document.createElement('div');\n",
              "          docLink.innerHTML = docLinkHtml;\n",
              "          element.appendChild(docLink);\n",
              "        }\n",
              "      </script>\n",
              "    </div>\n",
              "  </div>\n",
              "  "
            ]
          },
          "metadata": {},
          "execution_count": 37
        }
      ],
      "source": [
        "m_df_1 = m_new_df.query(\"star_rating == 1 | star_rating == 2\").sample(n=20000)\n",
        "m_df_1['star_rating'] = 1\n",
        "\n",
        "m_df_2 = m_new_df.query(\"star_rating == 3\").sample(n=20000)\n",
        "m_df_2['star_rating'] = 2\n",
        "\n",
        "m_df_3 = m_new_df.query(\"star_rating == 4 | star_rating == 5\").sample(n=20000)\n",
        "m_df_3['star_rating'] = 3\n",
        "\n",
        "m_dfs = [m_df_1, m_df_2, m_df_3]\n",
        "m_final_df = pd.concat(m_dfs)\n",
        "\n",
        "from sklearn.utils import shuffle\n",
        "m_df = shuffle(m_final_df)\n",
        "m_df.head()"
      ]
    },
    {
      "cell_type": "markdown",
      "source": [
        "### Add 'review' Column"
      ],
      "metadata": {
        "id": "oQVV5TkTMAzY"
      }
    },
    {
      "cell_type": "markdown",
      "source": [
        "We add a 'review' column, which concatenates the two columns, 'review_body' and 'review_headline'."
      ],
      "metadata": {
        "id": "73huP-QOMdAe"
      }
    },
    {
      "cell_type": "code",
      "source": [
        "m_df['review'] = m_df['review_headline'].astype(str) + \" \" + m_df['review_body'].astype(str)\n",
        "m_df.head()"
      ],
      "metadata": {
        "colab": {
          "base_uri": "https://localhost:8080/",
          "height": 206
        },
        "id": "bDJm22AyL_DR",
        "outputId": "d1fc4c5f-8917-4e42-d580-b56cbe33f5a0"
      },
      "execution_count": 38,
      "outputs": [
        {
          "output_type": "execute_result",
          "data": {
            "text/plain": [
              "         star_rating                                        review_body  \\\n",
              "469223             1  I do not feel that this product help set my ma...   \n",
              "224447             1  the darker blue is 'spoty' ;blotchy' for the f...   \n",
              "1258949            1   I don't like the vital bath gel its not the same   \n",
              "4467681            1  I bought this product despite the reviews beca...   \n",
              "2399955            2  So-so, they are good for one time use only if ...   \n",
              "\n",
              "                                           review_headline  \\\n",
              "469223   It wore the same as it did before using it and...   \n",
              "224447   the darker blue is 'spoty'; blotchy' for the f...   \n",
              "1258949                                          Two Stars   \n",
              "4467681                                  Not for dark hair   \n",
              "2399955  they are good for one time use only if you don...   \n",
              "\n",
              "                                                    review  \n",
              "469223   It wore the same as it did before using it and...  \n",
              "224447   the darker blue is 'spoty'; blotchy' for the f...  \n",
              "1258949  Two Stars I don't like the vital bath gel its ...  \n",
              "4467681  Not for dark hair I bought this product despit...  \n",
              "2399955  they are good for one time use only if you don...  "
            ],
            "text/html": [
              "\n",
              "  <div id=\"df-18f5addc-b8eb-4c14-8339-b909530c412c\">\n",
              "    <div class=\"colab-df-container\">\n",
              "      <div>\n",
              "<style scoped>\n",
              "    .dataframe tbody tr th:only-of-type {\n",
              "        vertical-align: middle;\n",
              "    }\n",
              "\n",
              "    .dataframe tbody tr th {\n",
              "        vertical-align: top;\n",
              "    }\n",
              "\n",
              "    .dataframe thead th {\n",
              "        text-align: right;\n",
              "    }\n",
              "</style>\n",
              "<table border=\"1\" class=\"dataframe\">\n",
              "  <thead>\n",
              "    <tr style=\"text-align: right;\">\n",
              "      <th></th>\n",
              "      <th>star_rating</th>\n",
              "      <th>review_body</th>\n",
              "      <th>review_headline</th>\n",
              "      <th>review</th>\n",
              "    </tr>\n",
              "  </thead>\n",
              "  <tbody>\n",
              "    <tr>\n",
              "      <th>469223</th>\n",
              "      <td>1</td>\n",
              "      <td>I do not feel that this product help set my ma...</td>\n",
              "      <td>It wore the same as it did before using it and...</td>\n",
              "      <td>It wore the same as it did before using it and...</td>\n",
              "    </tr>\n",
              "    <tr>\n",
              "      <th>224447</th>\n",
              "      <td>1</td>\n",
              "      <td>the darker blue is 'spoty' ;blotchy' for the f...</td>\n",
              "      <td>the darker blue is 'spoty'; blotchy' for the f...</td>\n",
              "      <td>the darker blue is 'spoty'; blotchy' for the f...</td>\n",
              "    </tr>\n",
              "    <tr>\n",
              "      <th>1258949</th>\n",
              "      <td>1</td>\n",
              "      <td>I don't like the vital bath gel its not the same</td>\n",
              "      <td>Two Stars</td>\n",
              "      <td>Two Stars I don't like the vital bath gel its ...</td>\n",
              "    </tr>\n",
              "    <tr>\n",
              "      <th>4467681</th>\n",
              "      <td>1</td>\n",
              "      <td>I bought this product despite the reviews beca...</td>\n",
              "      <td>Not for dark hair</td>\n",
              "      <td>Not for dark hair I bought this product despit...</td>\n",
              "    </tr>\n",
              "    <tr>\n",
              "      <th>2399955</th>\n",
              "      <td>2</td>\n",
              "      <td>So-so, they are good for one time use only if ...</td>\n",
              "      <td>they are good for one time use only if you don...</td>\n",
              "      <td>they are good for one time use only if you don...</td>\n",
              "    </tr>\n",
              "  </tbody>\n",
              "</table>\n",
              "</div>\n",
              "      <button class=\"colab-df-convert\" onclick=\"convertToInteractive('df-18f5addc-b8eb-4c14-8339-b909530c412c')\"\n",
              "              title=\"Convert this dataframe to an interactive table.\"\n",
              "              style=\"display:none;\">\n",
              "        \n",
              "  <svg xmlns=\"http://www.w3.org/2000/svg\" height=\"24px\"viewBox=\"0 0 24 24\"\n",
              "       width=\"24px\">\n",
              "    <path d=\"M0 0h24v24H0V0z\" fill=\"none\"/>\n",
              "    <path d=\"M18.56 5.44l.94 2.06.94-2.06 2.06-.94-2.06-.94-.94-2.06-.94 2.06-2.06.94zm-11 1L8.5 8.5l.94-2.06 2.06-.94-2.06-.94L8.5 2.5l-.94 2.06-2.06.94zm10 10l.94 2.06.94-2.06 2.06-.94-2.06-.94-.94-2.06-.94 2.06-2.06.94z\"/><path d=\"M17.41 7.96l-1.37-1.37c-.4-.4-.92-.59-1.43-.59-.52 0-1.04.2-1.43.59L10.3 9.45l-7.72 7.72c-.78.78-.78 2.05 0 2.83L4 21.41c.39.39.9.59 1.41.59.51 0 1.02-.2 1.41-.59l7.78-7.78 2.81-2.81c.8-.78.8-2.07 0-2.86zM5.41 20L4 18.59l7.72-7.72 1.47 1.35L5.41 20z\"/>\n",
              "  </svg>\n",
              "      </button>\n",
              "      \n",
              "  <style>\n",
              "    .colab-df-container {\n",
              "      display:flex;\n",
              "      flex-wrap:wrap;\n",
              "      gap: 12px;\n",
              "    }\n",
              "\n",
              "    .colab-df-convert {\n",
              "      background-color: #E8F0FE;\n",
              "      border: none;\n",
              "      border-radius: 50%;\n",
              "      cursor: pointer;\n",
              "      display: none;\n",
              "      fill: #1967D2;\n",
              "      height: 32px;\n",
              "      padding: 0 0 0 0;\n",
              "      width: 32px;\n",
              "    }\n",
              "\n",
              "    .colab-df-convert:hover {\n",
              "      background-color: #E2EBFA;\n",
              "      box-shadow: 0px 1px 2px rgba(60, 64, 67, 0.3), 0px 1px 3px 1px rgba(60, 64, 67, 0.15);\n",
              "      fill: #174EA6;\n",
              "    }\n",
              "\n",
              "    [theme=dark] .colab-df-convert {\n",
              "      background-color: #3B4455;\n",
              "      fill: #D2E3FC;\n",
              "    }\n",
              "\n",
              "    [theme=dark] .colab-df-convert:hover {\n",
              "      background-color: #434B5C;\n",
              "      box-shadow: 0px 1px 3px 1px rgba(0, 0, 0, 0.15);\n",
              "      filter: drop-shadow(0px 1px 2px rgba(0, 0, 0, 0.3));\n",
              "      fill: #FFFFFF;\n",
              "    }\n",
              "  </style>\n",
              "\n",
              "      <script>\n",
              "        const buttonEl =\n",
              "          document.querySelector('#df-18f5addc-b8eb-4c14-8339-b909530c412c button.colab-df-convert');\n",
              "        buttonEl.style.display =\n",
              "          google.colab.kernel.accessAllowed ? 'block' : 'none';\n",
              "\n",
              "        async function convertToInteractive(key) {\n",
              "          const element = document.querySelector('#df-18f5addc-b8eb-4c14-8339-b909530c412c');\n",
              "          const dataTable =\n",
              "            await google.colab.kernel.invokeFunction('convertToInteractive',\n",
              "                                                     [key], {});\n",
              "          if (!dataTable) return;\n",
              "\n",
              "          const docLinkHtml = 'Like what you see? Visit the ' +\n",
              "            '<a target=\"_blank\" href=https://colab.research.google.com/notebooks/data_table.ipynb>data table notebook</a>'\n",
              "            + ' to learn more about interactive tables.';\n",
              "          element.innerHTML = '';\n",
              "          dataTable['output_type'] = 'display_data';\n",
              "          await google.colab.output.renderOutput(dataTable, element);\n",
              "          const docLink = document.createElement('div');\n",
              "          docLink.innerHTML = docLinkHtml;\n",
              "          element.appendChild(docLink);\n",
              "        }\n",
              "      </script>\n",
              "    </div>\n",
              "  </div>\n",
              "  "
            ]
          },
          "metadata": {},
          "execution_count": 38
        }
      ]
    },
    {
      "cell_type": "markdown",
      "metadata": {
        "id": "o43Ggsj56kgs"
      },
      "source": [
        "### Data Cleaning\n",
        "\n"
      ]
    },
    {
      "cell_type": "code",
      "execution_count": 39,
      "metadata": {
        "id": "ecP0zvxijk2t"
      },
      "outputs": [],
      "source": [
        "#avg length of reviews before data cleaning\n",
        "m_lenBeforeCleaning = m_df['review'].str.len().mean()"
      ]
    },
    {
      "cell_type": "code",
      "execution_count": 40,
      "metadata": {
        "colab": {
          "base_uri": "https://localhost:8080/"
        },
        "id": "aY4YfEggCuZ-",
        "outputId": "73bc27c2-7d62-4478-c84e-398ec4a856c0"
      },
      "outputs": [
        {
          "output_type": "execute_result",
          "data": {
            "text/plain": [
              "star_rating         int64\n",
              "review_body        object\n",
              "review_headline    object\n",
              "review             object\n",
              "dtype: object"
            ]
          },
          "metadata": {},
          "execution_count": 40
        }
      ],
      "source": [
        "##convert all entries in the 'star_rating' column to integer\n",
        "m_df['star_rating'] = m_df['star_rating'].astype('int')\n",
        "\n",
        "#print the datatypes of all columns in the dataframe\n",
        "m_df.dtypes"
      ]
    },
    {
      "cell_type": "code",
      "execution_count": 41,
      "metadata": {
        "colab": {
          "base_uri": "https://localhost:8080/"
        },
        "id": "s4MV5CJrEQeW",
        "outputId": "fc396d81-156c-4202-a85b-3b8a94c79caf"
      },
      "outputs": [
        {
          "output_type": "stream",
          "name": "stdout",
          "text": [
            "star_rating - 0\n",
            "review_body - 4\n",
            "review_headline - 1\n",
            "review - 0\n"
          ]
        }
      ],
      "source": [
        "#calculate null values in the dataframe\n",
        "for column in ['star_rating', 'review_body', 'review_headline', 'review']:\n",
        "  print(column + \" - \"  + str(m_df[column].isnull().sum()))"
      ]
    },
    {
      "cell_type": "code",
      "execution_count": 42,
      "metadata": {
        "colab": {
          "base_uri": "https://localhost:8080/",
          "height": 206
        },
        "id": "dRXsM6OdDvL3",
        "outputId": "a540404e-be67-4111-bab7-9c63872caa49"
      },
      "outputs": [
        {
          "output_type": "execute_result",
          "data": {
            "text/plain": [
              "         star_rating                                        review_body  \\\n",
              "469223             1  I do not feel that this product help set my ma...   \n",
              "224447             1  the darker blue is 'spoty' ;blotchy' for the f...   \n",
              "1258949            1   I don't like the vital bath gel its not the same   \n",
              "4467681            1  I bought this product despite the reviews beca...   \n",
              "2399955            2  So-so, they are good for one time use only if ...   \n",
              "\n",
              "                                           review_headline  \\\n",
              "469223   It wore the same as it did before using it and...   \n",
              "224447   the darker blue is 'spoty'; blotchy' for the f...   \n",
              "1258949                                          Two Stars   \n",
              "4467681                                  Not for dark hair   \n",
              "2399955  they are good for one time use only if you don...   \n",
              "\n",
              "                                                    review  \n",
              "469223   it wore the same as it did before using it and...  \n",
              "224447   the darker blue is 'spoty'; blotchy' for the f...  \n",
              "1258949  two stars i don't like the vital bath gel its ...  \n",
              "4467681  not for dark hair i bought this product despit...  \n",
              "2399955  they are good for one time use only if you don...  "
            ],
            "text/html": [
              "\n",
              "  <div id=\"df-d3fd34c5-c2c6-4961-b2cc-dd1f2769ec62\">\n",
              "    <div class=\"colab-df-container\">\n",
              "      <div>\n",
              "<style scoped>\n",
              "    .dataframe tbody tr th:only-of-type {\n",
              "        vertical-align: middle;\n",
              "    }\n",
              "\n",
              "    .dataframe tbody tr th {\n",
              "        vertical-align: top;\n",
              "    }\n",
              "\n",
              "    .dataframe thead th {\n",
              "        text-align: right;\n",
              "    }\n",
              "</style>\n",
              "<table border=\"1\" class=\"dataframe\">\n",
              "  <thead>\n",
              "    <tr style=\"text-align: right;\">\n",
              "      <th></th>\n",
              "      <th>star_rating</th>\n",
              "      <th>review_body</th>\n",
              "      <th>review_headline</th>\n",
              "      <th>review</th>\n",
              "    </tr>\n",
              "  </thead>\n",
              "  <tbody>\n",
              "    <tr>\n",
              "      <th>469223</th>\n",
              "      <td>1</td>\n",
              "      <td>I do not feel that this product help set my ma...</td>\n",
              "      <td>It wore the same as it did before using it and...</td>\n",
              "      <td>it wore the same as it did before using it and...</td>\n",
              "    </tr>\n",
              "    <tr>\n",
              "      <th>224447</th>\n",
              "      <td>1</td>\n",
              "      <td>the darker blue is 'spoty' ;blotchy' for the f...</td>\n",
              "      <td>the darker blue is 'spoty'; blotchy' for the f...</td>\n",
              "      <td>the darker blue is 'spoty'; blotchy' for the f...</td>\n",
              "    </tr>\n",
              "    <tr>\n",
              "      <th>1258949</th>\n",
              "      <td>1</td>\n",
              "      <td>I don't like the vital bath gel its not the same</td>\n",
              "      <td>Two Stars</td>\n",
              "      <td>two stars i don't like the vital bath gel its ...</td>\n",
              "    </tr>\n",
              "    <tr>\n",
              "      <th>4467681</th>\n",
              "      <td>1</td>\n",
              "      <td>I bought this product despite the reviews beca...</td>\n",
              "      <td>Not for dark hair</td>\n",
              "      <td>not for dark hair i bought this product despit...</td>\n",
              "    </tr>\n",
              "    <tr>\n",
              "      <th>2399955</th>\n",
              "      <td>2</td>\n",
              "      <td>So-so, they are good for one time use only if ...</td>\n",
              "      <td>they are good for one time use only if you don...</td>\n",
              "      <td>they are good for one time use only if you don...</td>\n",
              "    </tr>\n",
              "  </tbody>\n",
              "</table>\n",
              "</div>\n",
              "      <button class=\"colab-df-convert\" onclick=\"convertToInteractive('df-d3fd34c5-c2c6-4961-b2cc-dd1f2769ec62')\"\n",
              "              title=\"Convert this dataframe to an interactive table.\"\n",
              "              style=\"display:none;\">\n",
              "        \n",
              "  <svg xmlns=\"http://www.w3.org/2000/svg\" height=\"24px\"viewBox=\"0 0 24 24\"\n",
              "       width=\"24px\">\n",
              "    <path d=\"M0 0h24v24H0V0z\" fill=\"none\"/>\n",
              "    <path d=\"M18.56 5.44l.94 2.06.94-2.06 2.06-.94-2.06-.94-.94-2.06-.94 2.06-2.06.94zm-11 1L8.5 8.5l.94-2.06 2.06-.94-2.06-.94L8.5 2.5l-.94 2.06-2.06.94zm10 10l.94 2.06.94-2.06 2.06-.94-2.06-.94-.94-2.06-.94 2.06-2.06.94z\"/><path d=\"M17.41 7.96l-1.37-1.37c-.4-.4-.92-.59-1.43-.59-.52 0-1.04.2-1.43.59L10.3 9.45l-7.72 7.72c-.78.78-.78 2.05 0 2.83L4 21.41c.39.39.9.59 1.41.59.51 0 1.02-.2 1.41-.59l7.78-7.78 2.81-2.81c.8-.78.8-2.07 0-2.86zM5.41 20L4 18.59l7.72-7.72 1.47 1.35L5.41 20z\"/>\n",
              "  </svg>\n",
              "      </button>\n",
              "      \n",
              "  <style>\n",
              "    .colab-df-container {\n",
              "      display:flex;\n",
              "      flex-wrap:wrap;\n",
              "      gap: 12px;\n",
              "    }\n",
              "\n",
              "    .colab-df-convert {\n",
              "      background-color: #E8F0FE;\n",
              "      border: none;\n",
              "      border-radius: 50%;\n",
              "      cursor: pointer;\n",
              "      display: none;\n",
              "      fill: #1967D2;\n",
              "      height: 32px;\n",
              "      padding: 0 0 0 0;\n",
              "      width: 32px;\n",
              "    }\n",
              "\n",
              "    .colab-df-convert:hover {\n",
              "      background-color: #E2EBFA;\n",
              "      box-shadow: 0px 1px 2px rgba(60, 64, 67, 0.3), 0px 1px 3px 1px rgba(60, 64, 67, 0.15);\n",
              "      fill: #174EA6;\n",
              "    }\n",
              "\n",
              "    [theme=dark] .colab-df-convert {\n",
              "      background-color: #3B4455;\n",
              "      fill: #D2E3FC;\n",
              "    }\n",
              "\n",
              "    [theme=dark] .colab-df-convert:hover {\n",
              "      background-color: #434B5C;\n",
              "      box-shadow: 0px 1px 3px 1px rgba(0, 0, 0, 0.15);\n",
              "      filter: drop-shadow(0px 1px 2px rgba(0, 0, 0, 0.3));\n",
              "      fill: #FFFFFF;\n",
              "    }\n",
              "  </style>\n",
              "\n",
              "      <script>\n",
              "        const buttonEl =\n",
              "          document.querySelector('#df-d3fd34c5-c2c6-4961-b2cc-dd1f2769ec62 button.colab-df-convert');\n",
              "        buttonEl.style.display =\n",
              "          google.colab.kernel.accessAllowed ? 'block' : 'none';\n",
              "\n",
              "        async function convertToInteractive(key) {\n",
              "          const element = document.querySelector('#df-d3fd34c5-c2c6-4961-b2cc-dd1f2769ec62');\n",
              "          const dataTable =\n",
              "            await google.colab.kernel.invokeFunction('convertToInteractive',\n",
              "                                                     [key], {});\n",
              "          if (!dataTable) return;\n",
              "\n",
              "          const docLinkHtml = 'Like what you see? Visit the ' +\n",
              "            '<a target=\"_blank\" href=https://colab.research.google.com/notebooks/data_table.ipynb>data table notebook</a>'\n",
              "            + ' to learn more about interactive tables.';\n",
              "          element.innerHTML = '';\n",
              "          dataTable['output_type'] = 'display_data';\n",
              "          await google.colab.output.renderOutput(dataTable, element);\n",
              "          const docLink = document.createElement('div');\n",
              "          docLink.innerHTML = docLinkHtml;\n",
              "          element.appendChild(docLink);\n",
              "        }\n",
              "      </script>\n",
              "    </div>\n",
              "  </div>\n",
              "  "
            ]
          },
          "metadata": {},
          "execution_count": 42
        }
      ],
      "source": [
        "#replace null values with blank strings\n",
        "m_df = m_df.fillna(\"\")\n",
        "\n",
        "#convert all text to lowercase\n",
        "m_df['review'] = m_df['review'].apply(str.lower)\n",
        "m_df.head()"
      ]
    },
    {
      "cell_type": "code",
      "execution_count": 43,
      "metadata": {
        "colab": {
          "base_uri": "https://localhost:8080/",
          "height": 206
        },
        "id": "labZzYx7DIR7",
        "outputId": "2e8ae8b6-618a-481e-c03f-3c903512634c"
      },
      "outputs": [
        {
          "output_type": "execute_result",
          "data": {
            "text/plain": [
              "         star_rating                                        review_body  \\\n",
              "469223             1  I do not feel that this product help set my ma...   \n",
              "224447             1  the darker blue is 'spoty' ;blotchy' for the f...   \n",
              "1258949            1   I don't like the vital bath gel its not the same   \n",
              "4467681            1  I bought this product despite the reviews beca...   \n",
              "2399955            2  So-so, they are good for one time use only if ...   \n",
              "\n",
              "                                           review_headline  \\\n",
              "469223   It wore the same as it did before using it and...   \n",
              "224447   the darker blue is 'spoty'; blotchy' for the f...   \n",
              "1258949                                          Two Stars   \n",
              "4467681                                  Not for dark hair   \n",
              "2399955  they are good for one time use only if you don...   \n",
              "\n",
              "                                                    review  \n",
              "469223   it wore the same as it did before using it and...  \n",
              "224447   the darker blue is 'spoty'; blotchy' for the f...  \n",
              "1258949  two stars i don't like the vital bath gel its ...  \n",
              "4467681  not for dark hair i bought this product despit...  \n",
              "2399955  they are good for one time use only if you don...  "
            ],
            "text/html": [
              "\n",
              "  <div id=\"df-90bc3f92-1c10-4a6c-9298-f1f782ed2305\">\n",
              "    <div class=\"colab-df-container\">\n",
              "      <div>\n",
              "<style scoped>\n",
              "    .dataframe tbody tr th:only-of-type {\n",
              "        vertical-align: middle;\n",
              "    }\n",
              "\n",
              "    .dataframe tbody tr th {\n",
              "        vertical-align: top;\n",
              "    }\n",
              "\n",
              "    .dataframe thead th {\n",
              "        text-align: right;\n",
              "    }\n",
              "</style>\n",
              "<table border=\"1\" class=\"dataframe\">\n",
              "  <thead>\n",
              "    <tr style=\"text-align: right;\">\n",
              "      <th></th>\n",
              "      <th>star_rating</th>\n",
              "      <th>review_body</th>\n",
              "      <th>review_headline</th>\n",
              "      <th>review</th>\n",
              "    </tr>\n",
              "  </thead>\n",
              "  <tbody>\n",
              "    <tr>\n",
              "      <th>469223</th>\n",
              "      <td>1</td>\n",
              "      <td>I do not feel that this product help set my ma...</td>\n",
              "      <td>It wore the same as it did before using it and...</td>\n",
              "      <td>it wore the same as it did before using it and...</td>\n",
              "    </tr>\n",
              "    <tr>\n",
              "      <th>224447</th>\n",
              "      <td>1</td>\n",
              "      <td>the darker blue is 'spoty' ;blotchy' for the f...</td>\n",
              "      <td>the darker blue is 'spoty'; blotchy' for the f...</td>\n",
              "      <td>the darker blue is 'spoty'; blotchy' for the f...</td>\n",
              "    </tr>\n",
              "    <tr>\n",
              "      <th>1258949</th>\n",
              "      <td>1</td>\n",
              "      <td>I don't like the vital bath gel its not the same</td>\n",
              "      <td>Two Stars</td>\n",
              "      <td>two stars i don't like the vital bath gel its ...</td>\n",
              "    </tr>\n",
              "    <tr>\n",
              "      <th>4467681</th>\n",
              "      <td>1</td>\n",
              "      <td>I bought this product despite the reviews beca...</td>\n",
              "      <td>Not for dark hair</td>\n",
              "      <td>not for dark hair i bought this product despit...</td>\n",
              "    </tr>\n",
              "    <tr>\n",
              "      <th>2399955</th>\n",
              "      <td>2</td>\n",
              "      <td>So-so, they are good for one time use only if ...</td>\n",
              "      <td>they are good for one time use only if you don...</td>\n",
              "      <td>they are good for one time use only if you don...</td>\n",
              "    </tr>\n",
              "  </tbody>\n",
              "</table>\n",
              "</div>\n",
              "      <button class=\"colab-df-convert\" onclick=\"convertToInteractive('df-90bc3f92-1c10-4a6c-9298-f1f782ed2305')\"\n",
              "              title=\"Convert this dataframe to an interactive table.\"\n",
              "              style=\"display:none;\">\n",
              "        \n",
              "  <svg xmlns=\"http://www.w3.org/2000/svg\" height=\"24px\"viewBox=\"0 0 24 24\"\n",
              "       width=\"24px\">\n",
              "    <path d=\"M0 0h24v24H0V0z\" fill=\"none\"/>\n",
              "    <path d=\"M18.56 5.44l.94 2.06.94-2.06 2.06-.94-2.06-.94-.94-2.06-.94 2.06-2.06.94zm-11 1L8.5 8.5l.94-2.06 2.06-.94-2.06-.94L8.5 2.5l-.94 2.06-2.06.94zm10 10l.94 2.06.94-2.06 2.06-.94-2.06-.94-.94-2.06-.94 2.06-2.06.94z\"/><path d=\"M17.41 7.96l-1.37-1.37c-.4-.4-.92-.59-1.43-.59-.52 0-1.04.2-1.43.59L10.3 9.45l-7.72 7.72c-.78.78-.78 2.05 0 2.83L4 21.41c.39.39.9.59 1.41.59.51 0 1.02-.2 1.41-.59l7.78-7.78 2.81-2.81c.8-.78.8-2.07 0-2.86zM5.41 20L4 18.59l7.72-7.72 1.47 1.35L5.41 20z\"/>\n",
              "  </svg>\n",
              "      </button>\n",
              "      \n",
              "  <style>\n",
              "    .colab-df-container {\n",
              "      display:flex;\n",
              "      flex-wrap:wrap;\n",
              "      gap: 12px;\n",
              "    }\n",
              "\n",
              "    .colab-df-convert {\n",
              "      background-color: #E8F0FE;\n",
              "      border: none;\n",
              "      border-radius: 50%;\n",
              "      cursor: pointer;\n",
              "      display: none;\n",
              "      fill: #1967D2;\n",
              "      height: 32px;\n",
              "      padding: 0 0 0 0;\n",
              "      width: 32px;\n",
              "    }\n",
              "\n",
              "    .colab-df-convert:hover {\n",
              "      background-color: #E2EBFA;\n",
              "      box-shadow: 0px 1px 2px rgba(60, 64, 67, 0.3), 0px 1px 3px 1px rgba(60, 64, 67, 0.15);\n",
              "      fill: #174EA6;\n",
              "    }\n",
              "\n",
              "    [theme=dark] .colab-df-convert {\n",
              "      background-color: #3B4455;\n",
              "      fill: #D2E3FC;\n",
              "    }\n",
              "\n",
              "    [theme=dark] .colab-df-convert:hover {\n",
              "      background-color: #434B5C;\n",
              "      box-shadow: 0px 1px 3px 1px rgba(0, 0, 0, 0.15);\n",
              "      filter: drop-shadow(0px 1px 2px rgba(0, 0, 0, 0.3));\n",
              "      fill: #FFFFFF;\n",
              "    }\n",
              "  </style>\n",
              "\n",
              "      <script>\n",
              "        const buttonEl =\n",
              "          document.querySelector('#df-90bc3f92-1c10-4a6c-9298-f1f782ed2305 button.colab-df-convert');\n",
              "        buttonEl.style.display =\n",
              "          google.colab.kernel.accessAllowed ? 'block' : 'none';\n",
              "\n",
              "        async function convertToInteractive(key) {\n",
              "          const element = document.querySelector('#df-90bc3f92-1c10-4a6c-9298-f1f782ed2305');\n",
              "          const dataTable =\n",
              "            await google.colab.kernel.invokeFunction('convertToInteractive',\n",
              "                                                     [key], {});\n",
              "          if (!dataTable) return;\n",
              "\n",
              "          const docLinkHtml = 'Like what you see? Visit the ' +\n",
              "            '<a target=\"_blank\" href=https://colab.research.google.com/notebooks/data_table.ipynb>data table notebook</a>'\n",
              "            + ' to learn more about interactive tables.';\n",
              "          element.innerHTML = '';\n",
              "          dataTable['output_type'] = 'display_data';\n",
              "          await google.colab.output.renderOutput(dataTable, element);\n",
              "          const docLink = document.createElement('div');\n",
              "          docLink.innerHTML = docLinkHtml;\n",
              "          element.appendChild(docLink);\n",
              "        }\n",
              "      </script>\n",
              "    </div>\n",
              "  </div>\n",
              "  "
            ]
          },
          "metadata": {},
          "execution_count": 43
        }
      ],
      "source": [
        "#remove html and urls from reviews\n",
        "def m_urls(x):\n",
        "  x = re.sub('http\\S+|www.\\S+', '', x)\n",
        "  x = re.sub('<.*?>','',x)\n",
        "  return x\n",
        "\n",
        "m_df['review'] = [m_urls(x) for x in m_df['review']]\n",
        "m_df.head()"
      ]
    },
    {
      "cell_type": "code",
      "execution_count": 44,
      "metadata": {
        "colab": {
          "base_uri": "https://localhost:8080/",
          "height": 206
        },
        "id": "f885a1kSHrYe",
        "outputId": "fe4e591a-85f8-413d-8edd-3d74f5f00a21"
      },
      "outputs": [
        {
          "output_type": "execute_result",
          "data": {
            "text/plain": [
              "         star_rating                                        review_body  \\\n",
              "469223             1  I do not feel that this product help set my ma...   \n",
              "224447             1  the darker blue is 'spoty' ;blotchy' for the f...   \n",
              "1258949            1   I don't like the vital bath gel its not the same   \n",
              "4467681            1  I bought this product despite the reviews beca...   \n",
              "2399955            2  So-so, they are good for one time use only if ...   \n",
              "\n",
              "                                           review_headline  \\\n",
              "469223   It wore the same as it did before using it and...   \n",
              "224447   the darker blue is 'spoty'; blotchy' for the f...   \n",
              "1258949                                          Two Stars   \n",
              "4467681                                  Not for dark hair   \n",
              "2399955  they are good for one time use only if you don...   \n",
              "\n",
              "                                                    review  \n",
              "469223   it wore the same as it did before using it and...  \n",
              "224447   the darker blue is spoty blotchy for the first...  \n",
              "1258949  two stars i dont like the vital bath gel its n...  \n",
              "4467681  not for dark hair i bought this product despit...  \n",
              "2399955  they are good for one time use only if you don...  "
            ],
            "text/html": [
              "\n",
              "  <div id=\"df-9c594662-7cfd-4017-8ee9-b3f87b4fb6b9\">\n",
              "    <div class=\"colab-df-container\">\n",
              "      <div>\n",
              "<style scoped>\n",
              "    .dataframe tbody tr th:only-of-type {\n",
              "        vertical-align: middle;\n",
              "    }\n",
              "\n",
              "    .dataframe tbody tr th {\n",
              "        vertical-align: top;\n",
              "    }\n",
              "\n",
              "    .dataframe thead th {\n",
              "        text-align: right;\n",
              "    }\n",
              "</style>\n",
              "<table border=\"1\" class=\"dataframe\">\n",
              "  <thead>\n",
              "    <tr style=\"text-align: right;\">\n",
              "      <th></th>\n",
              "      <th>star_rating</th>\n",
              "      <th>review_body</th>\n",
              "      <th>review_headline</th>\n",
              "      <th>review</th>\n",
              "    </tr>\n",
              "  </thead>\n",
              "  <tbody>\n",
              "    <tr>\n",
              "      <th>469223</th>\n",
              "      <td>1</td>\n",
              "      <td>I do not feel that this product help set my ma...</td>\n",
              "      <td>It wore the same as it did before using it and...</td>\n",
              "      <td>it wore the same as it did before using it and...</td>\n",
              "    </tr>\n",
              "    <tr>\n",
              "      <th>224447</th>\n",
              "      <td>1</td>\n",
              "      <td>the darker blue is 'spoty' ;blotchy' for the f...</td>\n",
              "      <td>the darker blue is 'spoty'; blotchy' for the f...</td>\n",
              "      <td>the darker blue is spoty blotchy for the first...</td>\n",
              "    </tr>\n",
              "    <tr>\n",
              "      <th>1258949</th>\n",
              "      <td>1</td>\n",
              "      <td>I don't like the vital bath gel its not the same</td>\n",
              "      <td>Two Stars</td>\n",
              "      <td>two stars i dont like the vital bath gel its n...</td>\n",
              "    </tr>\n",
              "    <tr>\n",
              "      <th>4467681</th>\n",
              "      <td>1</td>\n",
              "      <td>I bought this product despite the reviews beca...</td>\n",
              "      <td>Not for dark hair</td>\n",
              "      <td>not for dark hair i bought this product despit...</td>\n",
              "    </tr>\n",
              "    <tr>\n",
              "      <th>2399955</th>\n",
              "      <td>2</td>\n",
              "      <td>So-so, they are good for one time use only if ...</td>\n",
              "      <td>they are good for one time use only if you don...</td>\n",
              "      <td>they are good for one time use only if you don...</td>\n",
              "    </tr>\n",
              "  </tbody>\n",
              "</table>\n",
              "</div>\n",
              "      <button class=\"colab-df-convert\" onclick=\"convertToInteractive('df-9c594662-7cfd-4017-8ee9-b3f87b4fb6b9')\"\n",
              "              title=\"Convert this dataframe to an interactive table.\"\n",
              "              style=\"display:none;\">\n",
              "        \n",
              "  <svg xmlns=\"http://www.w3.org/2000/svg\" height=\"24px\"viewBox=\"0 0 24 24\"\n",
              "       width=\"24px\">\n",
              "    <path d=\"M0 0h24v24H0V0z\" fill=\"none\"/>\n",
              "    <path d=\"M18.56 5.44l.94 2.06.94-2.06 2.06-.94-2.06-.94-.94-2.06-.94 2.06-2.06.94zm-11 1L8.5 8.5l.94-2.06 2.06-.94-2.06-.94L8.5 2.5l-.94 2.06-2.06.94zm10 10l.94 2.06.94-2.06 2.06-.94-2.06-.94-.94-2.06-.94 2.06-2.06.94z\"/><path d=\"M17.41 7.96l-1.37-1.37c-.4-.4-.92-.59-1.43-.59-.52 0-1.04.2-1.43.59L10.3 9.45l-7.72 7.72c-.78.78-.78 2.05 0 2.83L4 21.41c.39.39.9.59 1.41.59.51 0 1.02-.2 1.41-.59l7.78-7.78 2.81-2.81c.8-.78.8-2.07 0-2.86zM5.41 20L4 18.59l7.72-7.72 1.47 1.35L5.41 20z\"/>\n",
              "  </svg>\n",
              "      </button>\n",
              "      \n",
              "  <style>\n",
              "    .colab-df-container {\n",
              "      display:flex;\n",
              "      flex-wrap:wrap;\n",
              "      gap: 12px;\n",
              "    }\n",
              "\n",
              "    .colab-df-convert {\n",
              "      background-color: #E8F0FE;\n",
              "      border: none;\n",
              "      border-radius: 50%;\n",
              "      cursor: pointer;\n",
              "      display: none;\n",
              "      fill: #1967D2;\n",
              "      height: 32px;\n",
              "      padding: 0 0 0 0;\n",
              "      width: 32px;\n",
              "    }\n",
              "\n",
              "    .colab-df-convert:hover {\n",
              "      background-color: #E2EBFA;\n",
              "      box-shadow: 0px 1px 2px rgba(60, 64, 67, 0.3), 0px 1px 3px 1px rgba(60, 64, 67, 0.15);\n",
              "      fill: #174EA6;\n",
              "    }\n",
              "\n",
              "    [theme=dark] .colab-df-convert {\n",
              "      background-color: #3B4455;\n",
              "      fill: #D2E3FC;\n",
              "    }\n",
              "\n",
              "    [theme=dark] .colab-df-convert:hover {\n",
              "      background-color: #434B5C;\n",
              "      box-shadow: 0px 1px 3px 1px rgba(0, 0, 0, 0.15);\n",
              "      filter: drop-shadow(0px 1px 2px rgba(0, 0, 0, 0.3));\n",
              "      fill: #FFFFFF;\n",
              "    }\n",
              "  </style>\n",
              "\n",
              "      <script>\n",
              "        const buttonEl =\n",
              "          document.querySelector('#df-9c594662-7cfd-4017-8ee9-b3f87b4fb6b9 button.colab-df-convert');\n",
              "        buttonEl.style.display =\n",
              "          google.colab.kernel.accessAllowed ? 'block' : 'none';\n",
              "\n",
              "        async function convertToInteractive(key) {\n",
              "          const element = document.querySelector('#df-9c594662-7cfd-4017-8ee9-b3f87b4fb6b9');\n",
              "          const dataTable =\n",
              "            await google.colab.kernel.invokeFunction('convertToInteractive',\n",
              "                                                     [key], {});\n",
              "          if (!dataTable) return;\n",
              "\n",
              "          const docLinkHtml = 'Like what you see? Visit the ' +\n",
              "            '<a target=\"_blank\" href=https://colab.research.google.com/notebooks/data_table.ipynb>data table notebook</a>'\n",
              "            + ' to learn more about interactive tables.';\n",
              "          element.innerHTML = '';\n",
              "          dataTable['output_type'] = 'display_data';\n",
              "          await google.colab.output.renderOutput(dataTable, element);\n",
              "          const docLink = document.createElement('div');\n",
              "          docLink.innerHTML = docLinkHtml;\n",
              "          element.appendChild(docLink);\n",
              "        }\n",
              "      </script>\n",
              "    </div>\n",
              "  </div>\n",
              "  "
            ]
          },
          "metadata": {},
          "execution_count": 44
        }
      ],
      "source": [
        "#remove non-alphabetic characters from reviews\n",
        "import re\n",
        "\n",
        "def m_alpha(x):\n",
        "  return re.sub(r'[^a-zA-Z\\s]+', '', str(x))\n",
        "\n",
        "m_df['review'] = [m_alpha(x) for x in m_df['review']]\n",
        "m_df.head()"
      ]
    },
    {
      "cell_type": "code",
      "execution_count": 45,
      "metadata": {
        "colab": {
          "base_uri": "https://localhost:8080/",
          "height": 206
        },
        "id": "4Yhm5I3DH8iX",
        "outputId": "98bdaf0a-2310-41a8-ef25-aa5a71198715"
      },
      "outputs": [
        {
          "output_type": "execute_result",
          "data": {
            "text/plain": [
              "         star_rating                                        review_body  \\\n",
              "469223             1  I do not feel that this product help set my ma...   \n",
              "224447             1  the darker blue is 'spoty' ;blotchy' for the f...   \n",
              "1258949            1   I don't like the vital bath gel its not the same   \n",
              "4467681            1  I bought this product despite the reviews beca...   \n",
              "2399955            2  So-so, they are good for one time use only if ...   \n",
              "\n",
              "                                           review_headline  \\\n",
              "469223   It wore the same as it did before using it and...   \n",
              "224447   the darker blue is 'spoty'; blotchy' for the f...   \n",
              "1258949                                          Two Stars   \n",
              "4467681                                  Not for dark hair   \n",
              "2399955  they are good for one time use only if you don...   \n",
              "\n",
              "                                                    review  \n",
              "469223   it wore the same as it did before using it and...  \n",
              "224447   the darker blue is spoty blotchy for the first...  \n",
              "1258949  two stars i dont like the vital bath gel its n...  \n",
              "4467681  not for dark hair i bought this product despit...  \n",
              "2399955  they are good for one time use only if you don...  "
            ],
            "text/html": [
              "\n",
              "  <div id=\"df-5e65aa7a-e830-4b4a-9897-91a298374f49\">\n",
              "    <div class=\"colab-df-container\">\n",
              "      <div>\n",
              "<style scoped>\n",
              "    .dataframe tbody tr th:only-of-type {\n",
              "        vertical-align: middle;\n",
              "    }\n",
              "\n",
              "    .dataframe tbody tr th {\n",
              "        vertical-align: top;\n",
              "    }\n",
              "\n",
              "    .dataframe thead th {\n",
              "        text-align: right;\n",
              "    }\n",
              "</style>\n",
              "<table border=\"1\" class=\"dataframe\">\n",
              "  <thead>\n",
              "    <tr style=\"text-align: right;\">\n",
              "      <th></th>\n",
              "      <th>star_rating</th>\n",
              "      <th>review_body</th>\n",
              "      <th>review_headline</th>\n",
              "      <th>review</th>\n",
              "    </tr>\n",
              "  </thead>\n",
              "  <tbody>\n",
              "    <tr>\n",
              "      <th>469223</th>\n",
              "      <td>1</td>\n",
              "      <td>I do not feel that this product help set my ma...</td>\n",
              "      <td>It wore the same as it did before using it and...</td>\n",
              "      <td>it wore the same as it did before using it and...</td>\n",
              "    </tr>\n",
              "    <tr>\n",
              "      <th>224447</th>\n",
              "      <td>1</td>\n",
              "      <td>the darker blue is 'spoty' ;blotchy' for the f...</td>\n",
              "      <td>the darker blue is 'spoty'; blotchy' for the f...</td>\n",
              "      <td>the darker blue is spoty blotchy for the first...</td>\n",
              "    </tr>\n",
              "    <tr>\n",
              "      <th>1258949</th>\n",
              "      <td>1</td>\n",
              "      <td>I don't like the vital bath gel its not the same</td>\n",
              "      <td>Two Stars</td>\n",
              "      <td>two stars i dont like the vital bath gel its n...</td>\n",
              "    </tr>\n",
              "    <tr>\n",
              "      <th>4467681</th>\n",
              "      <td>1</td>\n",
              "      <td>I bought this product despite the reviews beca...</td>\n",
              "      <td>Not for dark hair</td>\n",
              "      <td>not for dark hair i bought this product despit...</td>\n",
              "    </tr>\n",
              "    <tr>\n",
              "      <th>2399955</th>\n",
              "      <td>2</td>\n",
              "      <td>So-so, they are good for one time use only if ...</td>\n",
              "      <td>they are good for one time use only if you don...</td>\n",
              "      <td>they are good for one time use only if you don...</td>\n",
              "    </tr>\n",
              "  </tbody>\n",
              "</table>\n",
              "</div>\n",
              "      <button class=\"colab-df-convert\" onclick=\"convertToInteractive('df-5e65aa7a-e830-4b4a-9897-91a298374f49')\"\n",
              "              title=\"Convert this dataframe to an interactive table.\"\n",
              "              style=\"display:none;\">\n",
              "        \n",
              "  <svg xmlns=\"http://www.w3.org/2000/svg\" height=\"24px\"viewBox=\"0 0 24 24\"\n",
              "       width=\"24px\">\n",
              "    <path d=\"M0 0h24v24H0V0z\" fill=\"none\"/>\n",
              "    <path d=\"M18.56 5.44l.94 2.06.94-2.06 2.06-.94-2.06-.94-.94-2.06-.94 2.06-2.06.94zm-11 1L8.5 8.5l.94-2.06 2.06-.94-2.06-.94L8.5 2.5l-.94 2.06-2.06.94zm10 10l.94 2.06.94-2.06 2.06-.94-2.06-.94-.94-2.06-.94 2.06-2.06.94z\"/><path d=\"M17.41 7.96l-1.37-1.37c-.4-.4-.92-.59-1.43-.59-.52 0-1.04.2-1.43.59L10.3 9.45l-7.72 7.72c-.78.78-.78 2.05 0 2.83L4 21.41c.39.39.9.59 1.41.59.51 0 1.02-.2 1.41-.59l7.78-7.78 2.81-2.81c.8-.78.8-2.07 0-2.86zM5.41 20L4 18.59l7.72-7.72 1.47 1.35L5.41 20z\"/>\n",
              "  </svg>\n",
              "      </button>\n",
              "      \n",
              "  <style>\n",
              "    .colab-df-container {\n",
              "      display:flex;\n",
              "      flex-wrap:wrap;\n",
              "      gap: 12px;\n",
              "    }\n",
              "\n",
              "    .colab-df-convert {\n",
              "      background-color: #E8F0FE;\n",
              "      border: none;\n",
              "      border-radius: 50%;\n",
              "      cursor: pointer;\n",
              "      display: none;\n",
              "      fill: #1967D2;\n",
              "      height: 32px;\n",
              "      padding: 0 0 0 0;\n",
              "      width: 32px;\n",
              "    }\n",
              "\n",
              "    .colab-df-convert:hover {\n",
              "      background-color: #E2EBFA;\n",
              "      box-shadow: 0px 1px 2px rgba(60, 64, 67, 0.3), 0px 1px 3px 1px rgba(60, 64, 67, 0.15);\n",
              "      fill: #174EA6;\n",
              "    }\n",
              "\n",
              "    [theme=dark] .colab-df-convert {\n",
              "      background-color: #3B4455;\n",
              "      fill: #D2E3FC;\n",
              "    }\n",
              "\n",
              "    [theme=dark] .colab-df-convert:hover {\n",
              "      background-color: #434B5C;\n",
              "      box-shadow: 0px 1px 3px 1px rgba(0, 0, 0, 0.15);\n",
              "      filter: drop-shadow(0px 1px 2px rgba(0, 0, 0, 0.3));\n",
              "      fill: #FFFFFF;\n",
              "    }\n",
              "  </style>\n",
              "\n",
              "      <script>\n",
              "        const buttonEl =\n",
              "          document.querySelector('#df-5e65aa7a-e830-4b4a-9897-91a298374f49 button.colab-df-convert');\n",
              "        buttonEl.style.display =\n",
              "          google.colab.kernel.accessAllowed ? 'block' : 'none';\n",
              "\n",
              "        async function convertToInteractive(key) {\n",
              "          const element = document.querySelector('#df-5e65aa7a-e830-4b4a-9897-91a298374f49');\n",
              "          const dataTable =\n",
              "            await google.colab.kernel.invokeFunction('convertToInteractive',\n",
              "                                                     [key], {});\n",
              "          if (!dataTable) return;\n",
              "\n",
              "          const docLinkHtml = 'Like what you see? Visit the ' +\n",
              "            '<a target=\"_blank\" href=https://colab.research.google.com/notebooks/data_table.ipynb>data table notebook</a>'\n",
              "            + ' to learn more about interactive tables.';\n",
              "          element.innerHTML = '';\n",
              "          dataTable['output_type'] = 'display_data';\n",
              "          await google.colab.output.renderOutput(dataTable, element);\n",
              "          const docLink = document.createElement('div');\n",
              "          docLink.innerHTML = docLinkHtml;\n",
              "          element.appendChild(docLink);\n",
              "        }\n",
              "      </script>\n",
              "    </div>\n",
              "  </div>\n",
              "  "
            ]
          },
          "metadata": {},
          "execution_count": 45
        }
      ],
      "source": [
        "#remove extra spaces from reviews\n",
        "def m_spaces(x):\n",
        "  result = \" \".join(x.split())\n",
        "  return result\n",
        "\n",
        "m_df['review'] = [m_spaces(x) for x in m_df['review']]\n",
        "m_df.head()"
      ]
    },
    {
      "cell_type": "code",
      "execution_count": 46,
      "metadata": {
        "colab": {
          "base_uri": "https://localhost:8080/",
          "height": 206
        },
        "id": "8crzNZD1I9jk",
        "outputId": "4dce6c74-0727-40ec-d2bf-ee2283334628"
      },
      "outputs": [
        {
          "output_type": "execute_result",
          "data": {
            "text/plain": [
              "         star_rating                                        review_body  \\\n",
              "469223             1  I do not feel that this product help set my ma...   \n",
              "224447             1  the darker blue is 'spoty' ;blotchy' for the f...   \n",
              "1258949            1   I don't like the vital bath gel its not the same   \n",
              "4467681            1  I bought this product despite the reviews beca...   \n",
              "2399955            2  So-so, they are good for one time use only if ...   \n",
              "\n",
              "                                           review_headline  \\\n",
              "469223   It wore the same as it did before using it and...   \n",
              "224447   the darker blue is 'spoty'; blotchy' for the f...   \n",
              "1258949                                          Two Stars   \n",
              "4467681                                  Not for dark hair   \n",
              "2399955  they are good for one time use only if you don...   \n",
              "\n",
              "                                                    review  \n",
              "469223   it wore the same as it did before using it and...  \n",
              "224447   the darker blue is spoty blotchy for the first...  \n",
              "1258949  two stars i do not like the vital bath gel its...  \n",
              "4467681  not for dark hair i bought this product despit...  \n",
              "2399955  they are good for one time use only if you do ...  "
            ],
            "text/html": [
              "\n",
              "  <div id=\"df-fb5e44f6-de05-4e2e-a9b9-82573922633e\">\n",
              "    <div class=\"colab-df-container\">\n",
              "      <div>\n",
              "<style scoped>\n",
              "    .dataframe tbody tr th:only-of-type {\n",
              "        vertical-align: middle;\n",
              "    }\n",
              "\n",
              "    .dataframe tbody tr th {\n",
              "        vertical-align: top;\n",
              "    }\n",
              "\n",
              "    .dataframe thead th {\n",
              "        text-align: right;\n",
              "    }\n",
              "</style>\n",
              "<table border=\"1\" class=\"dataframe\">\n",
              "  <thead>\n",
              "    <tr style=\"text-align: right;\">\n",
              "      <th></th>\n",
              "      <th>star_rating</th>\n",
              "      <th>review_body</th>\n",
              "      <th>review_headline</th>\n",
              "      <th>review</th>\n",
              "    </tr>\n",
              "  </thead>\n",
              "  <tbody>\n",
              "    <tr>\n",
              "      <th>469223</th>\n",
              "      <td>1</td>\n",
              "      <td>I do not feel that this product help set my ma...</td>\n",
              "      <td>It wore the same as it did before using it and...</td>\n",
              "      <td>it wore the same as it did before using it and...</td>\n",
              "    </tr>\n",
              "    <tr>\n",
              "      <th>224447</th>\n",
              "      <td>1</td>\n",
              "      <td>the darker blue is 'spoty' ;blotchy' for the f...</td>\n",
              "      <td>the darker blue is 'spoty'; blotchy' for the f...</td>\n",
              "      <td>the darker blue is spoty blotchy for the first...</td>\n",
              "    </tr>\n",
              "    <tr>\n",
              "      <th>1258949</th>\n",
              "      <td>1</td>\n",
              "      <td>I don't like the vital bath gel its not the same</td>\n",
              "      <td>Two Stars</td>\n",
              "      <td>two stars i do not like the vital bath gel its...</td>\n",
              "    </tr>\n",
              "    <tr>\n",
              "      <th>4467681</th>\n",
              "      <td>1</td>\n",
              "      <td>I bought this product despite the reviews beca...</td>\n",
              "      <td>Not for dark hair</td>\n",
              "      <td>not for dark hair i bought this product despit...</td>\n",
              "    </tr>\n",
              "    <tr>\n",
              "      <th>2399955</th>\n",
              "      <td>2</td>\n",
              "      <td>So-so, they are good for one time use only if ...</td>\n",
              "      <td>they are good for one time use only if you don...</td>\n",
              "      <td>they are good for one time use only if you do ...</td>\n",
              "    </tr>\n",
              "  </tbody>\n",
              "</table>\n",
              "</div>\n",
              "      <button class=\"colab-df-convert\" onclick=\"convertToInteractive('df-fb5e44f6-de05-4e2e-a9b9-82573922633e')\"\n",
              "              title=\"Convert this dataframe to an interactive table.\"\n",
              "              style=\"display:none;\">\n",
              "        \n",
              "  <svg xmlns=\"http://www.w3.org/2000/svg\" height=\"24px\"viewBox=\"0 0 24 24\"\n",
              "       width=\"24px\">\n",
              "    <path d=\"M0 0h24v24H0V0z\" fill=\"none\"/>\n",
              "    <path d=\"M18.56 5.44l.94 2.06.94-2.06 2.06-.94-2.06-.94-.94-2.06-.94 2.06-2.06.94zm-11 1L8.5 8.5l.94-2.06 2.06-.94-2.06-.94L8.5 2.5l-.94 2.06-2.06.94zm10 10l.94 2.06.94-2.06 2.06-.94-2.06-.94-.94-2.06-.94 2.06-2.06.94z\"/><path d=\"M17.41 7.96l-1.37-1.37c-.4-.4-.92-.59-1.43-.59-.52 0-1.04.2-1.43.59L10.3 9.45l-7.72 7.72c-.78.78-.78 2.05 0 2.83L4 21.41c.39.39.9.59 1.41.59.51 0 1.02-.2 1.41-.59l7.78-7.78 2.81-2.81c.8-.78.8-2.07 0-2.86zM5.41 20L4 18.59l7.72-7.72 1.47 1.35L5.41 20z\"/>\n",
              "  </svg>\n",
              "      </button>\n",
              "      \n",
              "  <style>\n",
              "    .colab-df-container {\n",
              "      display:flex;\n",
              "      flex-wrap:wrap;\n",
              "      gap: 12px;\n",
              "    }\n",
              "\n",
              "    .colab-df-convert {\n",
              "      background-color: #E8F0FE;\n",
              "      border: none;\n",
              "      border-radius: 50%;\n",
              "      cursor: pointer;\n",
              "      display: none;\n",
              "      fill: #1967D2;\n",
              "      height: 32px;\n",
              "      padding: 0 0 0 0;\n",
              "      width: 32px;\n",
              "    }\n",
              "\n",
              "    .colab-df-convert:hover {\n",
              "      background-color: #E2EBFA;\n",
              "      box-shadow: 0px 1px 2px rgba(60, 64, 67, 0.3), 0px 1px 3px 1px rgba(60, 64, 67, 0.15);\n",
              "      fill: #174EA6;\n",
              "    }\n",
              "\n",
              "    [theme=dark] .colab-df-convert {\n",
              "      background-color: #3B4455;\n",
              "      fill: #D2E3FC;\n",
              "    }\n",
              "\n",
              "    [theme=dark] .colab-df-convert:hover {\n",
              "      background-color: #434B5C;\n",
              "      box-shadow: 0px 1px 3px 1px rgba(0, 0, 0, 0.15);\n",
              "      filter: drop-shadow(0px 1px 2px rgba(0, 0, 0, 0.3));\n",
              "      fill: #FFFFFF;\n",
              "    }\n",
              "  </style>\n",
              "\n",
              "      <script>\n",
              "        const buttonEl =\n",
              "          document.querySelector('#df-fb5e44f6-de05-4e2e-a9b9-82573922633e button.colab-df-convert');\n",
              "        buttonEl.style.display =\n",
              "          google.colab.kernel.accessAllowed ? 'block' : 'none';\n",
              "\n",
              "        async function convertToInteractive(key) {\n",
              "          const element = document.querySelector('#df-fb5e44f6-de05-4e2e-a9b9-82573922633e');\n",
              "          const dataTable =\n",
              "            await google.colab.kernel.invokeFunction('convertToInteractive',\n",
              "                                                     [key], {});\n",
              "          if (!dataTable) return;\n",
              "\n",
              "          const docLinkHtml = 'Like what you see? Visit the ' +\n",
              "            '<a target=\"_blank\" href=https://colab.research.google.com/notebooks/data_table.ipynb>data table notebook</a>'\n",
              "            + ' to learn more about interactive tables.';\n",
              "          element.innerHTML = '';\n",
              "          dataTable['output_type'] = 'display_data';\n",
              "          await google.colab.output.renderOutput(dataTable, element);\n",
              "          const docLink = document.createElement('div');\n",
              "          docLink.innerHTML = docLinkHtml;\n",
              "          element.appendChild(docLink);\n",
              "        }\n",
              "      </script>\n",
              "    </div>\n",
              "  </div>\n",
              "  "
            ]
          },
          "metadata": {},
          "execution_count": 46
        }
      ],
      "source": [
        "#remove contractions from the reviews\n",
        "import contractions\n",
        "def m_con(x):\n",
        "  return contractions.fix(x)\n",
        "\n",
        "m_df['review'] = [m_con(x) for x in m_df['review']]\n",
        "m_df.head()"
      ]
    },
    {
      "cell_type": "code",
      "execution_count": 47,
      "metadata": {
        "colab": {
          "base_uri": "https://localhost:8080/"
        },
        "id": "CDyrIAnpjk2u",
        "outputId": "690d7a40-3f91-45b0-e23c-cb340ff7d104"
      },
      "outputs": [
        {
          "output_type": "stream",
          "name": "stdout",
          "text": [
            "297.66911666666664, 310.6356166666667\n"
          ]
        }
      ],
      "source": [
        "#avg length of reviews after data cleaning\n",
        "m_lenAfterCleaning = m_df['review'].str.len().mean()\n",
        "\n",
        "print(str(m_lenAfterCleaning) + \", \" + str(m_lenBeforeCleaning))"
      ]
    },
    {
      "cell_type": "markdown",
      "metadata": {
        "id": "9Gt21F7z6kgs"
      },
      "source": [
        "### Pre-processing"
      ]
    },
    {
      "cell_type": "markdown",
      "source": [
        "In this section we do the following:\n",
        "\n",
        "*   remove unnecessary stopwords\n",
        "*   perform lemmatization\n",
        "\n"
      ],
      "metadata": {
        "id": "COJF00_OQPUy"
      }
    },
    {
      "cell_type": "code",
      "execution_count": 48,
      "metadata": {
        "id": "8JX39li_jk2u"
      },
      "outputs": [],
      "source": [
        "#avg length of reviews before data preprocessing\n",
        "m_lenBeforePreprocessing = m_df['review'].str.len().mean()"
      ]
    },
    {
      "cell_type": "code",
      "execution_count": 49,
      "metadata": {
        "id": "0D9bHnlsjk2u"
      },
      "outputs": [],
      "source": [
        "#declare and store unnessary stopwords\n",
        "m_stopwords = ['i','me','my','myself','we','our','ours','ourselves','you','your','yours','yourself','yourselves','he',\n",
        "             'him','his','himself','she','her','hers','herself','it','its','itself','they','them','their','theirs',\n",
        "             'themselves','what','which','who','whom','this','that','these','those','am','is','are','was','were','be',\n",
        "             'been','being','have','has','had','having','do','does','did','doing','a','an','the','and','at','by',\n",
        "             'for','with','further','then','here','there','when','where','why','how','other','own','so','can','will']"
      ]
    },
    {
      "cell_type": "code",
      "execution_count": 50,
      "metadata": {
        "colab": {
          "base_uri": "https://localhost:8080/",
          "height": 206
        },
        "id": "0L2Gkztw6kgs",
        "outputId": "8fdedf45-0bb1-4723-ffc8-789bd7c602bc"
      },
      "outputs": [
        {
          "output_type": "execute_result",
          "data": {
            "text/plain": [
              "         star_rating                                        review_body  \\\n",
              "469223             1  I do not feel that this product help set my ma...   \n",
              "224447             1  the darker blue is 'spoty' ;blotchy' for the f...   \n",
              "1258949            1   I don't like the vital bath gel its not the same   \n",
              "4467681            1  I bought this product despite the reviews beca...   \n",
              "2399955            2  So-so, they are good for one time use only if ...   \n",
              "\n",
              "                                           review_headline  \\\n",
              "469223   It wore the same as it did before using it and...   \n",
              "224447   the darker blue is 'spoty'; blotchy' for the f...   \n",
              "1258949                                          Two Stars   \n",
              "4467681                                  Not for dark hair   \n",
              "2399955  they are good for one time use only if you don...   \n",
              "\n",
              "                                                    review  \n",
              "469223   wore same as before using would not recommend ...  \n",
              "224447   darker blue spoty blotchy first darker blue sp...  \n",
              "1258949         two stars not like vital bath gel not same  \n",
              "4467681  not dark hair bought product despite reviews b...  \n",
              "2399955  good one time use only if not sweat soso good ...  "
            ],
            "text/html": [
              "\n",
              "  <div id=\"df-ca73cf41-4763-412d-969e-e75f9119c0ed\">\n",
              "    <div class=\"colab-df-container\">\n",
              "      <div>\n",
              "<style scoped>\n",
              "    .dataframe tbody tr th:only-of-type {\n",
              "        vertical-align: middle;\n",
              "    }\n",
              "\n",
              "    .dataframe tbody tr th {\n",
              "        vertical-align: top;\n",
              "    }\n",
              "\n",
              "    .dataframe thead th {\n",
              "        text-align: right;\n",
              "    }\n",
              "</style>\n",
              "<table border=\"1\" class=\"dataframe\">\n",
              "  <thead>\n",
              "    <tr style=\"text-align: right;\">\n",
              "      <th></th>\n",
              "      <th>star_rating</th>\n",
              "      <th>review_body</th>\n",
              "      <th>review_headline</th>\n",
              "      <th>review</th>\n",
              "    </tr>\n",
              "  </thead>\n",
              "  <tbody>\n",
              "    <tr>\n",
              "      <th>469223</th>\n",
              "      <td>1</td>\n",
              "      <td>I do not feel that this product help set my ma...</td>\n",
              "      <td>It wore the same as it did before using it and...</td>\n",
              "      <td>wore same as before using would not recommend ...</td>\n",
              "    </tr>\n",
              "    <tr>\n",
              "      <th>224447</th>\n",
              "      <td>1</td>\n",
              "      <td>the darker blue is 'spoty' ;blotchy' for the f...</td>\n",
              "      <td>the darker blue is 'spoty'; blotchy' for the f...</td>\n",
              "      <td>darker blue spoty blotchy first darker blue sp...</td>\n",
              "    </tr>\n",
              "    <tr>\n",
              "      <th>1258949</th>\n",
              "      <td>1</td>\n",
              "      <td>I don't like the vital bath gel its not the same</td>\n",
              "      <td>Two Stars</td>\n",
              "      <td>two stars not like vital bath gel not same</td>\n",
              "    </tr>\n",
              "    <tr>\n",
              "      <th>4467681</th>\n",
              "      <td>1</td>\n",
              "      <td>I bought this product despite the reviews beca...</td>\n",
              "      <td>Not for dark hair</td>\n",
              "      <td>not dark hair bought product despite reviews b...</td>\n",
              "    </tr>\n",
              "    <tr>\n",
              "      <th>2399955</th>\n",
              "      <td>2</td>\n",
              "      <td>So-so, they are good for one time use only if ...</td>\n",
              "      <td>they are good for one time use only if you don...</td>\n",
              "      <td>good one time use only if not sweat soso good ...</td>\n",
              "    </tr>\n",
              "  </tbody>\n",
              "</table>\n",
              "</div>\n",
              "      <button class=\"colab-df-convert\" onclick=\"convertToInteractive('df-ca73cf41-4763-412d-969e-e75f9119c0ed')\"\n",
              "              title=\"Convert this dataframe to an interactive table.\"\n",
              "              style=\"display:none;\">\n",
              "        \n",
              "  <svg xmlns=\"http://www.w3.org/2000/svg\" height=\"24px\"viewBox=\"0 0 24 24\"\n",
              "       width=\"24px\">\n",
              "    <path d=\"M0 0h24v24H0V0z\" fill=\"none\"/>\n",
              "    <path d=\"M18.56 5.44l.94 2.06.94-2.06 2.06-.94-2.06-.94-.94-2.06-.94 2.06-2.06.94zm-11 1L8.5 8.5l.94-2.06 2.06-.94-2.06-.94L8.5 2.5l-.94 2.06-2.06.94zm10 10l.94 2.06.94-2.06 2.06-.94-2.06-.94-.94-2.06-.94 2.06-2.06.94z\"/><path d=\"M17.41 7.96l-1.37-1.37c-.4-.4-.92-.59-1.43-.59-.52 0-1.04.2-1.43.59L10.3 9.45l-7.72 7.72c-.78.78-.78 2.05 0 2.83L4 21.41c.39.39.9.59 1.41.59.51 0 1.02-.2 1.41-.59l7.78-7.78 2.81-2.81c.8-.78.8-2.07 0-2.86zM5.41 20L4 18.59l7.72-7.72 1.47 1.35L5.41 20z\"/>\n",
              "  </svg>\n",
              "      </button>\n",
              "      \n",
              "  <style>\n",
              "    .colab-df-container {\n",
              "      display:flex;\n",
              "      flex-wrap:wrap;\n",
              "      gap: 12px;\n",
              "    }\n",
              "\n",
              "    .colab-df-convert {\n",
              "      background-color: #E8F0FE;\n",
              "      border: none;\n",
              "      border-radius: 50%;\n",
              "      cursor: pointer;\n",
              "      display: none;\n",
              "      fill: #1967D2;\n",
              "      height: 32px;\n",
              "      padding: 0 0 0 0;\n",
              "      width: 32px;\n",
              "    }\n",
              "\n",
              "    .colab-df-convert:hover {\n",
              "      background-color: #E2EBFA;\n",
              "      box-shadow: 0px 1px 2px rgba(60, 64, 67, 0.3), 0px 1px 3px 1px rgba(60, 64, 67, 0.15);\n",
              "      fill: #174EA6;\n",
              "    }\n",
              "\n",
              "    [theme=dark] .colab-df-convert {\n",
              "      background-color: #3B4455;\n",
              "      fill: #D2E3FC;\n",
              "    }\n",
              "\n",
              "    [theme=dark] .colab-df-convert:hover {\n",
              "      background-color: #434B5C;\n",
              "      box-shadow: 0px 1px 3px 1px rgba(0, 0, 0, 0.15);\n",
              "      filter: drop-shadow(0px 1px 2px rgba(0, 0, 0, 0.3));\n",
              "      fill: #FFFFFF;\n",
              "    }\n",
              "  </style>\n",
              "\n",
              "      <script>\n",
              "        const buttonEl =\n",
              "          document.querySelector('#df-ca73cf41-4763-412d-969e-e75f9119c0ed button.colab-df-convert');\n",
              "        buttonEl.style.display =\n",
              "          google.colab.kernel.accessAllowed ? 'block' : 'none';\n",
              "\n",
              "        async function convertToInteractive(key) {\n",
              "          const element = document.querySelector('#df-ca73cf41-4763-412d-969e-e75f9119c0ed');\n",
              "          const dataTable =\n",
              "            await google.colab.kernel.invokeFunction('convertToInteractive',\n",
              "                                                     [key], {});\n",
              "          if (!dataTable) return;\n",
              "\n",
              "          const docLinkHtml = 'Like what you see? Visit the ' +\n",
              "            '<a target=\"_blank\" href=https://colab.research.google.com/notebooks/data_table.ipynb>data table notebook</a>'\n",
              "            + ' to learn more about interactive tables.';\n",
              "          element.innerHTML = '';\n",
              "          dataTable['output_type'] = 'display_data';\n",
              "          await google.colab.output.renderOutput(dataTable, element);\n",
              "          const docLink = document.createElement('div');\n",
              "          docLink.innerHTML = docLinkHtml;\n",
              "          element.appendChild(docLink);\n",
              "        }\n",
              "      </script>\n",
              "    </div>\n",
              "  </div>\n",
              "  "
            ]
          },
          "metadata": {},
          "execution_count": 50
        }
      ],
      "source": [
        "#remove unnecessary stopwords\n",
        "def m_sw(x):\n",
        "    filtered_sentence = [w for w in x.split() if not w.lower() in m_stopwords]\n",
        "    return \" \".join(filtered_sentence)\n",
        "\n",
        "m_df['review'] = [m_sw(x) for x in m_df['review']]\n",
        "m_df.head()"
      ]
    },
    {
      "cell_type": "code",
      "execution_count": 51,
      "metadata": {
        "id": "g9TmNCCuPQGD"
      },
      "outputs": [],
      "source": [
        "#perform lemmatization\n",
        "from nltk.corpus import wordnet\n",
        "def m_get_wordnet_pos(word):\n",
        "    \"\"\"Map POS tag to first character lemmatize() accepts\"\"\"\n",
        "    tag = nltk.pos_tag([word])[0][1][0].upper()\n",
        "    tag_dict = {\"J\": wordnet.ADJ,\n",
        "                \"N\": wordnet.NOUN,\n",
        "                \"V\": wordnet.VERB,\n",
        "                \"R\": wordnet.ADV}\n",
        "\n",
        "    return tag_dict.get(tag, wordnet.NOUN)"
      ]
    },
    {
      "cell_type": "code",
      "execution_count": 52,
      "metadata": {
        "colab": {
          "base_uri": "https://localhost:8080/",
          "height": 206
        },
        "id": "YyjG7ike6kgt",
        "outputId": "877e029c-3b41-495a-e5ad-54be7f094080"
      },
      "outputs": [
        {
          "output_type": "execute_result",
          "data": {
            "text/plain": [
              "         star_rating                                        review_body  \\\n",
              "469223             1  I do not feel that this product help set my ma...   \n",
              "224447             1  the darker blue is 'spoty' ;blotchy' for the f...   \n",
              "1258949            1   I don't like the vital bath gel its not the same   \n",
              "4467681            1  I bought this product despite the reviews beca...   \n",
              "2399955            2  So-so, they are good for one time use only if ...   \n",
              "\n",
              "                                           review_headline  \\\n",
              "469223   It wore the same as it did before using it and...   \n",
              "224447   the darker blue is 'spoty'; blotchy' for the f...   \n",
              "1258949                                          Two Stars   \n",
              "4467681                                  Not for dark hair   \n",
              "2399955  they are good for one time use only if you don...   \n",
              "\n",
              "                                                    review  \n",
              "469223   wore same a before use would not recommend to ...  \n",
              "224447   darker blue spoty blotchy first darker blue sp...  \n",
              "1258949          two star not like vital bath gel not same  \n",
              "4467681  not dark hair bought product despite review be...  \n",
              "2399955  good one time use only if not sweat soso good ...  "
            ],
            "text/html": [
              "\n",
              "  <div id=\"df-7e506a9c-cec3-48da-b112-2d7f3ff68e4d\">\n",
              "    <div class=\"colab-df-container\">\n",
              "      <div>\n",
              "<style scoped>\n",
              "    .dataframe tbody tr th:only-of-type {\n",
              "        vertical-align: middle;\n",
              "    }\n",
              "\n",
              "    .dataframe tbody tr th {\n",
              "        vertical-align: top;\n",
              "    }\n",
              "\n",
              "    .dataframe thead th {\n",
              "        text-align: right;\n",
              "    }\n",
              "</style>\n",
              "<table border=\"1\" class=\"dataframe\">\n",
              "  <thead>\n",
              "    <tr style=\"text-align: right;\">\n",
              "      <th></th>\n",
              "      <th>star_rating</th>\n",
              "      <th>review_body</th>\n",
              "      <th>review_headline</th>\n",
              "      <th>review</th>\n",
              "    </tr>\n",
              "  </thead>\n",
              "  <tbody>\n",
              "    <tr>\n",
              "      <th>469223</th>\n",
              "      <td>1</td>\n",
              "      <td>I do not feel that this product help set my ma...</td>\n",
              "      <td>It wore the same as it did before using it and...</td>\n",
              "      <td>wore same a before use would not recommend to ...</td>\n",
              "    </tr>\n",
              "    <tr>\n",
              "      <th>224447</th>\n",
              "      <td>1</td>\n",
              "      <td>the darker blue is 'spoty' ;blotchy' for the f...</td>\n",
              "      <td>the darker blue is 'spoty'; blotchy' for the f...</td>\n",
              "      <td>darker blue spoty blotchy first darker blue sp...</td>\n",
              "    </tr>\n",
              "    <tr>\n",
              "      <th>1258949</th>\n",
              "      <td>1</td>\n",
              "      <td>I don't like the vital bath gel its not the same</td>\n",
              "      <td>Two Stars</td>\n",
              "      <td>two star not like vital bath gel not same</td>\n",
              "    </tr>\n",
              "    <tr>\n",
              "      <th>4467681</th>\n",
              "      <td>1</td>\n",
              "      <td>I bought this product despite the reviews beca...</td>\n",
              "      <td>Not for dark hair</td>\n",
              "      <td>not dark hair bought product despite review be...</td>\n",
              "    </tr>\n",
              "    <tr>\n",
              "      <th>2399955</th>\n",
              "      <td>2</td>\n",
              "      <td>So-so, they are good for one time use only if ...</td>\n",
              "      <td>they are good for one time use only if you don...</td>\n",
              "      <td>good one time use only if not sweat soso good ...</td>\n",
              "    </tr>\n",
              "  </tbody>\n",
              "</table>\n",
              "</div>\n",
              "      <button class=\"colab-df-convert\" onclick=\"convertToInteractive('df-7e506a9c-cec3-48da-b112-2d7f3ff68e4d')\"\n",
              "              title=\"Convert this dataframe to an interactive table.\"\n",
              "              style=\"display:none;\">\n",
              "        \n",
              "  <svg xmlns=\"http://www.w3.org/2000/svg\" height=\"24px\"viewBox=\"0 0 24 24\"\n",
              "       width=\"24px\">\n",
              "    <path d=\"M0 0h24v24H0V0z\" fill=\"none\"/>\n",
              "    <path d=\"M18.56 5.44l.94 2.06.94-2.06 2.06-.94-2.06-.94-.94-2.06-.94 2.06-2.06.94zm-11 1L8.5 8.5l.94-2.06 2.06-.94-2.06-.94L8.5 2.5l-.94 2.06-2.06.94zm10 10l.94 2.06.94-2.06 2.06-.94-2.06-.94-.94-2.06-.94 2.06-2.06.94z\"/><path d=\"M17.41 7.96l-1.37-1.37c-.4-.4-.92-.59-1.43-.59-.52 0-1.04.2-1.43.59L10.3 9.45l-7.72 7.72c-.78.78-.78 2.05 0 2.83L4 21.41c.39.39.9.59 1.41.59.51 0 1.02-.2 1.41-.59l7.78-7.78 2.81-2.81c.8-.78.8-2.07 0-2.86zM5.41 20L4 18.59l7.72-7.72 1.47 1.35L5.41 20z\"/>\n",
              "  </svg>\n",
              "      </button>\n",
              "      \n",
              "  <style>\n",
              "    .colab-df-container {\n",
              "      display:flex;\n",
              "      flex-wrap:wrap;\n",
              "      gap: 12px;\n",
              "    }\n",
              "\n",
              "    .colab-df-convert {\n",
              "      background-color: #E8F0FE;\n",
              "      border: none;\n",
              "      border-radius: 50%;\n",
              "      cursor: pointer;\n",
              "      display: none;\n",
              "      fill: #1967D2;\n",
              "      height: 32px;\n",
              "      padding: 0 0 0 0;\n",
              "      width: 32px;\n",
              "    }\n",
              "\n",
              "    .colab-df-convert:hover {\n",
              "      background-color: #E2EBFA;\n",
              "      box-shadow: 0px 1px 2px rgba(60, 64, 67, 0.3), 0px 1px 3px 1px rgba(60, 64, 67, 0.15);\n",
              "      fill: #174EA6;\n",
              "    }\n",
              "\n",
              "    [theme=dark] .colab-df-convert {\n",
              "      background-color: #3B4455;\n",
              "      fill: #D2E3FC;\n",
              "    }\n",
              "\n",
              "    [theme=dark] .colab-df-convert:hover {\n",
              "      background-color: #434B5C;\n",
              "      box-shadow: 0px 1px 3px 1px rgba(0, 0, 0, 0.15);\n",
              "      filter: drop-shadow(0px 1px 2px rgba(0, 0, 0, 0.3));\n",
              "      fill: #FFFFFF;\n",
              "    }\n",
              "  </style>\n",
              "\n",
              "      <script>\n",
              "        const buttonEl =\n",
              "          document.querySelector('#df-7e506a9c-cec3-48da-b112-2d7f3ff68e4d button.colab-df-convert');\n",
              "        buttonEl.style.display =\n",
              "          google.colab.kernel.accessAllowed ? 'block' : 'none';\n",
              "\n",
              "        async function convertToInteractive(key) {\n",
              "          const element = document.querySelector('#df-7e506a9c-cec3-48da-b112-2d7f3ff68e4d');\n",
              "          const dataTable =\n",
              "            await google.colab.kernel.invokeFunction('convertToInteractive',\n",
              "                                                     [key], {});\n",
              "          if (!dataTable) return;\n",
              "\n",
              "          const docLinkHtml = 'Like what you see? Visit the ' +\n",
              "            '<a target=\"_blank\" href=https://colab.research.google.com/notebooks/data_table.ipynb>data table notebook</a>'\n",
              "            + ' to learn more about interactive tables.';\n",
              "          element.innerHTML = '';\n",
              "          dataTable['output_type'] = 'display_data';\n",
              "          await google.colab.output.renderOutput(dataTable, element);\n",
              "          const docLink = document.createElement('div');\n",
              "          docLink.innerHTML = docLinkHtml;\n",
              "          element.appendChild(docLink);\n",
              "        }\n",
              "      </script>\n",
              "    </div>\n",
              "  </div>\n",
              "  "
            ]
          },
          "metadata": {},
          "execution_count": 52
        }
      ],
      "source": [
        "from nltk.stem import WordNetLemmatizer\n",
        "\n",
        "m_lemmatizer = WordNetLemmatizer()\n",
        "\n",
        "def m_lemm(x):\n",
        "  return \" \".join([m_lemmatizer.lemmatize(word, m_get_wordnet_pos(word)) for word in x.split()])\n",
        "\n",
        "m_df['review'] = [m_lemm(x) for x in m_df['review']]\n",
        "m_df.head()"
      ]
    },
    {
      "cell_type": "code",
      "execution_count": 53,
      "metadata": {
        "colab": {
          "base_uri": "https://localhost:8080/"
        },
        "id": "WCVgALMgjk2v",
        "outputId": "7e2884d0-4b26-43aa-8ff7-dbb3901b861a"
      },
      "outputs": [
        {
          "output_type": "stream",
          "name": "stdout",
          "text": [
            "212.73753333333335, 297.66911666666664\n"
          ]
        }
      ],
      "source": [
        "#avg length of reviews after data preprocessing\n",
        "m_lenAfterPreprocessing = m_df['review'].str.len().mean()\n",
        "\n",
        "print(str(m_lenAfterPreprocessing) + \", \" + str(m_lenBeforePreprocessing))"
      ]
    },
    {
      "cell_type": "markdown",
      "metadata": {
        "id": "ggT1dBDV6kgt"
      },
      "source": [
        "### TF-IDF Feature Extraction"
      ]
    },
    {
      "cell_type": "code",
      "execution_count": 54,
      "metadata": {
        "id": "MFqGzC6E6kgt",
        "colab": {
          "base_uri": "https://localhost:8080/"
        },
        "outputId": "ef36e837-c5a6-41df-ce62-538bf470c46f"
      },
      "outputs": [
        {
          "output_type": "stream",
          "name": "stdout",
          "text": [
            "(60000, 6081446)\n"
          ]
        }
      ],
      "source": [
        "from sklearn.feature_extraction.text import TfidfVectorizer\n",
        "\n",
        "m_vectorizer = TfidfVectorizer(ngram_range=(1,5))\n",
        "m_vectors = m_vectorizer.fit_transform(m_df['review'])\n",
        "\n",
        "print(m_vectors.shape)"
      ]
    },
    {
      "cell_type": "code",
      "execution_count": 55,
      "metadata": {
        "colab": {
          "base_uri": "https://localhost:8080/",
          "height": 206
        },
        "id": "1RM_FiZaQuSd",
        "outputId": "002e37e7-e582-4e81-b16d-6062fd578d79"
      },
      "outputs": [
        {
          "output_type": "execute_result",
          "data": {
            "text/plain": [
              "         star_rating                                        review_body  \\\n",
              "469223             1  I do not feel that this product help set my ma...   \n",
              "224447             1  the darker blue is 'spoty' ;blotchy' for the f...   \n",
              "1258949            1   I don't like the vital bath gel its not the same   \n",
              "4467681            1  I bought this product despite the reviews beca...   \n",
              "2399955            2  So-so, they are good for one time use only if ...   \n",
              "\n",
              "                                           review_headline  \\\n",
              "469223   It wore the same as it did before using it and...   \n",
              "224447   the darker blue is 'spoty'; blotchy' for the f...   \n",
              "1258949                                          Two Stars   \n",
              "4467681                                  Not for dark hair   \n",
              "2399955  they are good for one time use only if you don...   \n",
              "\n",
              "                                                    review  \n",
              "469223   wore same a before use would not recommend to ...  \n",
              "224447   darker blue spoty blotchy first darker blue sp...  \n",
              "1258949          two star not like vital bath gel not same  \n",
              "4467681  not dark hair bought product despite review be...  \n",
              "2399955  good one time use only if not sweat soso good ...  "
            ],
            "text/html": [
              "\n",
              "  <div id=\"df-086ff10a-ead7-4ec2-9b8f-18e09322075c\">\n",
              "    <div class=\"colab-df-container\">\n",
              "      <div>\n",
              "<style scoped>\n",
              "    .dataframe tbody tr th:only-of-type {\n",
              "        vertical-align: middle;\n",
              "    }\n",
              "\n",
              "    .dataframe tbody tr th {\n",
              "        vertical-align: top;\n",
              "    }\n",
              "\n",
              "    .dataframe thead th {\n",
              "        text-align: right;\n",
              "    }\n",
              "</style>\n",
              "<table border=\"1\" class=\"dataframe\">\n",
              "  <thead>\n",
              "    <tr style=\"text-align: right;\">\n",
              "      <th></th>\n",
              "      <th>star_rating</th>\n",
              "      <th>review_body</th>\n",
              "      <th>review_headline</th>\n",
              "      <th>review</th>\n",
              "    </tr>\n",
              "  </thead>\n",
              "  <tbody>\n",
              "    <tr>\n",
              "      <th>469223</th>\n",
              "      <td>1</td>\n",
              "      <td>I do not feel that this product help set my ma...</td>\n",
              "      <td>It wore the same as it did before using it and...</td>\n",
              "      <td>wore same a before use would not recommend to ...</td>\n",
              "    </tr>\n",
              "    <tr>\n",
              "      <th>224447</th>\n",
              "      <td>1</td>\n",
              "      <td>the darker blue is 'spoty' ;blotchy' for the f...</td>\n",
              "      <td>the darker blue is 'spoty'; blotchy' for the f...</td>\n",
              "      <td>darker blue spoty blotchy first darker blue sp...</td>\n",
              "    </tr>\n",
              "    <tr>\n",
              "      <th>1258949</th>\n",
              "      <td>1</td>\n",
              "      <td>I don't like the vital bath gel its not the same</td>\n",
              "      <td>Two Stars</td>\n",
              "      <td>two star not like vital bath gel not same</td>\n",
              "    </tr>\n",
              "    <tr>\n",
              "      <th>4467681</th>\n",
              "      <td>1</td>\n",
              "      <td>I bought this product despite the reviews beca...</td>\n",
              "      <td>Not for dark hair</td>\n",
              "      <td>not dark hair bought product despite review be...</td>\n",
              "    </tr>\n",
              "    <tr>\n",
              "      <th>2399955</th>\n",
              "      <td>2</td>\n",
              "      <td>So-so, they are good for one time use only if ...</td>\n",
              "      <td>they are good for one time use only if you don...</td>\n",
              "      <td>good one time use only if not sweat soso good ...</td>\n",
              "    </tr>\n",
              "  </tbody>\n",
              "</table>\n",
              "</div>\n",
              "      <button class=\"colab-df-convert\" onclick=\"convertToInteractive('df-086ff10a-ead7-4ec2-9b8f-18e09322075c')\"\n",
              "              title=\"Convert this dataframe to an interactive table.\"\n",
              "              style=\"display:none;\">\n",
              "        \n",
              "  <svg xmlns=\"http://www.w3.org/2000/svg\" height=\"24px\"viewBox=\"0 0 24 24\"\n",
              "       width=\"24px\">\n",
              "    <path d=\"M0 0h24v24H0V0z\" fill=\"none\"/>\n",
              "    <path d=\"M18.56 5.44l.94 2.06.94-2.06 2.06-.94-2.06-.94-.94-2.06-.94 2.06-2.06.94zm-11 1L8.5 8.5l.94-2.06 2.06-.94-2.06-.94L8.5 2.5l-.94 2.06-2.06.94zm10 10l.94 2.06.94-2.06 2.06-.94-2.06-.94-.94-2.06-.94 2.06-2.06.94z\"/><path d=\"M17.41 7.96l-1.37-1.37c-.4-.4-.92-.59-1.43-.59-.52 0-1.04.2-1.43.59L10.3 9.45l-7.72 7.72c-.78.78-.78 2.05 0 2.83L4 21.41c.39.39.9.59 1.41.59.51 0 1.02-.2 1.41-.59l7.78-7.78 2.81-2.81c.8-.78.8-2.07 0-2.86zM5.41 20L4 18.59l7.72-7.72 1.47 1.35L5.41 20z\"/>\n",
              "  </svg>\n",
              "      </button>\n",
              "      \n",
              "  <style>\n",
              "    .colab-df-container {\n",
              "      display:flex;\n",
              "      flex-wrap:wrap;\n",
              "      gap: 12px;\n",
              "    }\n",
              "\n",
              "    .colab-df-convert {\n",
              "      background-color: #E8F0FE;\n",
              "      border: none;\n",
              "      border-radius: 50%;\n",
              "      cursor: pointer;\n",
              "      display: none;\n",
              "      fill: #1967D2;\n",
              "      height: 32px;\n",
              "      padding: 0 0 0 0;\n",
              "      width: 32px;\n",
              "    }\n",
              "\n",
              "    .colab-df-convert:hover {\n",
              "      background-color: #E2EBFA;\n",
              "      box-shadow: 0px 1px 2px rgba(60, 64, 67, 0.3), 0px 1px 3px 1px rgba(60, 64, 67, 0.15);\n",
              "      fill: #174EA6;\n",
              "    }\n",
              "\n",
              "    [theme=dark] .colab-df-convert {\n",
              "      background-color: #3B4455;\n",
              "      fill: #D2E3FC;\n",
              "    }\n",
              "\n",
              "    [theme=dark] .colab-df-convert:hover {\n",
              "      background-color: #434B5C;\n",
              "      box-shadow: 0px 1px 3px 1px rgba(0, 0, 0, 0.15);\n",
              "      filter: drop-shadow(0px 1px 2px rgba(0, 0, 0, 0.3));\n",
              "      fill: #FFFFFF;\n",
              "    }\n",
              "  </style>\n",
              "\n",
              "      <script>\n",
              "        const buttonEl =\n",
              "          document.querySelector('#df-086ff10a-ead7-4ec2-9b8f-18e09322075c button.colab-df-convert');\n",
              "        buttonEl.style.display =\n",
              "          google.colab.kernel.accessAllowed ? 'block' : 'none';\n",
              "\n",
              "        async function convertToInteractive(key) {\n",
              "          const element = document.querySelector('#df-086ff10a-ead7-4ec2-9b8f-18e09322075c');\n",
              "          const dataTable =\n",
              "            await google.colab.kernel.invokeFunction('convertToInteractive',\n",
              "                                                     [key], {});\n",
              "          if (!dataTable) return;\n",
              "\n",
              "          const docLinkHtml = 'Like what you see? Visit the ' +\n",
              "            '<a target=\"_blank\" href=https://colab.research.google.com/notebooks/data_table.ipynb>data table notebook</a>'\n",
              "            + ' to learn more about interactive tables.';\n",
              "          element.innerHTML = '';\n",
              "          dataTable['output_type'] = 'display_data';\n",
              "          await google.colab.output.renderOutput(dataTable, element);\n",
              "          const docLink = document.createElement('div');\n",
              "          docLink.innerHTML = docLinkHtml;\n",
              "          element.appendChild(docLink);\n",
              "        }\n",
              "      </script>\n",
              "    </div>\n",
              "  </div>\n",
              "  "
            ]
          },
          "metadata": {},
          "execution_count": 55
        }
      ],
      "source": [
        "m_df.head()"
      ]
    },
    {
      "cell_type": "markdown",
      "source": [
        "### Train-Test Split"
      ],
      "metadata": {
        "id": "NFGefOlGS8ZA"
      }
    },
    {
      "cell_type": "code",
      "execution_count": 56,
      "metadata": {
        "colab": {
          "base_uri": "https://localhost:8080/"
        },
        "id": "XG66deIKjk2v",
        "outputId": "302d8142-d7de-4ebb-80da-1d2630fff0b0"
      },
      "outputs": [
        {
          "output_type": "stream",
          "name": "stdout",
          "text": [
            "Train:  (48000, 6081446) (48000,) Test:  ((12000, 6081446), (12000,))\n"
          ]
        }
      ],
      "source": [
        "from sklearn.model_selection import train_test_split\n",
        "\n",
        "Xtrain, Xtest, ytrain, ytest = train_test_split(m_vectors, m_df['star_rating'], test_size=0.2, random_state = 25)\n",
        "\n",
        "print(\"Train: \",Xtrain.shape,ytrain.shape,\"Test: \",(Xtest.shape,ytest.shape))"
      ]
    },
    {
      "cell_type": "markdown",
      "metadata": {
        "id": "Uj-wijwI6kgt"
      },
      "source": [
        "### Training and Evaluation:"
      ]
    },
    {
      "cell_type": "markdown",
      "source": [
        "#### Single Layer Perceptron:"
      ],
      "metadata": {
        "id": "LnqozsVdT5CH"
      }
    },
    {
      "cell_type": "markdown",
      "source": [
        "Applying the single layer perceptron model to the modified reviews columnn and calculating the evaluation metrics on that models' predictions."
      ],
      "metadata": {
        "id": "y3uS54S2T8ZD"
      }
    },
    {
      "cell_type": "code",
      "execution_count": 57,
      "metadata": {
        "id": "FRDrbDpw6kgu",
        "colab": {
          "base_uri": "https://localhost:8080/"
        },
        "outputId": "8de06064-422e-477f-91c5-d3ecd743c300"
      },
      "outputs": [
        {
          "output_type": "execute_result",
          "data": {
            "text/plain": [
              "Perceptron()"
            ]
          },
          "metadata": {},
          "execution_count": 57
        }
      ],
      "source": [
        "from sklearn.linear_model import Perceptron\n",
        "\n",
        "m_perceptron = Perceptron(tol=1e-3, random_state=0)\n",
        "m_perceptron.fit(Xtrain, ytrain)"
      ]
    },
    {
      "cell_type": "code",
      "execution_count": 58,
      "metadata": {
        "colab": {
          "base_uri": "https://localhost:8080/"
        },
        "id": "9NwikvN5jk2w",
        "outputId": "09086636-6cdd-46d7-a4ca-fbe64caa60ce"
      },
      "outputs": [
        {
          "output_type": "stream",
          "name": "stdout",
          "text": [
            "precision:  0.7782947054456152\n",
            "recall:  0.7800833333333334\n",
            "f1 score:  0.7788280303398466\n"
          ]
        }
      ],
      "source": [
        "from sklearn.metrics import precision_score, recall_score, f1_score, classification_report\n",
        "\n",
        "m_perceptron_predictions = m_perceptron.predict(Xtest)\n",
        "\n",
        "print(\"precision: \", precision_score(ytest, m_perceptron_predictions, average = 'weighted'))\n",
        "print(\"recall: \", recall_score(ytest, m_perceptron_predictions, average = 'weighted'))\n",
        "print(\"f1 score: \", f1_score(ytest, m_perceptron_predictions, average = 'weighted'))"
      ]
    },
    {
      "cell_type": "code",
      "source": [
        "print(\"classification report: \\n\", classification_report(ytest, m_perceptron_predictions))"
      ],
      "metadata": {
        "colab": {
          "base_uri": "https://localhost:8080/"
        },
        "id": "Xr6CLR2dTreG",
        "outputId": "e805d803-4d11-4285-917d-0eae13fc8e41"
      },
      "execution_count": 59,
      "outputs": [
        {
          "output_type": "stream",
          "name": "stdout",
          "text": [
            "classification report: \n",
            "               precision    recall  f1-score   support\n",
            "\n",
            "           1       0.78      0.78      0.78      3941\n",
            "           2       0.72      0.69      0.71      4066\n",
            "           3       0.83      0.87      0.85      3993\n",
            "\n",
            "    accuracy                           0.78     12000\n",
            "   macro avg       0.78      0.78      0.78     12000\n",
            "weighted avg       0.78      0.78      0.78     12000\n",
            "\n"
          ]
        }
      ]
    },
    {
      "cell_type": "markdown",
      "metadata": {
        "id": "pteYsUmk6kgu"
      },
      "source": [
        "#### Support Vector Machine (SVM):"
      ]
    },
    {
      "cell_type": "markdown",
      "source": [
        "Applying the SVM model to the modified reviews columnn and calculating the evaluation metrics on that models' predictions."
      ],
      "metadata": {
        "id": "D1xgKdulULqI"
      }
    },
    {
      "cell_type": "code",
      "execution_count": 60,
      "metadata": {
        "id": "MuZYloXV6kgu",
        "colab": {
          "base_uri": "https://localhost:8080/"
        },
        "outputId": "7863f577-3005-4c88-abbc-eb6972b8e3d2"
      },
      "outputs": [
        {
          "output_type": "stream",
          "name": "stdout",
          "text": [
            "precision:  0.7917433868031925\n",
            "recall:  0.793\n",
            "f1 score:  0.7920405196811229\n"
          ]
        }
      ],
      "source": [
        "from sklearn.svm import LinearSVC\n",
        "\n",
        "m_svm_model = LinearSVC(random_state=0)\n",
        "\n",
        "m_svm_model.fit(Xtrain, ytrain)\n",
        "\n",
        "m_svm_predictions = m_svm_model.predict(Xtest)\n",
        "\n",
        "print(\"precision: \", precision_score(ytest, m_svm_predictions, average = 'weighted'))\n",
        "print(\"recall: \", recall_score(ytest, m_svm_predictions, average = 'weighted'))\n",
        "print(\"f1 score: \", f1_score(ytest, m_svm_predictions, average = 'weighted'))"
      ]
    },
    {
      "cell_type": "code",
      "execution_count": 61,
      "metadata": {
        "colab": {
          "base_uri": "https://localhost:8080/"
        },
        "id": "oVzLPm7Djk2w",
        "outputId": "f106d103-80dc-417f-ccac-9b97766c8e9b"
      },
      "outputs": [
        {
          "output_type": "stream",
          "name": "stdout",
          "text": [
            "classification report: \n",
            "               precision    recall  f1-score   support\n",
            "\n",
            "           1       0.78      0.81      0.80      3941\n",
            "           2       0.74      0.70      0.72      4066\n",
            "           3       0.85      0.87      0.86      3993\n",
            "\n",
            "    accuracy                           0.79     12000\n",
            "   macro avg       0.79      0.79      0.79     12000\n",
            "weighted avg       0.79      0.79      0.79     12000\n",
            "\n"
          ]
        }
      ],
      "source": [
        "print(\"classification report: \\n\", classification_report(ytest, m_svm_predictions))"
      ]
    },
    {
      "cell_type": "markdown",
      "metadata": {
        "id": "Y72mFp6U6kgu"
      },
      "source": [
        "#### Logistic Regression"
      ]
    },
    {
      "cell_type": "markdown",
      "source": [
        "Applying the SVM model to the modified reviews columnn and calculating the evaluation metrics on that models' predictions."
      ],
      "metadata": {
        "id": "AiJxWoguUzWT"
      }
    },
    {
      "cell_type": "code",
      "execution_count": 62,
      "metadata": {
        "id": "JjqAUUnA6kgu",
        "colab": {
          "base_uri": "https://localhost:8080/"
        },
        "outputId": "f6def5e8-545b-4b0e-9135-927411a566ca"
      },
      "outputs": [
        {
          "output_type": "stream",
          "name": "stdout",
          "text": [
            "precision:  0.7844740969430881\n",
            "recall:  0.7845833333333333\n",
            "f1 score:  0.7844533311254656\n"
          ]
        }
      ],
      "source": [
        "from sklearn.linear_model import LogisticRegression\n",
        "\n",
        "m_logistic_model = LogisticRegression(max_iter=1000,solver='saga')\n",
        "\n",
        "m_logistic_model.fit(Xtrain,ytrain)\n",
        "\n",
        "m_logistic_predictions = m_logistic_model.predict(Xtest)\n",
        "\n",
        "\n",
        "print(\"precision: \", precision_score(ytest, m_logistic_predictions, average = 'weighted'))\n",
        "print(\"recall: \", recall_score(ytest,  m_logistic_predictions, average = 'weighted'))\n",
        "print(\"f1 score: \", f1_score(ytest,  m_logistic_predictions, average = 'weighted'))"
      ]
    },
    {
      "cell_type": "code",
      "source": [
        "print(\"classification report: \\n\", classification_report(ytest, m_logistic_predictions))"
      ],
      "metadata": {
        "colab": {
          "base_uri": "https://localhost:8080/"
        },
        "id": "xD6FKEq0VHc0",
        "outputId": "1038adf7-380c-4157-ce10-1e276c23937f"
      },
      "execution_count": 63,
      "outputs": [
        {
          "output_type": "stream",
          "name": "stdout",
          "text": [
            "classification report: \n",
            "               precision    recall  f1-score   support\n",
            "\n",
            "           1       0.78      0.80      0.79      3941\n",
            "           2       0.72      0.71      0.72      4066\n",
            "           3       0.85      0.84      0.85      3993\n",
            "\n",
            "    accuracy                           0.78     12000\n",
            "   macro avg       0.78      0.79      0.78     12000\n",
            "weighted avg       0.78      0.78      0.78     12000\n",
            "\n"
          ]
        }
      ]
    },
    {
      "cell_type": "markdown",
      "metadata": {
        "id": "3c4IVcEl6kgu"
      },
      "source": [
        "#### Naive Bayes"
      ]
    },
    {
      "cell_type": "markdown",
      "source": [
        "Applying the SVM model to the modified reviews columnn and calculating the evaluation metrics on that models' predictions."
      ],
      "metadata": {
        "id": "cOvA_z63Vgx_"
      }
    },
    {
      "cell_type": "code",
      "execution_count": 64,
      "metadata": {
        "id": "EGUf-mDx6kgu",
        "colab": {
          "base_uri": "https://localhost:8080/"
        },
        "outputId": "9dbccd7e-f95d-44f1-e9d6-b4b72a96786b"
      },
      "outputs": [
        {
          "output_type": "stream",
          "name": "stdout",
          "text": [
            "precision:  0.7858596191223747\n",
            "recall:  0.77575\n",
            "f1 score:  0.778196889880948\n"
          ]
        }
      ],
      "source": [
        "from sklearn.naive_bayes import MultinomialNB\n",
        "\n",
        "m_nb_model = MultinomialNB()\n",
        "\n",
        "m_nb_model.fit(Xtrain, ytrain)\n",
        "\n",
        "m_nb_predictions = m_nb_model.predict(Xtest)\n",
        "\n",
        "print(\"precision: \", precision_score(ytest, m_nb_predictions , average = 'weighted'))\n",
        "print(\"recall: \", recall_score(ytest,  m_nb_predictions , average = 'weighted'))\n",
        "print(\"f1 score: \", f1_score(ytest,  m_nb_predictions , average = 'weighted'))"
      ]
    },
    {
      "cell_type": "code",
      "execution_count": 65,
      "metadata": {
        "colab": {
          "base_uri": "https://localhost:8080/"
        },
        "id": "996ICF4Njk2x",
        "outputId": "b0d01091-36a7-4d06-a3fd-b4ba062c980f"
      },
      "outputs": [
        {
          "output_type": "stream",
          "name": "stdout",
          "text": [
            "classification report: \n",
            "               precision    recall  f1-score   support\n",
            "\n",
            "           1       0.76      0.80      0.78      3941\n",
            "           2       0.69      0.75      0.72      4066\n",
            "           3       0.91      0.77      0.84      3993\n",
            "\n",
            "    accuracy                           0.78     12000\n",
            "   macro avg       0.79      0.78      0.78     12000\n",
            "weighted avg       0.79      0.78      0.78     12000\n",
            "\n"
          ]
        }
      ],
      "source": [
        "print(\"classification report: \\n\", classification_report(ytest, m_nb_predictions ))"
      ]
    },
    {
      "cell_type": "markdown",
      "source": [
        "## Final Evaluation Metrics"
      ],
      "metadata": {
        "id": "jR0BFgOCcUI7"
      }
    },
    {
      "cell_type": "markdown",
      "source": [
        "Average Review Lengths Before and After Data Cleaning"
      ],
      "metadata": {
        "id": "Xn6AzFkWcVuW"
      }
    },
    {
      "cell_type": "code",
      "source": [
        "print(str(m_lenBeforeCleaning) + \", \" + str(m_lenAfterCleaning))"
      ],
      "metadata": {
        "colab": {
          "base_uri": "https://localhost:8080/"
        },
        "id": "YK86OBjKcOo7",
        "outputId": "27036ee2-b2bc-43f3-ee35-3f6e9840e51f"
      },
      "execution_count": 66,
      "outputs": [
        {
          "output_type": "stream",
          "name": "stdout",
          "text": [
            "310.6356166666667, 297.66911666666664\n"
          ]
        }
      ]
    },
    {
      "cell_type": "markdown",
      "source": [
        "Average Review Lengths Before and After Data Preprocessing"
      ],
      "metadata": {
        "id": "JETaebZhckCF"
      }
    },
    {
      "cell_type": "code",
      "source": [
        "print(str(m_lenBeforePreprocessing) + \", \" + str(m_lenAfterPreprocessing))"
      ],
      "metadata": {
        "colab": {
          "base_uri": "https://localhost:8080/"
        },
        "id": "csDgBsg_cSpP",
        "outputId": "b607e1a4-2036-4e5e-e64e-96d4c52f88a1"
      },
      "execution_count": 67,
      "outputs": [
        {
          "output_type": "stream",
          "name": "stdout",
          "text": [
            "297.66911666666664, 212.73753333333335\n"
          ]
        }
      ]
    },
    {
      "cell_type": "markdown",
      "source": [
        "Classification Report: Single Layer Perceptron"
      ],
      "metadata": {
        "id": "uiEsqFlzc2c9"
      }
    },
    {
      "cell_type": "code",
      "source": [
        "print(classification_report(ytest, m_perceptron_predictions))"
      ],
      "metadata": {
        "colab": {
          "base_uri": "https://localhost:8080/"
        },
        "id": "vSyyAm63c0xZ",
        "outputId": "649886ba-e379-4deb-bf8d-aa28dad6d9b1"
      },
      "execution_count": 68,
      "outputs": [
        {
          "output_type": "stream",
          "name": "stdout",
          "text": [
            "              precision    recall  f1-score   support\n",
            "\n",
            "           1       0.78      0.78      0.78      3941\n",
            "           2       0.72      0.69      0.71      4066\n",
            "           3       0.83      0.87      0.85      3993\n",
            "\n",
            "    accuracy                           0.78     12000\n",
            "   macro avg       0.78      0.78      0.78     12000\n",
            "weighted avg       0.78      0.78      0.78     12000\n",
            "\n"
          ]
        }
      ]
    },
    {
      "cell_type": "markdown",
      "source": [
        "Classification Report: SVM"
      ],
      "metadata": {
        "id": "GKEH_ldHdCHP"
      }
    },
    {
      "cell_type": "code",
      "source": [
        "print(classification_report(ytest, m_svm_predictions))"
      ],
      "metadata": {
        "colab": {
          "base_uri": "https://localhost:8080/"
        },
        "id": "mu4qQ2DjdAOW",
        "outputId": "424f7c36-600b-4476-88fe-2ab81c58641e"
      },
      "execution_count": 69,
      "outputs": [
        {
          "output_type": "stream",
          "name": "stdout",
          "text": [
            "              precision    recall  f1-score   support\n",
            "\n",
            "           1       0.78      0.81      0.80      3941\n",
            "           2       0.74      0.70      0.72      4066\n",
            "           3       0.85      0.87      0.86      3993\n",
            "\n",
            "    accuracy                           0.79     12000\n",
            "   macro avg       0.79      0.79      0.79     12000\n",
            "weighted avg       0.79      0.79      0.79     12000\n",
            "\n"
          ]
        }
      ]
    },
    {
      "cell_type": "markdown",
      "source": [
        "Classification Report: Logistic Regression"
      ],
      "metadata": {
        "id": "M2tQWAaPdJaW"
      }
    },
    {
      "cell_type": "code",
      "source": [
        "print(classification_report(ytest, m_logistic_predictions))"
      ],
      "metadata": {
        "colab": {
          "base_uri": "https://localhost:8080/"
        },
        "id": "jychPCIOdIZx",
        "outputId": "e9d23d6f-4b7f-4bee-84e8-7fc98b6f0624"
      },
      "execution_count": 70,
      "outputs": [
        {
          "output_type": "stream",
          "name": "stdout",
          "text": [
            "              precision    recall  f1-score   support\n",
            "\n",
            "           1       0.78      0.80      0.79      3941\n",
            "           2       0.72      0.71      0.72      4066\n",
            "           3       0.85      0.84      0.85      3993\n",
            "\n",
            "    accuracy                           0.78     12000\n",
            "   macro avg       0.78      0.79      0.78     12000\n",
            "weighted avg       0.78      0.78      0.78     12000\n",
            "\n"
          ]
        }
      ]
    },
    {
      "cell_type": "markdown",
      "source": [
        "Classification Report: Multinomial Naive Bayes"
      ],
      "metadata": {
        "id": "2E0_GFg4dSMB"
      }
    },
    {
      "cell_type": "code",
      "source": [
        "print(classification_report(ytest, m_nb_predictions))"
      ],
      "metadata": {
        "colab": {
          "base_uri": "https://localhost:8080/"
        },
        "id": "ATvybAlVdRJo",
        "outputId": "5b58af90-77de-4424-c252-62dc8b40bcd2"
      },
      "execution_count": 71,
      "outputs": [
        {
          "output_type": "stream",
          "name": "stdout",
          "text": [
            "              precision    recall  f1-score   support\n",
            "\n",
            "           1       0.76      0.80      0.78      3941\n",
            "           2       0.69      0.75      0.72      4066\n",
            "           3       0.91      0.77      0.84      3993\n",
            "\n",
            "    accuracy                           0.78     12000\n",
            "   macro avg       0.79      0.78      0.78     12000\n",
            "weighted avg       0.79      0.78      0.78     12000\n",
            "\n"
          ]
        }
      ]
    }
  ],
  "metadata": {
    "accelerator": "GPU",
    "colab": {
      "provenance": []
    },
    "gpuClass": "standard",
    "kernelspec": {
      "display_name": "Python 3 (ipykernel)",
      "language": "python",
      "name": "python3"
    },
    "language_info": {
      "codemirror_mode": {
        "name": "ipython",
        "version": 3
      },
      "file_extension": ".py",
      "mimetype": "text/x-python",
      "name": "python",
      "nbconvert_exporter": "python",
      "pygments_lexer": "ipython3",
      "version": "3.9.12"
    }
  },
  "nbformat": 4,
  "nbformat_minor": 0
}